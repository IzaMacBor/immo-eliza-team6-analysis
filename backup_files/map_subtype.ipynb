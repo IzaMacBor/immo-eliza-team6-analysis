{
 "cells": [
  {
   "cell_type": "code",
   "execution_count": 13,
   "metadata": {},
   "outputs": [
    {
     "name": "stdout",
     "output_type": "stream",
     "text": [
      "<class 'pandas.core.frame.DataFrame'>\n",
      "RangeIndex: 7352 entries, 0 to 7351\n",
      "Data columns (total 24 columns):\n",
      " #   Column              Non-Null Count  Dtype  \n",
      "---  ------              --------------  -----  \n",
      " 0   id                  7352 non-null   int64  \n",
      " 1   locality_name       7352 non-null   object \n",
      " 2   Postal_code         7352 non-null   object \n",
      " 3   Price               7352 non-null   int64  \n",
      " 4   Subtype             7352 non-null   object \n",
      " 5   Number_of_bedrooms  7352 non-null   int64  \n",
      " 6   Living_area         7352 non-null   int64  \n",
      " 7   street              7352 non-null   object \n",
      " 8   number              7325 non-null   object \n",
      " 9   latitude            7342 non-null   float64\n",
      " 10  longitude           7342 non-null   float64\n",
      " 11  Open_fire           7352 non-null   int64  \n",
      " 12  Swimming_Pool       7352 non-null   int64  \n",
      " 13  hasTerrace          7352 non-null   int64  \n",
      " 14  terraceSurface      7352 non-null   int64  \n",
      " 15  gardenSurface       7352 non-null   int64  \n",
      " 16  Kitchen_type        4591 non-null   object \n",
      " 17  Number_of_facades   7352 non-null   int64  \n",
      " 18  State_of_building   6674 non-null   object \n",
      " 19  Furnished           7352 non-null   int64  \n",
      " 20  epc                 7025 non-null   object \n",
      " 21  landSurface         6299 non-null   float64\n",
      " 22  price_per_sqm       7352 non-null   float64\n",
      " 23  price_per_sqm_land  6299 non-null   float64\n",
      "dtypes: float64(5), int64(11), object(8)\n",
      "memory usage: 1.3+ MB\n"
     ]
    }
   ],
   "source": [
    "import pandas as pd\n",
    "\n",
    "file_path =  r'C:\\Users\\tom_v\\becode_projects\\3_ImmoWeb_scraper\\immo-eliza-team6-analysis\\data\\clean\\cleaned_data_incl_outliers.csv'\n",
    "\n",
    "df = pd.read_csv(file_path, sep = ',')\n",
    "\n",
    "df.info()"
   ]
  },
  {
   "cell_type": "code",
   "execution_count": 14,
   "metadata": {},
   "outputs": [
    {
     "data": {
      "text/plain": [
       "np.float64(0.0)"
      ]
     },
     "execution_count": 14,
     "metadata": {},
     "output_type": "execute_result"
    }
   ],
   "source": [
    "#Check the missing values\n",
    "df['Subtype'].isnull().mean()*100"
   ]
  },
  {
   "cell_type": "code",
   "execution_count": 15,
   "metadata": {},
   "outputs": [
    {
     "data": {
      "text/plain": [
       "np.int64(0)"
      ]
     },
     "execution_count": 15,
     "metadata": {},
     "output_type": "execute_result"
    }
   ],
   "source": [
    "df['Subtype'].isnull().sum()"
   ]
  },
  {
   "cell_type": "code",
   "execution_count": 16,
   "metadata": {},
   "outputs": [
    {
     "data": {
      "text/plain": [
       "Subtype\n",
       "House                 5663\n",
       "Villa                  802\n",
       "Mixed use building     282\n",
       "Apartment block        220\n",
       "Mansion                155\n",
       "Town house             101\n",
       "Country cottage         82\n",
       "Farmhouse               37\n",
       "Manor house             10\n",
       "Name: count, dtype: int64"
      ]
     },
     "execution_count": 16,
     "metadata": {},
     "output_type": "execute_result"
    }
   ],
   "source": [
    "frequency = df['Subtype'].value_counts()\n",
    "frequency"
   ]
  },
  {
   "cell_type": "code",
   "execution_count": 17,
   "metadata": {},
   "outputs": [
    {
     "data": {
      "text/plain": [
       "Subtype\n",
       "House                 5764\n",
       "Villa                  967\n",
       "Mixed use building     282\n",
       "Commercial             220\n",
       "Farmhouse              119\n",
       "Name: count, dtype: int64"
      ]
     },
     "execution_count": 17,
     "metadata": {},
     "output_type": "execute_result"
    }
   ],
   "source": [
    "\n",
    "\n",
    "category_map = {'Mansion': 'Villa', 'Manor house': 'Villa', 'Country cottage':'Farmhouse','Town house':'House','Miwed use building':'Commercial','Apartment block':'Commercial'}\n",
    "df['Subtype'] = df['Subtype'].map(category_map).fillna(df['Subtype'])\n",
    "\n",
    "frequency = df['Subtype'].value_counts()\n",
    "frequency"
   ]
  },
  {
   "cell_type": "markdown",
   "metadata": {},
   "source": [
    "### FILTER ON SUBTYPE 'HOUSE' ONLY AND SAVE OUTPUT TO .csv FILE"
   ]
  },
  {
   "cell_type": "code",
   "execution_count": 12,
   "metadata": {},
   "outputs": [
    {
     "name": "stdout",
     "output_type": "stream",
     "text": [
      "The CSV file was saved as 'houses_incl_outliers.csv'.\n",
      "<class 'pandas.core.frame.DataFrame'>\n",
      "Index: 5663 entries, 0 to 7351\n",
      "Data columns (total 24 columns):\n",
      " #   Column              Non-Null Count  Dtype  \n",
      "---  ------              --------------  -----  \n",
      " 0   id                  5663 non-null   int64  \n",
      " 1   locality_name       5663 non-null   object \n",
      " 2   Postal_code         5663 non-null   object \n",
      " 3   Price               5663 non-null   int64  \n",
      " 4   Subtype             5663 non-null   object \n",
      " 5   Number_of_bedrooms  5663 non-null   int64  \n",
      " 6   Living_area         5663 non-null   int64  \n",
      " 7   street              5663 non-null   object \n",
      " 8   number              5646 non-null   object \n",
      " 9   latitude            5661 non-null   float64\n",
      " 10  longitude           5661 non-null   float64\n",
      " 11  Open_fire           5663 non-null   int64  \n",
      " 12  Swimming_Pool       5663 non-null   int64  \n",
      " 13  hasTerrace          5663 non-null   int64  \n",
      " 14  terraceSurface      5663 non-null   int64  \n",
      " 15  gardenSurface       5663 non-null   int64  \n",
      " 16  Kitchen_type        3512 non-null   object \n",
      " 17  Number_of_facades   5663 non-null   int64  \n",
      " 18  State_of_building   5130 non-null   object \n",
      " 19  Furnished           5663 non-null   int64  \n",
      " 20  epc                 5408 non-null   object \n",
      " 21  landSurface         4826 non-null   float64\n",
      " 22  price_per_sqm       5663 non-null   float64\n",
      " 23  price_per_sqm_land  4826 non-null   float64\n",
      "dtypes: float64(5), int64(11), object(8)\n",
      "memory usage: 1.1+ MB\n"
     ]
    }
   ],
   "source": [
    "# Filter data on subtype 'house' only\n",
    "\n",
    "houses_incl_outliers = df[df['Subtype'] == 'House']\n",
    "\n",
    "# Save data to new csv file**SAVING DATA TO NEW FILE**\n",
    "\n",
    "houses_incl_outliers.to_csv(r'..\\data\\clean\\houses_incl_outliers.csv', index=False)\n",
    "\n",
    "print(\"The CSV file was saved as 'houses_incl_outliers.csv'.\")\n",
    "\n",
    "# Display first 5 rows\n",
    "houses_incl_outliers.head()\n",
    "houses_incl_outliers.info()\n"
   ]
  }
 ],
 "metadata": {
  "kernelspec": {
   "display_name": ".venv",
   "language": "python",
   "name": "python3"
  },
  "language_info": {
   "codemirror_mode": {
    "name": "ipython",
    "version": 3
   },
   "file_extension": ".py",
   "mimetype": "text/x-python",
   "name": "python",
   "nbconvert_exporter": "python",
   "pygments_lexer": "ipython3",
   "version": "3.12.6"
  }
 },
 "nbformat": 4,
 "nbformat_minor": 2
}
