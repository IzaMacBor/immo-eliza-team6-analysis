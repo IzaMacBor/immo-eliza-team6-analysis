{
 "cells": [
  {
   "cell_type": "markdown",
   "metadata": {},
   "source": [
    "**OUTLIER DETECTION AND HANDLING - CATEGORICAL DATA**"
   ]
  },
  {
   "cell_type": "code",
   "execution_count": 98,
   "metadata": {},
   "outputs": [],
   "source": [
    "import pandas as pd\n",
    "import seaborn as sns\n",
    "import matplotlib.pyplot as plt\n",
    "import geopandas as gpd\n",
    "from shapely.geometry import Point\n",
    "import folium\n",
    "from IPython.display import IFrame\n",
    "import webbrowser"
   ]
  },
  {
   "cell_type": "markdown",
   "metadata": {},
   "source": [
    "**Generating a pandas dataframe from the source .csv file**"
   ]
  },
  {
   "cell_type": "code",
   "execution_count": 99,
   "metadata": {},
   "outputs": [
    {
     "data": {
      "text/html": [
       "<div>\n",
       "<style scoped>\n",
       "    .dataframe tbody tr th:only-of-type {\n",
       "        vertical-align: middle;\n",
       "    }\n",
       "\n",
       "    .dataframe tbody tr th {\n",
       "        vertical-align: top;\n",
       "    }\n",
       "\n",
       "    .dataframe thead th {\n",
       "        text-align: right;\n",
       "    }\n",
       "</style>\n",
       "<table border=\"1\" class=\"dataframe\">\n",
       "  <thead>\n",
       "    <tr style=\"text-align: right;\">\n",
       "      <th></th>\n",
       "      <th>id</th>\n",
       "      <th>locality_name</th>\n",
       "      <th>Postal_code</th>\n",
       "      <th>Price</th>\n",
       "      <th>Subtype</th>\n",
       "      <th>Number_of_bedrooms</th>\n",
       "      <th>Living_area</th>\n",
       "      <th>street</th>\n",
       "      <th>number</th>\n",
       "      <th>latitude</th>\n",
       "      <th>longitude</th>\n",
       "      <th>Open_fire</th>\n",
       "      <th>Swimming_Pool</th>\n",
       "      <th>hasTerrace</th>\n",
       "      <th>terraceSurface</th>\n",
       "      <th>gardenSurface</th>\n",
       "      <th>Kitchen_type</th>\n",
       "      <th>Number_of_facades</th>\n",
       "      <th>State_of_building</th>\n",
       "      <th>Furnished</th>\n",
       "      <th>epc</th>\n",
       "      <th>landSurface</th>\n",
       "      <th>price_per_sqm</th>\n",
       "      <th>price_per_sqm_land</th>\n",
       "      <th>Province</th>\n",
       "      <th>Assigned_City</th>\n",
       "      <th>Has_Assigned_City</th>\n",
       "    </tr>\n",
       "  </thead>\n",
       "  <tbody>\n",
       "    <tr>\n",
       "      <th>0</th>\n",
       "      <td>20252354</td>\n",
       "      <td>Ronse</td>\n",
       "      <td>9600</td>\n",
       "      <td>319000</td>\n",
       "      <td>House</td>\n",
       "      <td>3</td>\n",
       "      <td>125</td>\n",
       "      <td>Rotterij</td>\n",
       "      <td>148</td>\n",
       "      <td>50.744176</td>\n",
       "      <td>3.625722</td>\n",
       "      <td>0</td>\n",
       "      <td>0</td>\n",
       "      <td>1</td>\n",
       "      <td>0</td>\n",
       "      <td>370</td>\n",
       "      <td>NaN</td>\n",
       "      <td>4</td>\n",
       "      <td>To renovate</td>\n",
       "      <td>0</td>\n",
       "      <td>F</td>\n",
       "      <td>767.0</td>\n",
       "      <td>2552.000000</td>\n",
       "      <td>415.906128</td>\n",
       "      <td>East Flanders</td>\n",
       "      <td>NaN</td>\n",
       "      <td>True</td>\n",
       "    </tr>\n",
       "    <tr>\n",
       "      <th>1</th>\n",
       "      <td>20251003</td>\n",
       "      <td>Geraardsbergen</td>\n",
       "      <td>9500</td>\n",
       "      <td>299999</td>\n",
       "      <td>House</td>\n",
       "      <td>3</td>\n",
       "      <td>167</td>\n",
       "      <td>Pirrestraat</td>\n",
       "      <td>17</td>\n",
       "      <td>50.752121</td>\n",
       "      <td>3.925495</td>\n",
       "      <td>0</td>\n",
       "      <td>0</td>\n",
       "      <td>1</td>\n",
       "      <td>0</td>\n",
       "      <td>895</td>\n",
       "      <td>Installed</td>\n",
       "      <td>2</td>\n",
       "      <td>Good</td>\n",
       "      <td>0</td>\n",
       "      <td>D</td>\n",
       "      <td>1050.0</td>\n",
       "      <td>1796.401198</td>\n",
       "      <td>285.713333</td>\n",
       "      <td>East Flanders</td>\n",
       "      <td>NaN</td>\n",
       "      <td>True</td>\n",
       "    </tr>\n",
       "    <tr>\n",
       "      <th>2</th>\n",
       "      <td>20252002</td>\n",
       "      <td>Mechelen</td>\n",
       "      <td>2800</td>\n",
       "      <td>275000</td>\n",
       "      <td>House</td>\n",
       "      <td>3</td>\n",
       "      <td>154</td>\n",
       "      <td>Caputsteenstraat</td>\n",
       "      <td>150</td>\n",
       "      <td>51.033269</td>\n",
       "      <td>4.491795</td>\n",
       "      <td>0</td>\n",
       "      <td>0</td>\n",
       "      <td>1</td>\n",
       "      <td>10</td>\n",
       "      <td>20</td>\n",
       "      <td>Semi equipped</td>\n",
       "      <td>2</td>\n",
       "      <td>To renovate</td>\n",
       "      <td>0</td>\n",
       "      <td>E</td>\n",
       "      <td>120.0</td>\n",
       "      <td>1785.714286</td>\n",
       "      <td>2291.666667</td>\n",
       "      <td>Antwerp</td>\n",
       "      <td>NaN</td>\n",
       "      <td>True</td>\n",
       "    </tr>\n",
       "    <tr>\n",
       "      <th>3</th>\n",
       "      <td>20252352</td>\n",
       "      <td>Gooik</td>\n",
       "      <td>1755</td>\n",
       "      <td>295000</td>\n",
       "      <td>House</td>\n",
       "      <td>3</td>\n",
       "      <td>172</td>\n",
       "      <td>Strijlandstraat</td>\n",
       "      <td>45</td>\n",
       "      <td>50.791877</td>\n",
       "      <td>4.084293</td>\n",
       "      <td>0</td>\n",
       "      <td>0</td>\n",
       "      <td>1</td>\n",
       "      <td>0</td>\n",
       "      <td>300</td>\n",
       "      <td>NaN</td>\n",
       "      <td>3</td>\n",
       "      <td>To renovate</td>\n",
       "      <td>0</td>\n",
       "      <td>F</td>\n",
       "      <td>309.0</td>\n",
       "      <td>1715.116279</td>\n",
       "      <td>954.692557</td>\n",
       "      <td>Brabant_Wallon</td>\n",
       "      <td>NaN</td>\n",
       "      <td>True</td>\n",
       "    </tr>\n",
       "    <tr>\n",
       "      <th>4</th>\n",
       "      <td>20250985</td>\n",
       "      <td>Oetingen</td>\n",
       "      <td>1755</td>\n",
       "      <td>560000</td>\n",
       "      <td>House</td>\n",
       "      <td>4</td>\n",
       "      <td>350</td>\n",
       "      <td>Blijkheerstraat</td>\n",
       "      <td>70</td>\n",
       "      <td>50.775412</td>\n",
       "      <td>4.047057</td>\n",
       "      <td>0</td>\n",
       "      <td>0</td>\n",
       "      <td>1</td>\n",
       "      <td>40</td>\n",
       "      <td>32</td>\n",
       "      <td>Installed</td>\n",
       "      <td>3</td>\n",
       "      <td>Good</td>\n",
       "      <td>0</td>\n",
       "      <td>C</td>\n",
       "      <td>NaN</td>\n",
       "      <td>1600.000000</td>\n",
       "      <td>NaN</td>\n",
       "      <td>Brabant_Wallon</td>\n",
       "      <td>NaN</td>\n",
       "      <td>True</td>\n",
       "    </tr>\n",
       "  </tbody>\n",
       "</table>\n",
       "</div>"
      ],
      "text/plain": [
       "         id   locality_name  Postal_code   Price Subtype  Number_of_bedrooms  \\\n",
       "0  20252354           Ronse         9600  319000   House                   3   \n",
       "1  20251003  Geraardsbergen         9500  299999   House                   3   \n",
       "2  20252002        Mechelen         2800  275000   House                   3   \n",
       "3  20252352           Gooik         1755  295000   House                   3   \n",
       "4  20250985        Oetingen         1755  560000   House                   4   \n",
       "\n",
       "   Living_area            street number   latitude  longitude  Open_fire  \\\n",
       "0          125          Rotterij    148  50.744176   3.625722          0   \n",
       "1          167       Pirrestraat     17  50.752121   3.925495          0   \n",
       "2          154  Caputsteenstraat    150  51.033269   4.491795          0   \n",
       "3          172   Strijlandstraat     45  50.791877   4.084293          0   \n",
       "4          350   Blijkheerstraat     70  50.775412   4.047057          0   \n",
       "\n",
       "   Swimming_Pool  hasTerrace  terraceSurface  gardenSurface   Kitchen_type  \\\n",
       "0              0           1               0            370            NaN   \n",
       "1              0           1               0            895      Installed   \n",
       "2              0           1              10             20  Semi equipped   \n",
       "3              0           1               0            300            NaN   \n",
       "4              0           1              40             32      Installed   \n",
       "\n",
       "   Number_of_facades State_of_building  Furnished epc  landSurface  \\\n",
       "0                  4       To renovate          0   F        767.0   \n",
       "1                  2              Good          0   D       1050.0   \n",
       "2                  2       To renovate          0   E        120.0   \n",
       "3                  3       To renovate          0   F        309.0   \n",
       "4                  3              Good          0   C          NaN   \n",
       "\n",
       "   price_per_sqm  price_per_sqm_land        Province Assigned_City  \\\n",
       "0    2552.000000          415.906128   East Flanders           NaN   \n",
       "1    1796.401198          285.713333   East Flanders           NaN   \n",
       "2    1785.714286         2291.666667         Antwerp           NaN   \n",
       "3    1715.116279          954.692557  Brabant_Wallon           NaN   \n",
       "4    1600.000000                 NaN  Brabant_Wallon           NaN   \n",
       "\n",
       "   Has_Assigned_City  \n",
       "0               True  \n",
       "1               True  \n",
       "2               True  \n",
       "3               True  \n",
       "4               True  "
      ]
     },
     "execution_count": 99,
     "metadata": {},
     "output_type": "execute_result"
    }
   ],
   "source": [
    "# Set options to show all columns\n",
    "pd.set_option('display.max_columns', None)\n",
    "\n",
    "# Load csv file and generate pandas dataframe\n",
    "input_csv = r'..\\data\\clean\\after_step_2_enhancing.csv' # Fill your path to file\n",
    "enhanced_dataset_1 = pd.read_csv(input_csv, sep = ',')\n",
    "\n",
    "enhanced_dataset_1.head()"
   ]
  },
  {
   "cell_type": "markdown",
   "metadata": {},
   "source": [
    "**Categorical data - subtype**"
   ]
  },
  {
   "cell_type": "markdown",
   "metadata": {},
   "source": [
    "*Checking for missing values and displaying the distribution of the amount of properties over the category*"
   ]
  },
  {
   "cell_type": "code",
   "execution_count": 100,
   "metadata": {},
   "outputs": [
    {
     "name": "stdout",
     "output_type": "stream",
     "text": [
      "Mean:  0.0\n",
      "Amount of missing values:  0\n",
      "Subtype\n",
      "House    5756\n",
      "Name: count, dtype: int64\n"
     ]
    },
    {
     "data": {
      "image/png": "[encoded data removed]",
      "text/plain": [
       "<Figure size 1400x400 with 1 Axes>"
      ]
     },
     "metadata": {},
     "output_type": "display_data"
    }
   ],
   "source": [
    "#Check the missing values\n",
    "print(\"Mean: \",enhanced_dataset_1['Subtype'].isnull().mean()*100)\n",
    "print(\"Amount of missing values: \", enhanced_dataset_1['Subtype'].isnull().sum())\n",
    "frequency = enhanced_dataset_1['Subtype'].value_counts()\n",
    "print(frequency)\n",
    "\n",
    "#Detecting Outliers on plot\n",
    "\n",
    "plt.figure(figsize=(14, 4))\n",
    "sns.barplot(x=frequency.index, y=frequency.values)\n",
    "plt.title('Frequency of Subtype')\n",
    "plt.xlabel('Subtype')\n",
    "plt.ylabel('Frequency')\n",
    "plt.show()"
   ]
  },
  {
   "cell_type": "markdown",
   "metadata": {},
   "source": [
    "*Creating a frequency dataframe and Determining rare values*"
   ]
  },
  {
   "cell_type": "code",
   "execution_count": 101,
   "metadata": {},
   "outputs": [
    {
     "name": "stdout",
     "output_type": "stream",
     "text": [
      "  subtype  count\n",
      "0   House   5756\n"
     ]
    }
   ],
   "source": [
    "# Creating a seperate frequency dataframe\n",
    "\n",
    "frequency_df = frequency.reset_index()\n",
    "frequency_df.columns = ['subtype', 'count']\n",
    "\n",
    "print(frequency_df)"
   ]
  },
  {
   "cell_type": "code",
   "execution_count": 102,
   "metadata": {},
   "outputs": [
    {
     "name": "stdout",
     "output_type": "stream",
     "text": [
      "Rare Values: Series([], Name: count, dtype: int64)\n"
     ]
    }
   ],
   "source": [
    "#Determing the rare values (threshold 5%)\n",
    "threshold = 0.05 * len(enhanced_dataset_1)  \n",
    "rare_categories = frequency[frequency < threshold]\n",
    "\n",
    "print(\"Rare Values:\", rare_categories)"
   ]
  },
  {
   "cell_type": "markdown",
   "metadata": {},
   "source": [
    "*Encoding - One-Hot Encoding*"
   ]
  },
  {
   "cell_type": "code",
   "execution_count": 103,
   "metadata": {},
   "outputs": [
    {
     "name": "stdout",
     "output_type": "stream",
     "text": [
      "<class 'pandas.core.frame.DataFrame'>\n",
      "RangeIndex: 5756 entries, 0 to 5755\n",
      "Data columns (total 26 columns):\n",
      " #   Column              Non-Null Count  Dtype  \n",
      "---  ------              --------------  -----  \n",
      " 0   id                  5756 non-null   int64  \n",
      " 1   locality_name       5756 non-null   object \n",
      " 2   Postal_code         5756 non-null   int64  \n",
      " 3   Price               5756 non-null   int64  \n",
      " 4   Number_of_bedrooms  5756 non-null   int64  \n",
      " 5   Living_area         5756 non-null   int64  \n",
      " 6   street              5756 non-null   object \n",
      " 7   number              5738 non-null   object \n",
      " 8   latitude            5753 non-null   float64\n",
      " 9   longitude           5753 non-null   float64\n",
      " 10  Open_fire           5756 non-null   int64  \n",
      " 11  Swimming_Pool       5756 non-null   int64  \n",
      " 12  hasTerrace          5756 non-null   int64  \n",
      " 13  terraceSurface      5756 non-null   int64  \n",
      " 14  gardenSurface       5756 non-null   int64  \n",
      " 15  Kitchen_type        3576 non-null   object \n",
      " 16  Number_of_facades   5756 non-null   int64  \n",
      " 17  State_of_building   5217 non-null   object \n",
      " 18  Furnished           5756 non-null   int64  \n",
      " 19  epc                 5495 non-null   object \n",
      " 20  landSurface         4904 non-null   float64\n",
      " 21  price_per_sqm       5756 non-null   float64\n",
      " 22  price_per_sqm_land  4904 non-null   float64\n",
      " 23  Province            5756 non-null   object \n",
      " 24  Assigned_City       1625 non-null   object \n",
      " 25  Has_Assigned_City   5756 non-null   bool   \n",
      "dtypes: bool(1), float64(5), int64(12), object(8)\n",
      "memory usage: 1.1+ MB\n"
     ]
    }
   ],
   "source": [
    "#Here we will use One-Hot Encoding (pd.get_dummies) because this is a nominal (unordered) column and the number of categories is small.\n",
    "df_one_hot_subtype = pd.get_dummies(enhanced_dataset_1.copy(), columns=['Subtype'], prefix='Subtype', drop_first=True)\n",
    "\n",
    "df_one_hot_subtype.info()\n"
   ]
  },
  {
   "cell_type": "markdown",
   "metadata": {},
   "source": [
    "**KITCHEN_TYPE**\n"
   ]
  },
  {
   "cell_type": "markdown",
   "metadata": {},
   "source": [
    "*Checking for missing values and displaying the distribution of the amount of properties over the category*"
   ]
  },
  {
   "cell_type": "code",
   "execution_count": 104,
   "metadata": {},
   "outputs": [
    {
     "name": "stdout",
     "output_type": "stream",
     "text": [
      "Mean:  37.87352328005559\n",
      "Count of missing values:  2180\n",
      "Kitchen_type\n",
      "Installed             1878\n",
      "Hyper equipped         838\n",
      "Semi equipped          607\n",
      "Not installed          195\n",
      "Usa installed           29\n",
      "Usa hyper equipped      24\n",
      "Usa uninstalled          4\n",
      "Usa semi equipped        1\n",
      "Name: count, dtype: int64\n"
     ]
    }
   ],
   "source": [
    "#Checking the missing values\n",
    "print(\"Mean: \", enhanced_dataset_1['Kitchen_type'].isnull().mean()*100)\n",
    "print(\"Count of missing values: \", enhanced_dataset_1['Kitchen_type'].isnull().sum())\n",
    "\n",
    "frequency = enhanced_dataset_1['Kitchen_type'].value_counts()\n",
    "print(frequency)"
   ]
  },
  {
   "cell_type": "code",
   "execution_count": 105,
   "metadata": {},
   "outputs": [],
   "source": [
    "#Dealing with the high number of missing values\n",
    "#df['Kitchen_type'] = df['Kitchen_type'].apply(lambda x: 'Missing' if pd.isna(x) else x)"
   ]
  },
  {
   "cell_type": "code",
   "execution_count": 106,
   "metadata": {},
   "outputs": [
    {
     "data": {
      "image/png": "[encoded data removed]",
      "text/plain": [
       "<Figure size 1400x400 with 1 Axes>"
      ]
     },
     "metadata": {},
     "output_type": "display_data"
    }
   ],
   "source": [
    "#Detecting Outliers on plot\n",
    "\n",
    "plt.figure(figsize=(14, 4))\n",
    "sns.barplot(x=frequency.index, y=frequency.values)\n",
    "plt.title('Frequency of Kitchen_type')\n",
    "plt.xlabel('Kitchen_type')\n",
    "plt.ylabel('Frequency')\n",
    "plt.show()"
   ]
  },
  {
   "cell_type": "markdown",
   "metadata": {},
   "source": [
    "*Creating a frequency dataframe and Determining rare values*"
   ]
  },
  {
   "cell_type": "code",
   "execution_count": 107,
   "metadata": {},
   "outputs": [
    {
     "name": "stdout",
     "output_type": "stream",
     "text": [
      "         Kitchen_type  count\n",
      "0           Installed   1878\n",
      "1      Hyper equipped    838\n",
      "2       Semi equipped    607\n",
      "3       Not installed    195\n",
      "4       Usa installed     29\n",
      "5  Usa hyper equipped     24\n",
      "6     Usa uninstalled      4\n",
      "7   Usa semi equipped      1\n"
     ]
    }
   ],
   "source": [
    "#Creating a seperate frequency dataframe\n",
    "\n",
    "frequency_df = frequency.reset_index()\n",
    "frequency_df.columns = ['Kitchen_type', 'count']\n",
    "\n",
    "print(frequency_df)"
   ]
  },
  {
   "cell_type": "code",
   "execution_count": 108,
   "metadata": {},
   "outputs": [
    {
     "name": "stdout",
     "output_type": "stream",
     "text": [
      "Rare Values: Kitchen_type\n",
      "Not installed         195\n",
      "Usa installed          29\n",
      "Usa hyper equipped     24\n",
      "Usa uninstalled         4\n",
      "Usa semi equipped       1\n",
      "Name: count, dtype: int64\n"
     ]
    }
   ],
   "source": [
    "#Determing the rare values (threshold 5%)\n",
    "threshold = 0.05 * len(enhanced_dataset_1)  \n",
    "rare_categories = frequency[frequency < threshold]\n",
    "\n",
    "print(\"Rare Values:\", rare_categories)"
   ]
  },
  {
   "cell_type": "code",
   "execution_count": 109,
   "metadata": {},
   "outputs": [
    {
     "data": {
      "text/plain": [
       "Kitchen_type\n",
       "Installed             4058\n",
       "Hyper equipped         838\n",
       "Semi equipped          607\n",
       "Not installed          195\n",
       "Usa installed           29\n",
       "Usa hyper equipped      24\n",
       "Usa uninstalled          4\n",
       "Usa semi equipped        1\n",
       "Name: count, dtype: int64"
      ]
     },
     "execution_count": 109,
     "metadata": {},
     "output_type": "execute_result"
    }
   ],
   "source": [
    "#Dealing with missing values (Imputation)\n",
    "\n",
    "enhanced_dataset_1['Kitchen_type'] = enhanced_dataset_1['Kitchen_type'].fillna(enhanced_dataset_1['Kitchen_type'].mode()[0])\n",
    "frequency = enhanced_dataset_1['Kitchen_type'].value_counts()\n",
    "frequency"
   ]
  },
  {
   "cell_type": "code",
   "execution_count": 110,
   "metadata": {},
   "outputs": [
    {
     "data": {
      "text/plain": [
       "Kitchen_type\n",
       "Installed         4087\n",
       "Hyper equipped     862\n",
       "Semi equipped      608\n",
       "Not installed      199\n",
       "Name: count, dtype: int64"
      ]
     },
     "execution_count": 110,
     "metadata": {},
     "output_type": "execute_result"
    }
   ],
   "source": [
    "#Assign the rare value to another value\n",
    "category_map = {'Usa hyper equipped': 'Hyper equipped', 'Usa semi equipped': 'Semi equipped', 'Usa uninstalled':'Not installed', 'Usa installed':'Installed'}\n",
    "enhanced_dataset_1['Kitchen_type'] = enhanced_dataset_1['Kitchen_type'].map(category_map).fillna(enhanced_dataset_1['Kitchen_type'])\n",
    "\n",
    "frequency = enhanced_dataset_1['Kitchen_type'].value_counts()\n",
    "frequency"
   ]
  },
  {
   "cell_type": "code",
   "execution_count": 111,
   "metadata": {},
   "outputs": [
    {
     "data": {
      "image/png": "[encoded data removed]",
      "text/plain": [
       "<Figure size 1400x400 with 1 Axes>"
      ]
     },
     "metadata": {},
     "output_type": "display_data"
    }
   ],
   "source": [
    "#Showing the final distrubution\n",
    "\n",
    "plt.figure(figsize=(14, 4))\n",
    "sns.barplot(x=frequency.index, y=frequency.values)\n",
    "plt.title('Frequency of Kitchen_type')\n",
    "plt.xlabel('Kitchen_type')\n",
    "plt.ylabel('Frequency')\n",
    "plt.show()"
   ]
  },
  {
   "cell_type": "markdown",
   "metadata": {},
   "source": [
    "**State_of_building**"
   ]
  },
  {
   "cell_type": "markdown",
   "metadata": {},
   "source": [
    "*Checking for missing values and displaying the distribution of the amount of properties over the category*"
   ]
  },
  {
   "cell_type": "code",
   "execution_count": 112,
   "metadata": {},
   "outputs": [
    {
     "name": "stdout",
     "output_type": "stream",
     "text": [
      "Mean:  9.364141765114663\n",
      "Count of missing values:  539\n",
      "State_of_building\n",
      "Good              2273\n",
      "As new            1064\n",
      "To renovate        938\n",
      "To be done up      597\n",
      "Just renovated     307\n",
      "To restore          38\n",
      "Name: count, dtype: int64\n"
     ]
    },
    {
     "data": {
      "image/png": "[encoded data removed]",
      "text/plain": [
       "<Figure size 1400x400 with 1 Axes>"
      ]
     },
     "metadata": {},
     "output_type": "display_data"
    }
   ],
   "source": [
    "#Checking the missing values\n",
    "print(\"Mean: \", enhanced_dataset_1['State_of_building'].isnull().mean()*100)\n",
    "print(\"Count of missing values: \", enhanced_dataset_1['State_of_building'].isnull().sum())\n",
    "\n",
    "frequency = enhanced_dataset_1['State_of_building'].value_counts()\n",
    "print(frequency)\n",
    "\n",
    "#Detecting Outliers on plot\n",
    "\n",
    "plt.figure(figsize=(14, 4))\n",
    "sns.barplot(x=frequency.index, y=frequency.values)\n",
    "plt.title('Frequency of State_of_building')\n",
    "plt.xlabel('State_of_building')\n",
    "plt.ylabel('Frequency')\n",
    "plt.show()"
   ]
  },
  {
   "cell_type": "markdown",
   "metadata": {},
   "source": [
    "*Dealing with missing values (Imputation)*"
   ]
  },
  {
   "cell_type": "code",
   "execution_count": 113,
   "metadata": {},
   "outputs": [
    {
     "data": {
      "text/plain": [
       "State_of_building\n",
       "Good              2812\n",
       "As new            1064\n",
       "To renovate        938\n",
       "To be done up      597\n",
       "Just renovated     307\n",
       "To restore          38\n",
       "Name: count, dtype: int64"
      ]
     },
     "execution_count": 113,
     "metadata": {},
     "output_type": "execute_result"
    }
   ],
   "source": [
    "#Dealing with missing values (Imputation)\n",
    "\n",
    "enhanced_dataset_1['State_of_building'] = enhanced_dataset_1['State_of_building'].fillna(enhanced_dataset_1['State_of_building'].mode()[0])\n",
    "frequency = enhanced_dataset_1['State_of_building'].value_counts()\n",
    "frequency\n",
    "\n",
    "#Missing is also a possibility here???\n",
    "\n",
    "#df['State_of_building'] = df['State_of_building'].fillna('Missing')"
   ]
  },
  {
   "cell_type": "markdown",
   "metadata": {},
   "source": [
    "*Creating a separate frequency dataframe and Determining rare values*"
   ]
  },
  {
   "cell_type": "code",
   "execution_count": 114,
   "metadata": {},
   "outputs": [
    {
     "name": "stdout",
     "output_type": "stream",
     "text": [
      "  State_of_building  count\n",
      "0              Good   2812\n",
      "1            As new   1064\n",
      "2       To renovate    938\n",
      "3     To be done up    597\n",
      "4    Just renovated    307\n",
      "5        To restore     38\n"
     ]
    }
   ],
   "source": [
    "#Creating a seperate frequency dataframe\n",
    "\n",
    "frequency_df = frequency.reset_index()\n",
    "frequency_df.columns = ['State_of_building', 'count']\n",
    "\n",
    "print(frequency_df)"
   ]
  },
  {
   "cell_type": "code",
   "execution_count": 115,
   "metadata": {},
   "outputs": [
    {
     "name": "stdout",
     "output_type": "stream",
     "text": [
      "Rare Values: State_of_building\n",
      "To restore    38\n",
      "Name: count, dtype: int64\n"
     ]
    }
   ],
   "source": [
    "#Determing the rare values (threshold 5%)\n",
    "threshold = 0.05 * len(enhanced_dataset_1)  \n",
    "rare_categories = frequency[frequency < threshold]\n",
    "\n",
    "print(\"Rare Values:\", rare_categories)"
   ]
  },
  {
   "cell_type": "code",
   "execution_count": 116,
   "metadata": {},
   "outputs": [
    {
     "data": {
      "text/plain": [
       "State_of_building\n",
       "Good              2812\n",
       "As new            1064\n",
       "To renovate        976\n",
       "To be done up      597\n",
       "Just renovated     307\n",
       "Name: count, dtype: int64"
      ]
     },
     "execution_count": 116,
     "metadata": {},
     "output_type": "execute_result"
    }
   ],
   "source": [
    "#Assign the rare value to another value\n",
    "category_map = {'To restore': 'To renovate'}\n",
    "enhanced_dataset_1['State_of_building'] = enhanced_dataset_1['State_of_building'].map(category_map).fillna(enhanced_dataset_1['State_of_building'])\n",
    "\n",
    "frequency = enhanced_dataset_1['State_of_building'].value_counts()\n",
    "frequency"
   ]
  },
  {
   "cell_type": "code",
   "execution_count": 117,
   "metadata": {},
   "outputs": [
    {
     "data": {
      "image/png": "[encoded data removed]",
      "text/plain": [
       "<Figure size 1400x400 with 1 Axes>"
      ]
     },
     "metadata": {},
     "output_type": "display_data"
    }
   ],
   "source": [
    "#showing the final distrubution\n",
    "\n",
    "plt.figure(figsize=(14, 4))\n",
    "sns.barplot(x=frequency.index, y=frequency.values)\n",
    "plt.title('Frequency of State_of_building')\n",
    "plt.xlabel('State_of_building')\n",
    "plt.ylabel('Frequency')\n",
    "plt.show()"
   ]
  },
  {
   "cell_type": "markdown",
   "metadata": {},
   "source": [
    "**Categorical data: EPC**"
   ]
  },
  {
   "cell_type": "markdown",
   "metadata": {},
   "source": [
    "*Checking for missing values and displaying the distribution of the amount of properties over the category*"
   ]
  },
  {
   "cell_type": "code",
   "execution_count": 118,
   "metadata": {},
   "outputs": [
    {
     "name": "stdout",
     "output_type": "stream",
     "text": [
      "Mean:  4.534398888116748\n",
      "Count of missing values:  261\n",
      "epc\n",
      "F      1078\n",
      "C      1074\n",
      "D      1021\n",
      "B       914\n",
      "E       633\n",
      "A       488\n",
      "G       217\n",
      "A+       51\n",
      "A++      19\n",
      "Name: count, dtype: int64\n"
     ]
    },
    {
     "data": {
      "image/png": "[encoded data removed]",
      "text/plain": [
       "<Figure size 1400x400 with 1 Axes>"
      ]
     },
     "metadata": {},
     "output_type": "display_data"
    }
   ],
   "source": [
    "#Checking the missing values\n",
    "print(\"Mean: \", enhanced_dataset_1['epc'].isnull().mean()*100)\n",
    "print(\"Count of missing values: \", enhanced_dataset_1['epc'].isnull().sum())\n",
    "\n",
    "frequency = enhanced_dataset_1['epc'].value_counts()\n",
    "print(frequency)\n",
    "\n",
    "#Detecting Outliers on plot\n",
    "\n",
    "plt.figure(figsize=(14, 4))\n",
    "sns.barplot(x=frequency.index, y=frequency.values)\n",
    "plt.title('Frequency of EPC')\n",
    "plt.xlabel('epc')\n",
    "plt.ylabel('Frequency')\n",
    "plt.show()"
   ]
  },
  {
   "cell_type": "markdown",
   "metadata": {},
   "source": [
    "*Creating a separate frequency dataframe and Determining rare values*"
   ]
  },
  {
   "cell_type": "code",
   "execution_count": 119,
   "metadata": {},
   "outputs": [
    {
     "name": "stdout",
     "output_type": "stream",
     "text": [
      "   epc  count\n",
      "0    F   1078\n",
      "1    C   1074\n",
      "2    D   1021\n",
      "3    B    914\n",
      "4    E    633\n",
      "5    A    488\n",
      "6    G    217\n",
      "7   A+     51\n",
      "8  A++     19\n"
     ]
    }
   ],
   "source": [
    "#Creating a seperate frequency dataframe\n",
    "\n",
    "frequency_df = frequency.reset_index()\n",
    "frequency_df.columns = ['epc', 'count']\n",
    "\n",
    "print(frequency_df)"
   ]
  },
  {
   "cell_type": "code",
   "execution_count": 120,
   "metadata": {},
   "outputs": [
    {
     "name": "stdout",
     "output_type": "stream",
     "text": [
      "Rare Values: epc\n",
      "G      217\n",
      "A+      51\n",
      "A++     19\n",
      "Name: count, dtype: int64\n"
     ]
    }
   ],
   "source": [
    "#Determining the rare values (threshold 5%)\n",
    "threshold = 0.05 * len(enhanced_dataset_1)  \n",
    "rare_categories = frequency[frequency < threshold]\n",
    "\n",
    "print(\"Rare Values:\", rare_categories)"
   ]
  },
  {
   "cell_type": "markdown",
   "metadata": {},
   "source": [
    "*Dealing with missing values (Imputation)*"
   ]
  },
  {
   "cell_type": "code",
   "execution_count": 121,
   "metadata": {},
   "outputs": [
    {
     "data": {
      "text/plain": [
       "epc\n",
       "F      1339\n",
       "C      1074\n",
       "D      1021\n",
       "B       914\n",
       "E       633\n",
       "A       488\n",
       "G       217\n",
       "A+       51\n",
       "A++      19\n",
       "Name: count, dtype: int64"
      ]
     },
     "execution_count": 121,
     "metadata": {},
     "output_type": "execute_result"
    }
   ],
   "source": [
    "#Dealing with missing values (Imputation)\n",
    "\n",
    "enhanced_dataset_1['epc'] = enhanced_dataset_1['epc'].fillna(enhanced_dataset_1['epc'].mode()[0])\n",
    "frequency = enhanced_dataset_1['epc'].value_counts()\n",
    "frequency\n",
    "\n",
    "#Missing is also a possibility here???\n",
    "\n",
    "#df['epc'] = df['epc'].fillna('Missing')"
   ]
  },
  {
   "cell_type": "code",
   "execution_count": 122,
   "metadata": {},
   "outputs": [
    {
     "data": {
      "text/plain": [
       "epc\n",
       "F    1556\n",
       "C    1074\n",
       "D    1021\n",
       "B     914\n",
       "E     633\n",
       "A     558\n",
       "Name: count, dtype: int64"
      ]
     },
     "execution_count": 122,
     "metadata": {},
     "output_type": "execute_result"
    }
   ],
   "source": [
    "#Assign the rare value to another value (EPC G only exist in Brussels and Wallonia)\n",
    "category_map = {'A+': 'A', 'A++': 'A', 'G':'F'}\n",
    "enhanced_dataset_1['epc'] = enhanced_dataset_1['epc'].map(category_map).fillna(enhanced_dataset_1['epc'])\n",
    "\n",
    "frequency = enhanced_dataset_1['epc'].value_counts()\n",
    "frequency"
   ]
  },
  {
   "cell_type": "code",
   "execution_count": 123,
   "metadata": {},
   "outputs": [
    {
     "data": {
      "image/png": "[encoded data removed]",
      "text/plain": [
       "<Figure size 1400x400 with 1 Axes>"
      ]
     },
     "metadata": {},
     "output_type": "display_data"
    }
   ],
   "source": [
    "#Showing the final distrubution\n",
    "\n",
    "plt.figure(figsize=(14, 4))\n",
    "sns.barplot(x=frequency.index, y=frequency.values)\n",
    "plt.title('Frequency of EPC')\n",
    "plt.xlabel('epc')\n",
    "plt.ylabel('Frequency')\n",
    "plt.show()"
   ]
  },
  {
   "cell_type": "markdown",
   "metadata": {},
   "source": [
    "**Saving data to a new .csv file and a .pkl file**"
   ]
  },
  {
   "cell_type": "code",
   "execution_count": 124,
   "metadata": {},
   "outputs": [],
   "source": [
    "# Save data to new csv file\n",
    "\n",
    "output_csv = r'..\\data\\clean\\after_step_3a_outliers_cat.csv'  # Fill your path to file\n",
    "enhanced_dataset_1.to_csv(output_csv, index=False)\n",
    "\n",
    "\n",
    "# Save data to new pkl file\n",
    "\n",
    "import pickle\n",
    "output_pkl = r'..\\data\\clean\\after_step_3a_outliers_cat.pkl' # Fill your path to file\n",
    "with open(output_pkl, 'wb') as f:\n",
    "    pickle.dump(enhanced_dataset_1, f)\n"
   ]
  }
 ],
 "metadata": {
  "kernelspec": {
   "display_name": ".immoelizateam",
   "language": "python",
   "name": "python3"
  },
  "language_info": {
   "codemirror_mode": {
    "name": "ipython",
    "version": 3
   },
   "file_extension": ".py",
   "mimetype": "text/x-python",
   "name": "python",
   "nbconvert_exporter": "python",
   "pygments_lexer": "ipython3",
   "version": "3.12.4"
  }
 },
 "nbformat": 4,
 "nbformat_minor": 2
}
