{
 "cells": [
  {
   "cell_type": "markdown",
   "metadata": {},
   "source": [
    "**OUTLIER DETECTION AND HANDLING - CATEGORICAL DATA**"
   ]
  },
  {
   "cell_type": "code",
   "execution_count": 1,
   "metadata": {},
   "outputs": [],
   "source": [
    "import pandas as pd\n",
    "import seaborn as sns\n",
    "import matplotlib.pyplot as plt\n",
    "import geopandas as gpd\n",
    "from shapely.geometry import Point\n",
    "import folium\n",
    "from IPython.display import IFrame\n",
    "import webbrowser"
   ]
  },
  {
   "cell_type": "markdown",
   "metadata": {},
   "source": [
    "**Generating a pandas dataframe from the source .csv file**"
   ]
  },
  {
   "cell_type": "code",
   "execution_count": 2,
   "metadata": {},
   "outputs": [
    {
     "data": {
      "text/html": [
       "<div>\n",
       "<style scoped>\n",
       "    .dataframe tbody tr th:only-of-type {\n",
       "        vertical-align: middle;\n",
       "    }\n",
       "\n",
       "    .dataframe tbody tr th {\n",
       "        vertical-align: top;\n",
       "    }\n",
       "\n",
       "    .dataframe thead th {\n",
       "        text-align: right;\n",
       "    }\n",
       "</style>\n",
       "<table border=\"1\" class=\"dataframe\">\n",
       "  <thead>\n",
       "    <tr style=\"text-align: right;\">\n",
       "      <th></th>\n",
       "      <th>id</th>\n",
       "      <th>locality_name</th>\n",
       "      <th>Postal_code</th>\n",
       "      <th>Price</th>\n",
       "      <th>Subtype</th>\n",
       "      <th>Number_of_bedrooms</th>\n",
       "      <th>Living_area</th>\n",
       "      <th>street</th>\n",
       "      <th>number</th>\n",
       "      <th>latitude</th>\n",
       "      <th>longitude</th>\n",
       "      <th>Open_fire</th>\n",
       "      <th>Swimming_Pool</th>\n",
       "      <th>hasTerrace</th>\n",
       "      <th>terraceSurface</th>\n",
       "      <th>gardenSurface</th>\n",
       "      <th>Kitchen_type</th>\n",
       "      <th>Number_of_facades</th>\n",
       "      <th>State_of_building</th>\n",
       "      <th>Furnished</th>\n",
       "      <th>epc</th>\n",
       "      <th>landSurface</th>\n",
       "      <th>price_per_sqm</th>\n",
       "      <th>price_per_sqm_land</th>\n",
       "      <th>Province</th>\n",
       "      <th>Assigned_City</th>\n",
       "      <th>Has_Assigned_City</th>\n",
       "    </tr>\n",
       "  </thead>\n",
       "  <tbody>\n",
       "    <tr>\n",
       "      <th>0</th>\n",
       "      <td>20252354</td>\n",
       "      <td>Ronse</td>\n",
       "      <td>9600</td>\n",
       "      <td>319000</td>\n",
       "      <td>House</td>\n",
       "      <td>3</td>\n",
       "      <td>125</td>\n",
       "      <td>Rotterij</td>\n",
       "      <td>148</td>\n",
       "      <td>50.744176</td>\n",
       "      <td>3.625722</td>\n",
       "      <td>0</td>\n",
       "      <td>0</td>\n",
       "      <td>1</td>\n",
       "      <td>0</td>\n",
       "      <td>370</td>\n",
       "      <td>NaN</td>\n",
       "      <td>4</td>\n",
       "      <td>To renovate</td>\n",
       "      <td>0</td>\n",
       "      <td>F</td>\n",
       "      <td>767.0</td>\n",
       "      <td>2552.000000</td>\n",
       "      <td>415.906128</td>\n",
       "      <td>East Flanders</td>\n",
       "      <td>NaN</td>\n",
       "      <td>False</td>\n",
       "    </tr>\n",
       "    <tr>\n",
       "      <th>1</th>\n",
       "      <td>20251003</td>\n",
       "      <td>Geraardsbergen</td>\n",
       "      <td>9500</td>\n",
       "      <td>299999</td>\n",
       "      <td>House</td>\n",
       "      <td>3</td>\n",
       "      <td>167</td>\n",
       "      <td>Pirrestraat</td>\n",
       "      <td>17</td>\n",
       "      <td>50.752121</td>\n",
       "      <td>3.925495</td>\n",
       "      <td>0</td>\n",
       "      <td>0</td>\n",
       "      <td>1</td>\n",
       "      <td>0</td>\n",
       "      <td>895</td>\n",
       "      <td>Installed</td>\n",
       "      <td>2</td>\n",
       "      <td>Good</td>\n",
       "      <td>0</td>\n",
       "      <td>D</td>\n",
       "      <td>1050.0</td>\n",
       "      <td>1796.401198</td>\n",
       "      <td>285.713333</td>\n",
       "      <td>East Flanders</td>\n",
       "      <td>NaN</td>\n",
       "      <td>False</td>\n",
       "    </tr>\n",
       "    <tr>\n",
       "      <th>2</th>\n",
       "      <td>20252002</td>\n",
       "      <td>Mechelen</td>\n",
       "      <td>2800</td>\n",
       "      <td>275000</td>\n",
       "      <td>House</td>\n",
       "      <td>3</td>\n",
       "      <td>154</td>\n",
       "      <td>Caputsteenstraat</td>\n",
       "      <td>150</td>\n",
       "      <td>51.033269</td>\n",
       "      <td>4.491795</td>\n",
       "      <td>0</td>\n",
       "      <td>0</td>\n",
       "      <td>1</td>\n",
       "      <td>10</td>\n",
       "      <td>20</td>\n",
       "      <td>Semi equipped</td>\n",
       "      <td>2</td>\n",
       "      <td>To renovate</td>\n",
       "      <td>0</td>\n",
       "      <td>E</td>\n",
       "      <td>120.0</td>\n",
       "      <td>1785.714286</td>\n",
       "      <td>2291.666667</td>\n",
       "      <td>Antwerp</td>\n",
       "      <td>NaN</td>\n",
       "      <td>False</td>\n",
       "    </tr>\n",
       "    <tr>\n",
       "      <th>3</th>\n",
       "      <td>20252352</td>\n",
       "      <td>Gooik</td>\n",
       "      <td>1755</td>\n",
       "      <td>295000</td>\n",
       "      <td>House</td>\n",
       "      <td>3</td>\n",
       "      <td>172</td>\n",
       "      <td>Strijlandstraat</td>\n",
       "      <td>45</td>\n",
       "      <td>50.791877</td>\n",
       "      <td>4.084293</td>\n",
       "      <td>0</td>\n",
       "      <td>0</td>\n",
       "      <td>1</td>\n",
       "      <td>0</td>\n",
       "      <td>300</td>\n",
       "      <td>NaN</td>\n",
       "      <td>3</td>\n",
       "      <td>To renovate</td>\n",
       "      <td>0</td>\n",
       "      <td>F</td>\n",
       "      <td>309.0</td>\n",
       "      <td>1715.116279</td>\n",
       "      <td>954.692557</td>\n",
       "      <td>Brabant_Wallon</td>\n",
       "      <td>NaN</td>\n",
       "      <td>False</td>\n",
       "    </tr>\n",
       "    <tr>\n",
       "      <th>4</th>\n",
       "      <td>20251715</td>\n",
       "      <td>Dilbeek</td>\n",
       "      <td>1700</td>\n",
       "      <td>715000</td>\n",
       "      <td>House</td>\n",
       "      <td>3</td>\n",
       "      <td>280</td>\n",
       "      <td>Herdebeekstraat 94-94A</td>\n",
       "      <td>0</td>\n",
       "      <td>50.840610</td>\n",
       "      <td>4.228425</td>\n",
       "      <td>0</td>\n",
       "      <td>1</td>\n",
       "      <td>1</td>\n",
       "      <td>36</td>\n",
       "      <td>374</td>\n",
       "      <td>NaN</td>\n",
       "      <td>3</td>\n",
       "      <td>As new</td>\n",
       "      <td>0</td>\n",
       "      <td>C</td>\n",
       "      <td>374.0</td>\n",
       "      <td>2553.571429</td>\n",
       "      <td>1911.764706</td>\n",
       "      <td>Brabant_Wallon</td>\n",
       "      <td>NaN</td>\n",
       "      <td>False</td>\n",
       "    </tr>\n",
       "  </tbody>\n",
       "</table>\n",
       "</div>"
      ],
      "text/plain": [
       "         id   locality_name  Postal_code   Price Subtype  Number_of_bedrooms  \\\n",
       "0  20252354           Ronse         9600  319000   House                   3   \n",
       "1  20251003  Geraardsbergen         9500  299999   House                   3   \n",
       "2  20252002        Mechelen         2800  275000   House                   3   \n",
       "3  20252352           Gooik         1755  295000   House                   3   \n",
       "4  20251715         Dilbeek         1700  715000   House                   3   \n",
       "\n",
       "   Living_area                  street number   latitude  longitude  \\\n",
       "0          125                Rotterij    148  50.744176   3.625722   \n",
       "1          167             Pirrestraat     17  50.752121   3.925495   \n",
       "2          154        Caputsteenstraat    150  51.033269   4.491795   \n",
       "3          172         Strijlandstraat     45  50.791877   4.084293   \n",
       "4          280  Herdebeekstraat 94-94A      0  50.840610   4.228425   \n",
       "\n",
       "   Open_fire  Swimming_Pool  hasTerrace  terraceSurface  gardenSurface  \\\n",
       "0          0              0           1               0            370   \n",
       "1          0              0           1               0            895   \n",
       "2          0              0           1              10             20   \n",
       "3          0              0           1               0            300   \n",
       "4          0              1           1              36            374   \n",
       "\n",
       "    Kitchen_type  Number_of_facades State_of_building  Furnished epc  \\\n",
       "0            NaN                  4       To renovate          0   F   \n",
       "1      Installed                  2              Good          0   D   \n",
       "2  Semi equipped                  2       To renovate          0   E   \n",
       "3            NaN                  3       To renovate          0   F   \n",
       "4            NaN                  3            As new          0   C   \n",
       "\n",
       "   landSurface  price_per_sqm  price_per_sqm_land        Province  \\\n",
       "0        767.0    2552.000000          415.906128   East Flanders   \n",
       "1       1050.0    1796.401198          285.713333   East Flanders   \n",
       "2        120.0    1785.714286         2291.666667         Antwerp   \n",
       "3        309.0    1715.116279          954.692557  Brabant_Wallon   \n",
       "4        374.0    2553.571429         1911.764706  Brabant_Wallon   \n",
       "\n",
       "  Assigned_City  Has_Assigned_City  \n",
       "0           NaN              False  \n",
       "1           NaN              False  \n",
       "2           NaN              False  \n",
       "3           NaN              False  \n",
       "4           NaN              False  "
      ]
     },
     "execution_count": 2,
     "metadata": {},
     "output_type": "execute_result"
    }
   ],
   "source": [
    "# Set options to show all columns\n",
    "pd.set_option('display.max_columns', None)\n",
    "\n",
    "# Load csv file and generate pandas dataframe\n",
    "input_csv = r'..\\data\\clean\\after_step_3a_outliers_num.csv' # Fill your path to file\n",
    "df_1 = pd.read_csv(input_csv, sep = ',')\n",
    "\n",
    "df_1.head()"
   ]
  },
  {
   "cell_type": "markdown",
   "metadata": {},
   "source": [
    "**Categorical data - KITCHEN_TYPE**\n"
   ]
  },
  {
   "cell_type": "markdown",
   "metadata": {},
   "source": [
    "*Checking for missing values and displaying the distribution of the amount of properties over the category*"
   ]
  },
  {
   "cell_type": "code",
   "execution_count": 3,
   "metadata": {},
   "outputs": [
    {
     "name": "stdout",
     "output_type": "stream",
     "text": [
      "Mean:  37.92073292172874\n",
      "Count of missing values:  1904\n",
      "Kitchen_type\n",
      "Installed             1699\n",
      "Hyper equipped         621\n",
      "Semi equipped          579\n",
      "Not installed          175\n",
      "Usa installed           22\n",
      "Usa hyper equipped      17\n",
      "Usa uninstalled          3\n",
      "Usa semi equipped        1\n",
      "Name: count, dtype: int64\n"
     ]
    }
   ],
   "source": [
    "#Checking the missing values\n",
    "print(\"Mean: \", df_1['Kitchen_type'].isnull().mean()*100)\n",
    "print(\"Count of missing values: \", df_1['Kitchen_type'].isnull().sum())\n",
    "\n",
    "frequency = df_1['Kitchen_type'].value_counts()\n",
    "print(frequency)"
   ]
  },
  {
   "cell_type": "code",
   "execution_count": 4,
   "metadata": {},
   "outputs": [],
   "source": [
    "#Dealing with the high number of missing values\n",
    "#df['Kitchen_type'] = df['Kitchen_type'].apply(lambda x: 'Missing' if pd.isna(x) else x)"
   ]
  },
  {
   "cell_type": "code",
   "execution_count": 5,
   "metadata": {},
   "outputs": [
    {
     "data": {
      "image/png": "[encoded data removed]",
      "text/plain": [
       "<Figure size 1400x400 with 1 Axes>"
      ]
     },
     "metadata": {},
     "output_type": "display_data"
    }
   ],
   "source": [
    "#Detecting Outliers on plot\n",
    "\n",
    "plt.figure(figsize=(14, 4))\n",
    "sns.barplot(x=frequency.index, y=frequency.values, color='#A3C9E2')\n",
    "plt.title('Frequency of Kitchen_type')\n",
    "plt.xlabel('Kitchen_type')\n",
    "plt.ylabel('Frequency')\n",
    "plt.show()"
   ]
  },
  {
   "cell_type": "markdown",
   "metadata": {},
   "source": [
    "*Creating a frequency dataframe and Determining rare values*"
   ]
  },
  {
   "cell_type": "code",
   "execution_count": 6,
   "metadata": {},
   "outputs": [
    {
     "name": "stdout",
     "output_type": "stream",
     "text": [
      "         Kitchen_type  count\n",
      "0           Installed   1699\n",
      "1      Hyper equipped    621\n",
      "2       Semi equipped    579\n",
      "3       Not installed    175\n",
      "4       Usa installed     22\n",
      "5  Usa hyper equipped     17\n",
      "6     Usa uninstalled      3\n",
      "7   Usa semi equipped      1\n"
     ]
    }
   ],
   "source": [
    "#Creating a seperate frequency dataframe\n",
    "\n",
    "frequency_df = frequency.reset_index()\n",
    "frequency_df.columns = ['Kitchen_type', 'count']\n",
    "\n",
    "print(frequency_df)"
   ]
  },
  {
   "cell_type": "code",
   "execution_count": 7,
   "metadata": {},
   "outputs": [
    {
     "name": "stdout",
     "output_type": "stream",
     "text": [
      "Rare Values: Kitchen_type\n",
      "Not installed         175\n",
      "Usa installed          22\n",
      "Usa hyper equipped     17\n",
      "Usa uninstalled         3\n",
      "Usa semi equipped       1\n",
      "Name: count, dtype: int64\n"
     ]
    }
   ],
   "source": [
    "#Determing the rare values (threshold 5%)\n",
    "threshold = 0.05 * len(df_1)  \n",
    "rare_categories = frequency[frequency < threshold]\n",
    "\n",
    "print(\"Rare Values:\", rare_categories)"
   ]
  },
  {
   "cell_type": "code",
   "execution_count": 8,
   "metadata": {},
   "outputs": [
    {
     "data": {
      "text/plain": [
       "Kitchen_type\n",
       "Installed             3603\n",
       "Hyper equipped         621\n",
       "Semi equipped          579\n",
       "Not installed          175\n",
       "Usa installed           22\n",
       "Usa hyper equipped      17\n",
       "Usa uninstalled          3\n",
       "Usa semi equipped        1\n",
       "Name: count, dtype: int64"
      ]
     },
     "execution_count": 8,
     "metadata": {},
     "output_type": "execute_result"
    }
   ],
   "source": [
    "#Dealing with missing values (Imputation)\n",
    "\n",
    "df_1['Kitchen_type'] = df_1['Kitchen_type'].fillna(df_1['Kitchen_type'].mode()[0])\n",
    "frequency = df_1['Kitchen_type'].value_counts()\n",
    "frequency"
   ]
  },
  {
   "cell_type": "code",
   "execution_count": 9,
   "metadata": {},
   "outputs": [
    {
     "data": {
      "text/plain": [
       "Kitchen_type\n",
       "Installed         3625\n",
       "Hyper equipped     638\n",
       "Semi equipped      580\n",
       "Not installed      178\n",
       "Name: count, dtype: int64"
      ]
     },
     "execution_count": 9,
     "metadata": {},
     "output_type": "execute_result"
    }
   ],
   "source": [
    "#Assign the rare value to another value\n",
    "category_map = {'Usa hyper equipped': 'Hyper equipped', 'Usa semi equipped': 'Semi equipped', 'Usa uninstalled':'Not installed', 'Usa installed':'Installed'}\n",
    "df_1['Kitchen_type'] = df_1['Kitchen_type'].map(category_map).fillna(df_1['Kitchen_type'])\n",
    "\n",
    "frequency = df_1['Kitchen_type'].value_counts()\n",
    "frequency"
   ]
  },
  {
   "cell_type": "code",
   "execution_count": 10,
   "metadata": {},
   "outputs": [
    {
     "data": {
      "image/png": "[encoded data removed]",
      "text/plain": [
       "<Figure size 1400x400 with 1 Axes>"
      ]
     },
     "metadata": {},
     "output_type": "display_data"
    }
   ],
   "source": [
    "#Showing the final distrubution\n",
    "\n",
    "plt.figure(figsize=(14, 4))\n",
    "sns.barplot(x=frequency.index, y=frequency.values, color='#A3C9E2')\n",
    "plt.title('Frequency of Kitchen_type')\n",
    "plt.xlabel('Kitchen_type')\n",
    "plt.ylabel('Frequency')\n",
    "plt.show()"
   ]
  },
  {
   "cell_type": "markdown",
   "metadata": {},
   "source": [
    "*Encoding - label encoding*"
   ]
  },
  {
   "cell_type": "code",
   "execution_count": 11,
   "metadata": {},
   "outputs": [
    {
     "data": {
      "text/plain": [
       "Kitchen_type_encoded\n",
       "1    3625\n",
       "3     638\n",
       "2     580\n",
       "0     178\n",
       "Name: count, dtype: int64"
      ]
     },
     "execution_count": 11,
     "metadata": {},
     "output_type": "execute_result"
    }
   ],
   "source": [
    "#This categorical data has a natural order we encode it in a way that reflects this ordering. We will use Label Encoding.\n",
    "order = ['Not installed', 'Installed', 'Semi equipped', 'Hyper equipped']\n",
    "\n",
    "category_mapping = {category: rank for rank, category in enumerate(order)}\n",
    "\n",
    "df_1['Kitchen_type_encoded'] = df_1['Kitchen_type'].map(category_mapping)\n",
    "\n",
    "frequency = df_1['Kitchen_type_encoded'].value_counts()\n",
    "frequency"
   ]
  },
  {
   "cell_type": "markdown",
   "metadata": {},
   "source": [
    "**State_of_building**"
   ]
  },
  {
   "cell_type": "markdown",
   "metadata": {},
   "source": [
    "*Checking for missing values and displaying the distribution of the amount of properties over the category*"
   ]
  },
  {
   "cell_type": "code",
   "execution_count": 12,
   "metadata": {},
   "outputs": [
    {
     "name": "stdout",
     "output_type": "stream",
     "text": [
      "Mean:  9.460266879107747\n",
      "Count of missing values:  475\n",
      "State_of_building\n",
      "Good              1990\n",
      "To renovate        866\n",
      "As new             851\n",
      "To be done up      540\n",
      "Just renovated     269\n",
      "To restore          30\n",
      "Name: count, dtype: int64\n"
     ]
    },
    {
     "data": {
      "image/png": "[encoded data removed]",
      "text/plain": [
       "<Figure size 1400x400 with 1 Axes>"
      ]
     },
     "metadata": {},
     "output_type": "display_data"
    }
   ],
   "source": [
    "#Checking the missing values\n",
    "print(\"Mean: \", df_1['State_of_building'].isnull().mean()*100)\n",
    "print(\"Count of missing values: \", df_1['State_of_building'].isnull().sum())\n",
    "\n",
    "frequency = df_1['State_of_building'].value_counts()\n",
    "print(frequency)\n",
    "\n",
    "#Detecting Outliers on plot\n",
    "\n",
    "plt.figure(figsize=(14, 4))\n",
    "sns.barplot(x=frequency.index, y=frequency.values, color='#A3C9E2')\n",
    "plt.title('Frequency of State_of_building')\n",
    "plt.xlabel('State_of_building')\n",
    "plt.ylabel('Frequency')\n",
    "plt.show()"
   ]
  },
  {
   "cell_type": "markdown",
   "metadata": {},
   "source": [
    "*Dealing with missing values (Imputation)*"
   ]
  },
  {
   "cell_type": "code",
   "execution_count": 13,
   "metadata": {},
   "outputs": [
    {
     "data": {
      "text/plain": [
       "State_of_building\n",
       "Good              2465\n",
       "To renovate        866\n",
       "As new             851\n",
       "To be done up      540\n",
       "Just renovated     269\n",
       "To restore          30\n",
       "Name: count, dtype: int64"
      ]
     },
     "execution_count": 13,
     "metadata": {},
     "output_type": "execute_result"
    }
   ],
   "source": [
    "#Dealing with missing values (Imputation)\n",
    "\n",
    "df_1['State_of_building'] = df_1['State_of_building'].fillna(df_1['State_of_building'].mode()[0])\n",
    "frequency = df_1['State_of_building'].value_counts()\n",
    "frequency\n",
    "\n",
    "#Missing is also a possibility here???\n",
    "\n",
    "#df['State_of_building'] = df['State_of_building'].fillna('Missing')"
   ]
  },
  {
   "cell_type": "markdown",
   "metadata": {},
   "source": [
    "*Creating a separate frequency dataframe and Determining rare values*"
   ]
  },
  {
   "cell_type": "code",
   "execution_count": 14,
   "metadata": {},
   "outputs": [
    {
     "name": "stdout",
     "output_type": "stream",
     "text": [
      "  State_of_building  count\n",
      "0              Good   2465\n",
      "1       To renovate    866\n",
      "2            As new    851\n",
      "3     To be done up    540\n",
      "4    Just renovated    269\n",
      "5        To restore     30\n"
     ]
    }
   ],
   "source": [
    "#Creating a seperate frequency dataframe\n",
    "\n",
    "frequency_df = frequency.reset_index()\n",
    "frequency_df.columns = ['State_of_building', 'count']\n",
    "\n",
    "print(frequency_df)"
   ]
  },
  {
   "cell_type": "code",
   "execution_count": 15,
   "metadata": {},
   "outputs": [
    {
     "name": "stdout",
     "output_type": "stream",
     "text": [
      "Rare Values: State_of_building\n",
      "To restore    30\n",
      "Name: count, dtype: int64\n"
     ]
    }
   ],
   "source": [
    "#Determing the rare values (threshold 5%)\n",
    "threshold = 0.05 * len(df_1)  \n",
    "rare_categories = frequency[frequency < threshold]\n",
    "\n",
    "print(\"Rare Values:\", rare_categories)"
   ]
  },
  {
   "cell_type": "code",
   "execution_count": 16,
   "metadata": {},
   "outputs": [
    {
     "data": {
      "text/plain": [
       "State_of_building\n",
       "Good              2465\n",
       "To renovate        896\n",
       "As new             851\n",
       "To be done up      540\n",
       "Just renovated     269\n",
       "Name: count, dtype: int64"
      ]
     },
     "execution_count": 16,
     "metadata": {},
     "output_type": "execute_result"
    }
   ],
   "source": [
    "#Assign the rare value to another value\n",
    "category_map = {'To restore': 'To renovate'}\n",
    "df_1['State_of_building'] = df_1['State_of_building'].map(category_map).fillna(df_1['State_of_building'])\n",
    "\n",
    "frequency = df_1['State_of_building'].value_counts()\n",
    "frequency"
   ]
  },
  {
   "cell_type": "code",
   "execution_count": 17,
   "metadata": {},
   "outputs": [
    {
     "data": {
      "image/png": "[encoded data removed]",
      "text/plain": [
       "<Figure size 1400x400 with 1 Axes>"
      ]
     },
     "metadata": {},
     "output_type": "display_data"
    }
   ],
   "source": [
    "#showing the final distrubution\n",
    "\n",
    "plt.figure(figsize=(14, 4))\n",
    "sns.barplot(x=frequency.index, y=frequency.values, color='#A3C9E2')\n",
    "plt.title('Frequency of State_of_building')\n",
    "plt.xlabel('State_of_building')\n",
    "plt.ylabel('Frequency')\n",
    "plt.show()"
   ]
  },
  {
   "cell_type": "markdown",
   "metadata": {},
   "source": [
    "*Encoding - label encoding*"
   ]
  },
  {
   "cell_type": "code",
   "execution_count": 18,
   "metadata": {},
   "outputs": [
    {
     "data": {
      "text/plain": [
       "State_of_building_encoded\n",
       "2    2465\n",
       "0     896\n",
       "4     851\n",
       "1     540\n",
       "3     269\n",
       "Name: count, dtype: int64"
      ]
     },
     "execution_count": 18,
     "metadata": {},
     "output_type": "execute_result"
    }
   ],
   "source": [
    "#This categorical data has a natural order we encode it in a way that reflects this ordering. We will use Label Encoding.\n",
    "order = ['To renovate', 'To be done up', 'Good', 'Just renovated', 'As new']\n",
    "\n",
    "category_mapping = {category: rank for rank, category in enumerate(order)}\n",
    "\n",
    "df_1['State_of_building_encoded'] = df_1['State_of_building'].map(category_mapping)\n",
    "\n",
    "frequency = df_1['State_of_building_encoded'].value_counts()\n",
    "frequency"
   ]
  },
  {
   "cell_type": "markdown",
   "metadata": {},
   "source": [
    "**Categorical data: EPC**"
   ]
  },
  {
   "cell_type": "markdown",
   "metadata": {},
   "source": [
    "*Checking for missing values and displaying the distribution of the amount of properties over the category*"
   ]
  },
  {
   "cell_type": "code",
   "execution_count": 19,
   "metadata": {},
   "outputs": [
    {
     "name": "stdout",
     "output_type": "stream",
     "text": [
      "Mean:  4.680342561242781\n",
      "Count of missing values:  235\n",
      "epc\n",
      "F      990\n",
      "C      903\n",
      "D      901\n",
      "B      763\n",
      "E      562\n",
      "A      420\n",
      "G      187\n",
      "A+      47\n",
      "A++     13\n",
      "Name: count, dtype: int64\n"
     ]
    },
    {
     "data": {
      "image/png": "[encoded data removed]",
      "text/plain": [
       "<Figure size 1400x400 with 1 Axes>"
      ]
     },
     "metadata": {},
     "output_type": "display_data"
    }
   ],
   "source": [
    "#Checking the missing values\n",
    "print(\"Mean: \", df_1['epc'].isnull().mean()*100)\n",
    "print(\"Count of missing values: \", df_1['epc'].isnull().sum())\n",
    "\n",
    "frequency = df_1['epc'].value_counts()\n",
    "print(frequency)\n",
    "\n",
    "#Detecting Outliers on plot\n",
    "\n",
    "plt.figure(figsize=(14, 4))\n",
    "sns.barplot(x=frequency.index, y=frequency.values, color='#A3C9E2')\n",
    "plt.title('Frequency of EPC')\n",
    "plt.xlabel('epc')\n",
    "plt.ylabel('Frequency')\n",
    "plt.show()"
   ]
  },
  {
   "cell_type": "markdown",
   "metadata": {},
   "source": [
    "*Creating a separate frequency dataframe and Determining rare values*"
   ]
  },
  {
   "cell_type": "code",
   "execution_count": 20,
   "metadata": {},
   "outputs": [
    {
     "name": "stdout",
     "output_type": "stream",
     "text": [
      "   epc  count\n",
      "0    F    990\n",
      "1    C    903\n",
      "2    D    901\n",
      "3    B    763\n",
      "4    E    562\n",
      "5    A    420\n",
      "6    G    187\n",
      "7   A+     47\n",
      "8  A++     13\n"
     ]
    }
   ],
   "source": [
    "#Creating a seperate frequency dataframe\n",
    "\n",
    "frequency_df = frequency.reset_index()\n",
    "frequency_df.columns = ['epc', 'count']\n",
    "\n",
    "print(frequency_df)"
   ]
  },
  {
   "cell_type": "code",
   "execution_count": 21,
   "metadata": {},
   "outputs": [
    {
     "name": "stdout",
     "output_type": "stream",
     "text": [
      "Rare Values: epc\n",
      "G      187\n",
      "A+      47\n",
      "A++     13\n",
      "Name: count, dtype: int64\n"
     ]
    }
   ],
   "source": [
    "#Determining the rare values (threshold 5%)\n",
    "threshold = 0.05 * len(df_1)  \n",
    "rare_categories = frequency[frequency < threshold]\n",
    "\n",
    "print(\"Rare Values:\", rare_categories)"
   ]
  },
  {
   "cell_type": "markdown",
   "metadata": {},
   "source": [
    "*Dealing with missing values (Imputation)*"
   ]
  },
  {
   "cell_type": "code",
   "execution_count": 22,
   "metadata": {},
   "outputs": [
    {
     "data": {
      "text/plain": [
       "epc\n",
       "F      1225\n",
       "C       903\n",
       "D       901\n",
       "B       763\n",
       "E       562\n",
       "A       420\n",
       "G       187\n",
       "A+       47\n",
       "A++      13\n",
       "Name: count, dtype: int64"
      ]
     },
     "execution_count": 22,
     "metadata": {},
     "output_type": "execute_result"
    }
   ],
   "source": [
    "#Dealing with missing values (Imputation)\n",
    "\n",
    "df_1['epc'] = df_1['epc'].fillna(df_1['epc'].mode()[0])\n",
    "frequency = df_1['epc'].value_counts()\n",
    "frequency\n",
    "\n",
    "#Missing is also a possibility here???\n",
    "\n",
    "#df['epc'] = df['epc'].fillna('Missing')"
   ]
  },
  {
   "cell_type": "code",
   "execution_count": 23,
   "metadata": {},
   "outputs": [
    {
     "data": {
      "text/plain": [
       "epc\n",
       "F    1412\n",
       "C     903\n",
       "D     901\n",
       "B     763\n",
       "E     562\n",
       "A     480\n",
       "Name: count, dtype: int64"
      ]
     },
     "execution_count": 23,
     "metadata": {},
     "output_type": "execute_result"
    }
   ],
   "source": [
    "#Assign the rare value to another value (EPC G only exist in Brussels and Wallonia)\n",
    "category_map = {'A+': 'A', 'A++': 'A', 'G':'F'}\n",
    "df_1['epc'] = df_1['epc'].map(category_map).fillna(df_1['epc'])\n",
    "\n",
    "frequency = df_1['epc'].value_counts()\n",
    "frequency"
   ]
  },
  {
   "cell_type": "code",
   "execution_count": 24,
   "metadata": {},
   "outputs": [
    {
     "data": {
      "image/png": "[encoded data removed]",
      "text/plain": [
       "<Figure size 1400x400 with 1 Axes>"
      ]
     },
     "metadata": {},
     "output_type": "display_data"
    }
   ],
   "source": [
    "#Showing the final distrubution\n",
    "\n",
    "plt.figure(figsize=(14, 4))\n",
    "sns.barplot(x=frequency.index, y=frequency.values, color='#A3C9E2')\n",
    "plt.title('Frequency of EPC')\n",
    "plt.xlabel('epc')\n",
    "plt.ylabel('Frequency')\n",
    "plt.show()"
   ]
  },
  {
   "cell_type": "markdown",
   "metadata": {},
   "source": [
    "*Encoding - label encoding*"
   ]
  },
  {
   "cell_type": "code",
   "execution_count": 25,
   "metadata": {},
   "outputs": [
    {
     "data": {
      "text/plain": [
       "EPC_encoded\n",
       "0    1412\n",
       "3     903\n",
       "2     901\n",
       "4     763\n",
       "1     562\n",
       "5     480\n",
       "Name: count, dtype: int64"
      ]
     },
     "execution_count": 25,
     "metadata": {},
     "output_type": "execute_result"
    }
   ],
   "source": [
    "#This categorical data has a natural order we encode it in a way that reflects this ordering. We will use Label Encoding.\n",
    "order = ['F', 'E', 'D', 'C', 'B', 'A']\n",
    "\n",
    "category_mapping = {category: rank for rank, category in enumerate(order)}\n",
    "\n",
    "df_1['EPC_encoded'] = df_1['epc'].map(category_mapping)\n",
    "\n",
    "frequency = df_1['EPC_encoded'].value_counts()\n",
    "frequency"
   ]
  },
  {
   "cell_type": "markdown",
   "metadata": {},
   "source": []
  },
  {
   "cell_type": "markdown",
   "metadata": {},
   "source": [
    "**Saving data to a new .csv file and a .pkl file**"
   ]
  },
  {
   "cell_type": "code",
   "execution_count": 26,
   "metadata": {},
   "outputs": [],
   "source": [
    "# Save data to new csv file\n",
    "\n",
    "output_csv = r'..\\data\\clean\\after_step_3b_outliers_cat.csv'  # Fill your path to file\n",
    "df_1.to_csv(output_csv, index=False)\n",
    "\n",
    "\n",
    "# Save data to new pkl file\n",
    "\n",
    "import pickle\n",
    "output_pkl = r'..\\data\\clean\\after_step_3b_outliers_cat.pkl' # Fill your path to file\n",
    "with open(output_pkl, 'wb') as f:\n",
    "    pickle.dump(df_1, f)\n"
   ]
  }
 ],
 "metadata": {
  "kernelspec": {
   "display_name": ".venv",
   "language": "python",
   "name": "python3"
  },
  "language_info": {
   "codemirror_mode": {
    "name": "ipython",
    "version": 3
   },
   "file_extension": ".py",
   "mimetype": "text/x-python",
   "name": "python",
   "nbconvert_exporter": "python",
   "pygments_lexer": "ipython3",
   "version": "3.12.6"
  }
 },
 "nbformat": 4,
 "nbformat_minor": 2
}
