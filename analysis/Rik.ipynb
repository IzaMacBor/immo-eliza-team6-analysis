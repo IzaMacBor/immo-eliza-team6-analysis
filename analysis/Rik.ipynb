{
 "cells": [
  {
   "cell_type": "code",
   "execution_count": 1,
   "metadata": {},
   "outputs": [],
   "source": [
    "import pandas as pd\n",
    "import seaborn as sns\n",
    "import matplotlib.pyplot as plt\n",
    "import geopandas as gpd\n",
    "from shapely.geometry import Point\n",
    "import folium\n",
    "from IPython.display import IFrame\n",
    "import webbrowser"
   ]
  },
  {
   "cell_type": "code",
   "execution_count": 2,
   "metadata": {},
   "outputs": [],
   "source": [
    "file_path =  r'C:\\Users\\Rik\\Desktop\\immo-eliza-team6-analysis\\data\\clean\\houses_incl_outliers.csv'\n",
    "\n",
    "df = pd.read_csv(file_path, sep = ',')"
   ]
  },
  {
   "cell_type": "code",
   "execution_count": 3,
   "metadata": {},
   "outputs": [
    {
     "name": "stdout",
     "output_type": "stream",
     "text": [
      "<class 'pandas.core.frame.DataFrame'>\n",
      "RangeIndex: 5663 entries, 0 to 5662\n",
      "Data columns (total 24 columns):\n",
      " #   Column              Non-Null Count  Dtype  \n",
      "---  ------              --------------  -----  \n",
      " 0   id                  5663 non-null   int64  \n",
      " 1   locality_name       5663 non-null   object \n",
      " 2   Postal_code         5663 non-null   object \n",
      " 3   Price               5663 non-null   int64  \n",
      " 4   Subtype             5663 non-null   object \n",
      " 5   Number_of_bedrooms  5663 non-null   int64  \n",
      " 6   Living_area         5663 non-null   int64  \n",
      " 7   street              5663 non-null   object \n",
      " 8   number              5646 non-null   object \n",
      " 9   latitude            5661 non-null   float64\n",
      " 10  longitude           5661 non-null   float64\n",
      " 11  Open_fire           5663 non-null   int64  \n",
      " 12  Swimming_Pool       5663 non-null   int64  \n",
      " 13  hasTerrace          5663 non-null   int64  \n",
      " 14  terraceSurface      5663 non-null   int64  \n",
      " 15  gardenSurface       5663 non-null   int64  \n",
      " 16  Kitchen_type        3512 non-null   object \n",
      " 17  Number_of_facades   5663 non-null   int64  \n",
      " 18  State_of_building   5130 non-null   object \n",
      " 19  Furnished           5663 non-null   int64  \n",
      " 20  epc                 5408 non-null   object \n",
      " 21  landSurface         4826 non-null   float64\n",
      " 22  price_per_sqm       5663 non-null   float64\n",
      " 23  price_per_sqm_land  4826 non-null   float64\n",
      "dtypes: float64(5), int64(11), object(8)\n",
      "memory usage: 1.0+ MB\n"
     ]
    }
   ],
   "source": [
    "df.head(30)\n",
    "df.info()"
   ]
  },
  {
   "cell_type": "code",
   "execution_count": 4,
   "metadata": {},
   "outputs": [
    {
     "name": "stdout",
     "output_type": "stream",
     "text": [
      "<class 'pandas.core.frame.DataFrame'>\n",
      "RangeIndex: 5663 entries, 0 to 5662\n",
      "Data columns (total 24 columns):\n",
      " #   Column              Non-Null Count  Dtype  \n",
      "---  ------              --------------  -----  \n",
      " 0   id                  5663 non-null   Int64  \n",
      " 1   locality_name       5663 non-null   object \n",
      " 2   Postal_code         5663 non-null   object \n",
      " 3   Price               5663 non-null   Int64  \n",
      " 4   Subtype             5663 non-null   object \n",
      " 5   Number_of_bedrooms  5663 non-null   Int64  \n",
      " 6   Living_area         5663 non-null   Int64  \n",
      " 7   street              5663 non-null   object \n",
      " 8   number              5646 non-null   object \n",
      " 9   latitude            5661 non-null   float64\n",
      " 10  longitude           5661 non-null   float64\n",
      " 11  Open_fire           5663 non-null   Int64  \n",
      " 12  Swimming_Pool       5663 non-null   Int64  \n",
      " 13  hasTerrace          5663 non-null   Int64  \n",
      " 14  terraceSurface      5663 non-null   Int64  \n",
      " 15  gardenSurface       5663 non-null   Int64  \n",
      " 16  Kitchen_type        3512 non-null   object \n",
      " 17  Number_of_facades   5663 non-null   Int64  \n",
      " 18  State_of_building   5130 non-null   object \n",
      " 19  Furnished           5663 non-null   Int64  \n",
      " 20  epc                 5408 non-null   object \n",
      " 21  landSurface         4826 non-null   float64\n",
      " 22  price_per_sqm       5663 non-null   float64\n",
      " 23  price_per_sqm_land  4826 non-null   float64\n",
      "dtypes: Int64(11), float64(5), object(8)\n",
      "memory usage: 1.1+ MB\n"
     ]
    }
   ],
   "source": [
    "# transform 'int64' to 'Int64' to handle NaN\n",
    "\n",
    "int_columns = df.select_dtypes(include=['int64'])\n",
    "\n",
    "for col in int_columns.columns:\n",
    "    df[col] = df[col].astype('Int64')\n",
    "\n",
    "df.info()"
   ]
  },
  {
   "cell_type": "code",
   "execution_count": 5,
   "metadata": {},
   "outputs": [
    {
     "name": "stdout",
     "output_type": "stream",
     "text": [
      "<class 'pandas.core.frame.DataFrame'>\n",
      "RangeIndex: 5663 entries, 0 to 5662\n",
      "Data columns (total 24 columns):\n",
      " #   Column              Non-Null Count  Dtype   \n",
      "---  ------              --------------  -----   \n",
      " 0   id                  5663 non-null   Int64   \n",
      " 1   locality_name       5663 non-null   category\n",
      " 2   Postal_code         5663 non-null   category\n",
      " 3   Price               5663 non-null   Int64   \n",
      " 4   Subtype             5663 non-null   category\n",
      " 5   Number_of_bedrooms  5663 non-null   Int64   \n",
      " 6   Living_area         5663 non-null   Int64   \n",
      " 7   street              5663 non-null   category\n",
      " 8   number              5646 non-null   category\n",
      " 9   latitude            5661 non-null   float64 \n",
      " 10  longitude           5661 non-null   float64 \n",
      " 11  Open_fire           5663 non-null   Int64   \n",
      " 12  Swimming_Pool       5663 non-null   Int64   \n",
      " 13  hasTerrace          5663 non-null   Int64   \n",
      " 14  terraceSurface      5663 non-null   Int64   \n",
      " 15  gardenSurface       5663 non-null   Int64   \n",
      " 16  Kitchen_type        3512 non-null   category\n",
      " 17  Number_of_facades   5663 non-null   Int64   \n",
      " 18  State_of_building   5130 non-null   category\n",
      " 19  Furnished           5663 non-null   Int64   \n",
      " 20  epc                 5408 non-null   category\n",
      " 21  landSurface         4826 non-null   float64 \n",
      " 22  price_per_sqm       5663 non-null   float64 \n",
      " 23  price_per_sqm_land  4826 non-null   float64 \n",
      "dtypes: Int64(11), category(8), float64(5)\n",
      "memory usage: 1.1 MB\n"
     ]
    }
   ],
   "source": [
    "# transform dtypes 'object' to 'category'\n",
    "int_columns = df.select_dtypes(include=['object'])\n",
    "\n",
    "for col in int_columns.columns:\n",
    "    df[col] = df[col].astype('category')\n",
    "\n",
    "df.info()"
   ]
  },
  {
   "cell_type": "code",
   "execution_count": 6,
   "metadata": {},
   "outputs": [
    {
     "name": "stdout",
     "output_type": "stream",
     "text": [
      "Counts for locality_name:\n",
      "locality_name\n",
      "Gent                          197\n",
      "Antwerpen                     111\n",
      "Aalst                          73\n",
      "Ronse                          73\n",
      "Brugge                         67\n",
      "                             ... \n",
      "Antwerpen Ekeren                1\n",
      "Antwerpen Wilrijk               1\n",
      "Antwerpen-Noord                 1\n",
      "Appels                          1\n",
      "Welkenraedt Henri-Chapelle      1\n",
      "Name: count, Length: 1119, dtype: int64\n",
      "\n",
      "\n",
      "Number of unique entries in locality_name: 1119\n",
      "\n",
      "Counts for Postal_code:\n",
      "Postal_code\n",
      "9000    158\n",
      "8300     75\n",
      "9600     73\n",
      "9300     65\n",
      "9500     65\n",
      "       ... \n",
      "1982      1\n",
      "3290      1\n",
      "3294      1\n",
      "3391      1\n",
      "3401      1\n",
      "Name: count, Length: 735, dtype: int64\n",
      "\n",
      "\n",
      "Number of unique entries in Postal_code: 735\n",
      "\n",
      "Counts for Subtype:\n",
      "Subtype\n",
      "House    5663\n",
      "Name: count, dtype: int64\n",
      "\n",
      "\n",
      "Number of unique entries in Subtype: 1\n",
      "\n",
      "Counts for street:\n",
      "street\n",
      "Stationsstraat         37\n",
      "Molenstraat            33\n",
      "Kerkstraat             28\n",
      "Veldstraat             18\n",
      "Dorpsstraat            16\n",
      "                       ..\n",
      "Zwartkloosterstraat     1\n",
      "Zwartzustersstraat      1\n",
      "Zwevegemsestraat        1\n",
      "Bodegemstraat           1\n",
      "Abdijstraat             1\n",
      "Name: count, Length: 4145, dtype: int64\n",
      "\n",
      "\n",
      "Number of unique entries in street: 4145\n",
      "\n",
      "Counts for number:\n",
      "number\n",
      "3           129\n",
      "1           123\n",
      "5           115\n",
      "6           108\n",
      "2           103\n",
      "           ... \n",
      "9C            1\n",
      "LOT 15        1\n",
      "LOT 23        1\n",
      "LOT 24        1\n",
      "LOT 4(D)      1\n",
      "Name: count, Length: 646, dtype: int64\n",
      "\n",
      "\n",
      "Number of unique entries in number: 646\n",
      "\n",
      "Counts for Kitchen_type:\n",
      "Kitchen_type\n",
      "Installed             1842\n",
      "Hyper equipped         827\n",
      "Semi equipped          594\n",
      "Not installed          192\n",
      "Usa installed           29\n",
      "Usa hyper equipped      23\n",
      "Usa uninstalled          4\n",
      "Usa semi equipped        1\n",
      "Name: count, dtype: int64\n",
      "\n",
      "\n",
      "Number of unique entries in Kitchen_type: 8\n",
      "\n",
      "Counts for State_of_building:\n",
      "State_of_building\n",
      "Good              2244\n",
      "As new            1039\n",
      "To renovate        926\n",
      "To be done up      581\n",
      "Just renovated     304\n",
      "To restore          36\n",
      "Name: count, dtype: int64\n",
      "\n",
      "\n",
      "Number of unique entries in State_of_building: 6\n",
      "\n",
      "Counts for epc:\n",
      "epc\n",
      "F      1063\n",
      "C      1052\n",
      "D      1005\n",
      "B       893\n",
      "E       625\n",
      "A       486\n",
      "G       214\n",
      "A+       51\n",
      "A++      19\n",
      "Name: count, dtype: int64\n",
      "\n",
      "\n",
      "Number of unique entries in epc: 9\n",
      "\n"
     ]
    }
   ],
   "source": [
    "#Getting an idea of the values in columns with dtype 'category'\n",
    "pd.set_option('display.max_rows', 30)\n",
    "\n",
    "for col in df.select_dtypes(include=['category']).columns:\n",
    "    print(f\"Counts for {col}:\")\n",
    "    print(df[col].value_counts())\n",
    "    unique_count = df[col].nunique()\n",
    "    print(\"\\n\")\n",
    "    print(f\"Number of unique entries in {col}: {unique_count}\\n\")"
   ]
  },
  {
   "cell_type": "markdown",
   "metadata": {},
   "source": [
    "**POSTAL_CODE**"
   ]
  },
  {
   "cell_type": "code",
   "execution_count": 7,
   "metadata": {},
   "outputs": [],
   "source": [
    "#Converting the postal codes to dtype 'str'\n",
    "\n",
    "df['Postal_code'] = df['Postal_code'].astype(str)"
   ]
  },
  {
   "cell_type": "code",
   "execution_count": 8,
   "metadata": {},
   "outputs": [
    {
     "data": {
      "text/plain": [
       "np.float64(0.0)"
      ]
     },
     "execution_count": 8,
     "metadata": {},
     "output_type": "execute_result"
    }
   ],
   "source": [
    "#Check the missing values\n",
    "df['Postal_code'].isnull().mean()*100"
   ]
  },
  {
   "cell_type": "code",
   "execution_count": 9,
   "metadata": {},
   "outputs": [
    {
     "data": {
      "text/plain": [
       "52"
      ]
     },
     "execution_count": 9,
     "metadata": {},
     "output_type": "execute_result"
    }
   ],
   "source": [
    "#Asses the number of unique postal codes\n",
    "\n",
    "unique_postal = df['Postal_code'].value_counts().nunique()\n",
    "\n",
    "unique_postal\n",
    "\n"
   ]
  },
  {
   "cell_type": "code",
   "execution_count": 10,
   "metadata": {},
   "outputs": [],
   "source": [
    "#dropping a dutch postal code\n",
    "\n",
    "df = df[df['Postal_code'] != '4524 JM']\n"
   ]
  },
  {
   "cell_type": "code",
   "execution_count": 11,
   "metadata": {},
   "outputs": [],
   "source": [
    "#Assess the frequency\n",
    "\n",
    "frequency = df['Postal_code'].value_counts()"
   ]
  },
  {
   "cell_type": "code",
   "execution_count": 12,
   "metadata": {},
   "outputs": [
    {
     "data": {
      "image/png": "[encoded data removed]",
      "text/plain": [
       "<Figure size 1000x600 with 1 Axes>"
      ]
     },
     "metadata": {},
     "output_type": "display_data"
    }
   ],
   "source": [
    "#Showing the top 20 \n",
    "\n",
    "top_n = 20 \n",
    "\n",
    "# Plotting only the top N categories\n",
    "top_n_categories = frequency.head(top_n)\n",
    "\n",
    "plt.figure(figsize=(10, 6))\n",
    "sns.barplot(x=top_n_categories.values, y=top_n_categories.index, color='#A3C9E2')\n",
    "plt.title(f'Top {top_n} Postal Codes by Frequency')\n",
    "plt.xlabel('Frequency')\n",
    "plt.ylabel('Postal code')\n",
    "plt.show()"
   ]
  },
  {
   "cell_type": "code",
   "execution_count": 13,
   "metadata": {},
   "outputs": [],
   "source": [
    "#Aggregate Postal code by price\n",
    "Postal_aggregates = df.groupby('Postal_code').agg({'Price': ['mean', 'median']}).reset_index()\n"
   ]
  },
  {
   "cell_type": "markdown",
   "metadata": {},
   "source": [
    "**PROVINCE**\n",
    "\n",
    "Create a column to assign the properties to a province"
   ]
  },
  {
   "cell_type": "code",
   "execution_count": 14,
   "metadata": {},
   "outputs": [
    {
     "name": "stdout",
     "output_type": "stream",
     "text": [
      "<class 'pandas.core.frame.DataFrame'>\n",
      "Index: 5662 entries, 0 to 5662\n",
      "Data columns (total 25 columns):\n",
      " #   Column              Non-Null Count  Dtype   \n",
      "---  ------              --------------  -----   \n",
      " 0   id                  5662 non-null   Int64   \n",
      " 1   locality_name       5662 non-null   category\n",
      " 2   Postal_code         5662 non-null   object  \n",
      " 3   Price               5662 non-null   Int64   \n",
      " 4   Subtype             5662 non-null   category\n",
      " 5   Number_of_bedrooms  5662 non-null   Int64   \n",
      " 6   Living_area         5662 non-null   Int64   \n",
      " 7   street              5662 non-null   category\n",
      " 8   number              5645 non-null   category\n",
      " 9   latitude            5660 non-null   float64 \n",
      " 10  longitude           5660 non-null   float64 \n",
      " 11  Open_fire           5662 non-null   Int64   \n",
      " 12  Swimming_Pool       5662 non-null   Int64   \n",
      " 13  hasTerrace          5662 non-null   Int64   \n",
      " 14  terraceSurface      5662 non-null   Int64   \n",
      " 15  gardenSurface       5662 non-null   Int64   \n",
      " 16  Kitchen_type        3512 non-null   category\n",
      " 17  Number_of_facades   5662 non-null   Int64   \n",
      " 18  State_of_building   5129 non-null   category\n",
      " 19  Furnished           5662 non-null   Int64   \n",
      " 20  epc                 5407 non-null   category\n",
      " 21  landSurface         4825 non-null   float64 \n",
      " 22  price_per_sqm       5662 non-null   float64 \n",
      " 23  price_per_sqm_land  4825 non-null   float64 \n",
      " 24  Province            5662 non-null   category\n",
      "dtypes: Int64(11), category(8), float64(5), object(1)\n",
      "memory usage: 1.1+ MB\n"
     ]
    }
   ],
   "source": [
    "#creating the column province\n",
    "\n",
    "def get_province(postal_code):\n",
    "    if postal_code.startswith('1'):\n",
    "        return 'Brussels' if int(postal_code) < 1300 else 'Brabant_Wallon'\n",
    "    elif postal_code.startswith('2'):\n",
    "        return 'Antwerp'\n",
    "    elif postal_code.startswith('4'):\n",
    "        return 'Liège'\n",
    "    elif postal_code.startswith('5'):\n",
    "        return 'Namur'\n",
    "    elif postal_code.startswith('6'):\n",
    "        return 'Luxembourg'\n",
    "    elif postal_code.startswith('7'):\n",
    "        return 'Hainaut'\n",
    "    elif postal_code.startswith('8'):\n",
    "        return 'West Flanders'\n",
    "    elif postal_code.startswith('9'):\n",
    "        return 'East Flanders'\n",
    "    elif postal_code.startswith('3'):\n",
    "        return 'Flemish Brabant' if int(postal_code) < 3500 else 'Limburg'\n",
    "    else:\n",
    "        return None \n",
    "\n",
    "df['Province'] = df['Postal_code'].apply(get_province).copy()\n",
    "\n",
    "#Assigning the dtypes\n",
    "df['Province'] = df['Province'].astype('category')\n",
    "df['Postal_code'] = df['Postal_code'].astype('str')\n",
    "\n",
    "df.info()"
   ]
  },
  {
   "cell_type": "code",
   "execution_count": 15,
   "metadata": {},
   "outputs": [
    {
     "data": {
      "text/plain": [
       "Province\n",
       "East Flanders      1686\n",
       "West Flanders      1074\n",
       "Antwerp             840\n",
       "Brabant_Wallon      526\n",
       "Liège               400\n",
       "Luxembourg          317\n",
       "Flemish Brabant     272\n",
       "Brussels            236\n",
       "Namur               112\n",
       "Limburg             104\n",
       "Hainaut              95\n",
       "Name: count, dtype: int64"
      ]
     },
     "execution_count": 15,
     "metadata": {},
     "output_type": "execute_result"
    }
   ],
   "source": [
    "#Assess the frequency\n",
    "\n",
    "frequency = df['Province'].value_counts()\n",
    "frequency"
   ]
  },
  {
   "cell_type": "code",
   "execution_count": 16,
   "metadata": {},
   "outputs": [
    {
     "data": {
      "image/png": "[encoded data removed]",
      "text/plain": [
       "<Figure size 1600x400 with 1 Axes>"
      ]
     },
     "metadata": {},
     "output_type": "display_data"
    }
   ],
   "source": [
    "#Plotting the frequency\n",
    "\n",
    "plt.figure(figsize=(16, 4))\n",
    "sns.barplot(x=frequency.index, y=frequency.values)\n",
    "plt.title('Properties per Province')\n",
    "plt.xlabel('Province')\n",
    "plt.ylabel('Frequency')\n",
    "plt.show()"
   ]
  },
  {
   "cell_type": "markdown",
   "metadata": {},
   "source": [
    "**ASSIGNED CITY**\n",
    "\n",
    "Create a column with all properties in the vicinity (10k) of one of the 10 biggest cities"
   ]
  },
  {
   "cell_type": "code",
   "execution_count": 17,
   "metadata": {},
   "outputs": [
    {
     "data": {
      "text/html": [
       "<div>\n",
       "<style scoped>\n",
       "    .dataframe tbody tr th:only-of-type {\n",
       "        vertical-align: middle;\n",
       "    }\n",
       "\n",
       "    .dataframe tbody tr th {\n",
       "        vertical-align: top;\n",
       "    }\n",
       "\n",
       "    .dataframe thead th {\n",
       "        text-align: right;\n",
       "    }\n",
       "</style>\n",
       "<table border=\"1\" class=\"dataframe\">\n",
       "  <thead>\n",
       "    <tr style=\"text-align: right;\">\n",
       "      <th></th>\n",
       "      <th>City</th>\n",
       "      <th>Latitude</th>\n",
       "      <th>Longitude</th>\n",
       "      <th>Radius</th>\n",
       "    </tr>\n",
       "  </thead>\n",
       "  <tbody>\n",
       "    <tr>\n",
       "      <th>0</th>\n",
       "      <td>Brussels</td>\n",
       "      <td>50.8503</td>\n",
       "      <td>4.3517</td>\n",
       "      <td>10</td>\n",
       "    </tr>\n",
       "    <tr>\n",
       "      <th>1</th>\n",
       "      <td>Antwerp</td>\n",
       "      <td>51.2211</td>\n",
       "      <td>4.4120</td>\n",
       "      <td>10</td>\n",
       "    </tr>\n",
       "    <tr>\n",
       "      <th>2</th>\n",
       "      <td>Ghent</td>\n",
       "      <td>51.0543</td>\n",
       "      <td>3.7174</td>\n",
       "      <td>10</td>\n",
       "    </tr>\n",
       "    <tr>\n",
       "      <th>3</th>\n",
       "      <td>Bruges</td>\n",
       "      <td>51.2093</td>\n",
       "      <td>3.2240</td>\n",
       "      <td>10</td>\n",
       "    </tr>\n",
       "    <tr>\n",
       "      <th>4</th>\n",
       "      <td>Liège</td>\n",
       "      <td>50.6050</td>\n",
       "      <td>5.5797</td>\n",
       "      <td>10</td>\n",
       "    </tr>\n",
       "    <tr>\n",
       "      <th>5</th>\n",
       "      <td>Namur</td>\n",
       "      <td>50.4674</td>\n",
       "      <td>4.8712</td>\n",
       "      <td>10</td>\n",
       "    </tr>\n",
       "    <tr>\n",
       "      <th>6</th>\n",
       "      <td>Leuven</td>\n",
       "      <td>50.8798</td>\n",
       "      <td>4.7033</td>\n",
       "      <td>10</td>\n",
       "    </tr>\n",
       "    <tr>\n",
       "      <th>7</th>\n",
       "      <td>Mons</td>\n",
       "      <td>50.4542</td>\n",
       "      <td>3.9514</td>\n",
       "      <td>10</td>\n",
       "    </tr>\n",
       "    <tr>\n",
       "      <th>8</th>\n",
       "      <td>Aalst</td>\n",
       "      <td>50.9403</td>\n",
       "      <td>4.0364</td>\n",
       "      <td>10</td>\n",
       "    </tr>\n",
       "    <tr>\n",
       "      <th>9</th>\n",
       "      <td>Sint-Niklaas</td>\n",
       "      <td>51.1449</td>\n",
       "      <td>4.1525</td>\n",
       "      <td>10</td>\n",
       "    </tr>\n",
       "  </tbody>\n",
       "</table>\n",
       "</div>"
      ],
      "text/plain": [
       "           City  Latitude  Longitude  Radius\n",
       "0      Brussels   50.8503     4.3517      10\n",
       "1       Antwerp   51.2211     4.4120      10\n",
       "2         Ghent   51.0543     3.7174      10\n",
       "3        Bruges   51.2093     3.2240      10\n",
       "4         Liège   50.6050     5.5797      10\n",
       "5         Namur   50.4674     4.8712      10\n",
       "6        Leuven   50.8798     4.7033      10\n",
       "7          Mons   50.4542     3.9514      10\n",
       "8         Aalst   50.9403     4.0364      10\n",
       "9  Sint-Niklaas   51.1449     4.1525      10"
      ]
     },
     "execution_count": 17,
     "metadata": {},
     "output_type": "execute_result"
    }
   ],
   "source": [
    "#creating a column for proximity to the 10 main Belgian cities:\n",
    "cities_data = {'City': ['Brussels', 'Antwerp', 'Ghent', 'Bruges', 'Liège','Namur', 'Leuven', 'Mons', 'Aalst', 'Sint-Niklaas'],\n",
    "               'Latitude': [50.8503, 51.2211, 51.0543, 51.2093, 50.6050, 50.4674, 50.8798, 50.4542, 50.9403, 51.1449],\n",
    "               'Longitude': [4.3517, 4.4120, 3.7174, 3.2240, 5.5797, 4.8712, 4.7033, 3.9514, 4.0364, 4.1525],\n",
    "               'Radius': [10 for x in range(10)]}\n",
    "\n",
    "cities_df = pd.DataFrame(cities_data)\n",
    "\n",
    "cities_df.head(10)\n"
   ]
  },
  {
   "cell_type": "code",
   "execution_count": 18,
   "metadata": {},
   "outputs": [],
   "source": [
    "#Make a geodataframe from the cities dataframe\n",
    "cities_gdf = gpd.GeoDataFrame(cities_df,geometry=gpd.points_from_xy(cities_df.Longitude, cities_df.Latitude))"
   ]
  },
  {
   "cell_type": "code",
   "execution_count": 19,
   "metadata": {},
   "outputs": [],
   "source": [
    "#Creating the buffer/radius zone (set on 10km)\n",
    "\n",
    "cities_gdf['buffer'] = cities_gdf.geometry.buffer(cities_gdf['Radius'] / 111)\n",
    "cities_gdf = cities_gdf.set_geometry('buffer')\n",
    "\n",
    "\n"
   ]
  },
  {
   "cell_type": "code",
   "execution_count": 20,
   "metadata": {},
   "outputs": [
    {
     "name": "stdout",
     "output_type": "stream",
     "text": [
      "           City  Latitude  Longitude  Radius                geometry  \\\n",
      "0      Brussels   50.8503     4.3517      10  POINT (4.3517 50.8503)   \n",
      "1       Antwerp   51.2211     4.4120      10   POINT (4.412 51.2211)   \n",
      "2         Ghent   51.0543     3.7174      10  POINT (3.7174 51.0543)   \n",
      "3        Bruges   51.2093     3.2240      10   POINT (3.224 51.2093)   \n",
      "4         Liège   50.6050     5.5797      10   POINT (5.5797 50.605)   \n",
      "5         Namur   50.4674     4.8712      10  POINT (4.8712 50.4674)   \n",
      "6        Leuven   50.8798     4.7033      10  POINT (4.7033 50.8798)   \n",
      "7          Mons   50.4542     3.9514      10  POINT (3.9514 50.4542)   \n",
      "8         Aalst   50.9403     4.0364      10  POINT (4.0364 50.9403)   \n",
      "9  Sint-Niklaas   51.1449     4.1525      10  POINT (4.1525 51.1449)   \n",
      "\n",
      "                                              buffer  \n",
      "0  POLYGON ((4.44179 50.8503, 4.44136 50.84147, 4...  \n",
      "1  POLYGON ((4.50209 51.2211, 4.50166 51.21227, 4...  \n",
      "2  POLYGON ((3.80749 51.0543, 3.80706 51.04547, 3...  \n",
      "3  POLYGON ((3.31409 51.2093, 3.31366 51.20047, 3...  \n",
      "4  POLYGON ((5.66979 50.605, 5.66936 50.59617, 5....  \n",
      "5  POLYGON ((4.96129 50.4674, 4.96086 50.45857, 4...  \n",
      "6  POLYGON ((4.79339 50.8798, 4.79296 50.87097, 4...  \n",
      "7  POLYGON ((4.04149 50.4542, 4.04106 50.44537, 4...  \n",
      "8  POLYGON ((4.12649 50.9403, 4.12606 50.93147, 4...  \n",
      "9  POLYGON ((4.24259 51.1449, 4.24216 51.13607, 4...  \n"
     ]
    }
   ],
   "source": [
    "print(cities_gdf)"
   ]
  },
  {
   "cell_type": "code",
   "execution_count": 21,
   "metadata": {},
   "outputs": [
    {
     "name": "stdout",
     "output_type": "stream",
     "text": [
      "<class 'geopandas.geodataframe.GeoDataFrame'>\n",
      "RangeIndex: 10 entries, 0 to 9\n",
      "Data columns (total 6 columns):\n",
      " #   Column     Non-Null Count  Dtype   \n",
      "---  ------     --------------  -----   \n",
      " 0   City       10 non-null     object  \n",
      " 1   Latitude   10 non-null     float64 \n",
      " 2   Longitude  10 non-null     float64 \n",
      " 3   Radius     10 non-null     int64   \n",
      " 4   geometry   10 non-null     geometry\n",
      " 5   buffer     10 non-null     geometry\n",
      "dtypes: float64(2), geometry(2), int64(1), object(1)\n",
      "memory usage: 612.0+ bytes\n"
     ]
    }
   ],
   "source": [
    "cities_gdf.info()"
   ]
  },
  {
   "cell_type": "code",
   "execution_count": 22,
   "metadata": {},
   "outputs": [
    {
     "name": "stdout",
     "output_type": "stream",
     "text": [
      "<class 'pandas.core.frame.DataFrame'>\n",
      "Index: 5662 entries, 0 to 5662\n",
      "Data columns (total 3 columns):\n",
      " #   Column     Non-Null Count  Dtype  \n",
      "---  ------     --------------  -----  \n",
      " 0   id         5662 non-null   Int64  \n",
      " 1   latitude   5660 non-null   float64\n",
      " 2   longitude  5660 non-null   float64\n",
      "dtypes: Int64(1), float64(2)\n",
      "memory usage: 182.5 KB\n"
     ]
    }
   ],
   "source": [
    "#checking and slicing original data and creating a new dataframe house_geo\n",
    "house_geo= pd.DataFrame(df[['id', 'latitude', 'longitude']]).copy()\n",
    "\n",
    "house_geo.info()"
   ]
  },
  {
   "cell_type": "code",
   "execution_count": 23,
   "metadata": {},
   "outputs": [
    {
     "name": "stdout",
     "output_type": "stream",
     "text": [
      "<class 'geopandas.geodataframe.GeoDataFrame'>\n",
      "Index: 5662 entries, 0 to 5662\n",
      "Data columns (total 4 columns):\n",
      " #   Column     Non-Null Count  Dtype   \n",
      "---  ------     --------------  -----   \n",
      " 0   id         5662 non-null   Int64   \n",
      " 1   latitude   5660 non-null   float64 \n",
      " 2   longitude  5660 non-null   float64 \n",
      " 3   geometry   5662 non-null   geometry\n",
      "dtypes: Int64(1), float64(2), geometry(1)\n",
      "memory usage: 226.7 KB\n"
     ]
    }
   ],
   "source": [
    "#Making a geo dataframe from the dataframe\n",
    "house_geo_gdf = gpd.GeoDataFrame(house_geo,geometry=gpd.points_from_xy(house_geo.longitude, house_geo.latitude))\n",
    "\n",
    "house_geo_gdf.info()"
   ]
  },
  {
   "cell_type": "code",
   "execution_count": 24,
   "metadata": {},
   "outputs": [],
   "source": [
    "joined_gdf = gpd.sjoin(house_geo_gdf, cities_gdf[['City', 'buffer']], how='left', predicate='intersects', lsuffix='_house', rsuffix='_city')\n"
   ]
  },
  {
   "cell_type": "code",
   "execution_count": 25,
   "metadata": {},
   "outputs": [
    {
     "name": "stdout",
     "output_type": "stream",
     "text": [
      "<class 'geopandas.geodataframe.GeoDataFrame'>\n",
      "Index: 5662 entries, 0 to 5662\n",
      "Data columns (total 5 columns):\n",
      " #   Column         Non-Null Count  Dtype   \n",
      "---  ------         --------------  -----   \n",
      " 0   id             5662 non-null   Int64   \n",
      " 1   latitude       5660 non-null   float64 \n",
      " 2   longitude      5660 non-null   float64 \n",
      " 3   geometry       5662 non-null   geometry\n",
      " 4   Assigned_City  1578 non-null   object  \n",
      "dtypes: Int64(1), float64(2), geometry(1), object(1)\n",
      "memory usage: 270.9+ KB\n"
     ]
    }
   ],
   "source": [
    "house_geo_gdf['Assigned_City'] = joined_gdf['City']\n",
    "house_geo_gdf.info()\n"
   ]
  },
  {
   "cell_type": "code",
   "execution_count": 26,
   "metadata": {},
   "outputs": [
    {
     "name": "stdout",
     "output_type": "stream",
     "text": [
      "            id   latitude  longitude                  geometry Assigned_City\n",
      "6     20248858  50.839333   4.430145  POINT (4.43014 50.83933)      Brussels\n",
      "8     20250831  51.177267   4.375369  POINT (4.37537 51.17727)       Antwerp\n",
      "14    20221782  51.203166   4.462397   POINT (4.4624 51.20317)       Antwerp\n",
      "15    20236558  51.212485   4.429373  POINT (4.42937 51.21249)       Antwerp\n",
      "18    20251360  50.884898   4.670449   POINT (4.67045 50.8849)        Leuven\n",
      "...        ...        ...        ...                       ...           ...\n",
      "5642  20160020  51.221649   4.433501   POINT (4.4335 51.22165)       Antwerp\n",
      "5645  20176735  51.053502   3.754882   POINT (3.75488 51.0535)         Ghent\n",
      "5647  20192342  50.585528   5.517862  POINT (5.51786 50.58553)         Liège\n",
      "5648  20205927  50.590662   5.499791  POINT (5.49979 50.59066)         Liège\n",
      "5650  20208641  51.222408   4.440489  POINT (4.44049 51.22241)       Antwerp\n",
      "\n",
      "[1578 rows x 5 columns]\n",
      "<class 'geopandas.geodataframe.GeoDataFrame'>\n",
      "Index: 1578 entries, 6 to 5650\n",
      "Data columns (total 5 columns):\n",
      " #   Column         Non-Null Count  Dtype   \n",
      "---  ------         --------------  -----   \n",
      " 0   id             1578 non-null   Int64   \n",
      " 1   latitude       1578 non-null   float64 \n",
      " 2   longitude      1578 non-null   float64 \n",
      " 3   geometry       1578 non-null   geometry\n",
      " 4   Assigned_City  1578 non-null   object  \n",
      "dtypes: Int64(1), float64(2), geometry(1), object(1)\n",
      "memory usage: 75.5+ KB\n"
     ]
    }
   ],
   "source": [
    "\n",
    "#Slicing and checking\n",
    "check_city = house_geo_gdf[house_geo_gdf['Assigned_City'].notna()]\n",
    "print(check_city)\n",
    "\n",
    "check_city.info()\n"
   ]
  },
  {
   "cell_type": "code",
   "execution_count": 27,
   "metadata": {},
   "outputs": [
    {
     "name": "stdout",
     "output_type": "stream",
     "text": [
      "<class 'pandas.core.frame.DataFrame'>\n",
      "RangeIndex: 5662 entries, 0 to 5661\n",
      "Data columns (total 26 columns):\n",
      " #   Column              Non-Null Count  Dtype   \n",
      "---  ------              --------------  -----   \n",
      " 0   id                  5662 non-null   Int64   \n",
      " 1   locality_name       5662 non-null   category\n",
      " 2   Postal_code         5662 non-null   object  \n",
      " 3   Price               5662 non-null   Int64   \n",
      " 4   Subtype             5662 non-null   category\n",
      " 5   Number_of_bedrooms  5662 non-null   Int64   \n",
      " 6   Living_area         5662 non-null   Int64   \n",
      " 7   street              5662 non-null   category\n",
      " 8   number              5645 non-null   category\n",
      " 9   latitude            5660 non-null   float64 \n",
      " 10  longitude           5660 non-null   float64 \n",
      " 11  Open_fire           5662 non-null   Int64   \n",
      " 12  Swimming_Pool       5662 non-null   Int64   \n",
      " 13  hasTerrace          5662 non-null   Int64   \n",
      " 14  terraceSurface      5662 non-null   Int64   \n",
      " 15  gardenSurface       5662 non-null   Int64   \n",
      " 16  Kitchen_type        3512 non-null   category\n",
      " 17  Number_of_facades   5662 non-null   Int64   \n",
      " 18  State_of_building   5129 non-null   category\n",
      " 19  Furnished           5662 non-null   Int64   \n",
      " 20  epc                 5407 non-null   category\n",
      " 21  landSurface         4825 non-null   float64 \n",
      " 22  price_per_sqm       5662 non-null   float64 \n",
      " 23  price_per_sqm_land  4825 non-null   float64 \n",
      " 24  Province            5662 non-null   category\n",
      " 25  Assigned_City       1578 non-null   object  \n",
      "dtypes: Int64(11), category(8), float64(5), object(2)\n",
      "memory usage: 1.1+ MB\n"
     ]
    }
   ],
   "source": [
    "#Merge the assigned city column to the main dataframe\n",
    "\n",
    "df = pd.merge(df, house_geo_gdf[['id', 'Assigned_City']], on='id', how='left')\n",
    "\n",
    "df.info()\n"
   ]
  },
  {
   "cell_type": "code",
   "execution_count": 28,
   "metadata": {},
   "outputs": [],
   "source": [
    "#Make a boolean column of Assigned_City and transform to categorical\n",
    "\n",
    "df['Has_Assigned_City'] = df['Assigned_City'] != None\n",
    "df['Has_Assigned_City'] = df['Has_Assigned_City'].astype('category')"
   ]
  },
  {
   "cell_type": "markdown",
   "metadata": {},
   "source": [
    "**GEO-MAPPING**"
   ]
  },
  {
   "cell_type": "code",
   "execution_count": 29,
   "metadata": {},
   "outputs": [
    {
     "data": {
      "text/html": [
       "<div>\n",
       "<style scoped>\n",
       "    .dataframe tbody tr th:only-of-type {\n",
       "        vertical-align: middle;\n",
       "    }\n",
       "\n",
       "    .dataframe tbody tr th {\n",
       "        vertical-align: top;\n",
       "    }\n",
       "\n",
       "    .dataframe thead th {\n",
       "        text-align: right;\n",
       "    }\n",
       "</style>\n",
       "<table border=\"1\" class=\"dataframe\">\n",
       "  <thead>\n",
       "    <tr style=\"text-align: right;\">\n",
       "      <th></th>\n",
       "      <th>id</th>\n",
       "      <th>locality_name</th>\n",
       "      <th>Postal_code</th>\n",
       "      <th>Price</th>\n",
       "      <th>Subtype</th>\n",
       "      <th>Number_of_bedrooms</th>\n",
       "      <th>Living_area</th>\n",
       "      <th>street</th>\n",
       "      <th>number</th>\n",
       "      <th>latitude</th>\n",
       "      <th>...</th>\n",
       "      <th>Number_of_facades</th>\n",
       "      <th>State_of_building</th>\n",
       "      <th>Furnished</th>\n",
       "      <th>epc</th>\n",
       "      <th>landSurface</th>\n",
       "      <th>price_per_sqm</th>\n",
       "      <th>price_per_sqm_land</th>\n",
       "      <th>Province</th>\n",
       "      <th>Assigned_City</th>\n",
       "      <th>Has_Assigned_City</th>\n",
       "    </tr>\n",
       "  </thead>\n",
       "  <tbody>\n",
       "    <tr>\n",
       "      <th>0</th>\n",
       "      <td>20252354</td>\n",
       "      <td>Ronse</td>\n",
       "      <td>9600</td>\n",
       "      <td>319000</td>\n",
       "      <td>House</td>\n",
       "      <td>3</td>\n",
       "      <td>125</td>\n",
       "      <td>Rotterij</td>\n",
       "      <td>148</td>\n",
       "      <td>50.744176</td>\n",
       "      <td>...</td>\n",
       "      <td>4</td>\n",
       "      <td>To renovate</td>\n",
       "      <td>0</td>\n",
       "      <td>F</td>\n",
       "      <td>767.0</td>\n",
       "      <td>2552.000000</td>\n",
       "      <td>415.906128</td>\n",
       "      <td>East Flanders</td>\n",
       "      <td>NaN</td>\n",
       "      <td>True</td>\n",
       "    </tr>\n",
       "    <tr>\n",
       "      <th>1</th>\n",
       "      <td>20251003</td>\n",
       "      <td>Geraardsbergen</td>\n",
       "      <td>9500</td>\n",
       "      <td>299999</td>\n",
       "      <td>House</td>\n",
       "      <td>3</td>\n",
       "      <td>167</td>\n",
       "      <td>Pirrestraat</td>\n",
       "      <td>17</td>\n",
       "      <td>50.752121</td>\n",
       "      <td>...</td>\n",
       "      <td>2</td>\n",
       "      <td>Good</td>\n",
       "      <td>0</td>\n",
       "      <td>D</td>\n",
       "      <td>1050.0</td>\n",
       "      <td>1796.401198</td>\n",
       "      <td>285.713333</td>\n",
       "      <td>East Flanders</td>\n",
       "      <td>NaN</td>\n",
       "      <td>True</td>\n",
       "    </tr>\n",
       "    <tr>\n",
       "      <th>2</th>\n",
       "      <td>20252002</td>\n",
       "      <td>Mechelen</td>\n",
       "      <td>2800</td>\n",
       "      <td>275000</td>\n",
       "      <td>House</td>\n",
       "      <td>3</td>\n",
       "      <td>154</td>\n",
       "      <td>Caputsteenstraat</td>\n",
       "      <td>150</td>\n",
       "      <td>51.033269</td>\n",
       "      <td>...</td>\n",
       "      <td>2</td>\n",
       "      <td>To renovate</td>\n",
       "      <td>0</td>\n",
       "      <td>E</td>\n",
       "      <td>120.0</td>\n",
       "      <td>1785.714286</td>\n",
       "      <td>2291.666667</td>\n",
       "      <td>Antwerp</td>\n",
       "      <td>NaN</td>\n",
       "      <td>True</td>\n",
       "    </tr>\n",
       "    <tr>\n",
       "      <th>3</th>\n",
       "      <td>20252352</td>\n",
       "      <td>Gooik</td>\n",
       "      <td>1755</td>\n",
       "      <td>295000</td>\n",
       "      <td>House</td>\n",
       "      <td>3</td>\n",
       "      <td>172</td>\n",
       "      <td>Strijlandstraat</td>\n",
       "      <td>45</td>\n",
       "      <td>50.791877</td>\n",
       "      <td>...</td>\n",
       "      <td>3</td>\n",
       "      <td>To renovate</td>\n",
       "      <td>0</td>\n",
       "      <td>F</td>\n",
       "      <td>309.0</td>\n",
       "      <td>1715.116279</td>\n",
       "      <td>954.692557</td>\n",
       "      <td>Brabant_Wallon</td>\n",
       "      <td>NaN</td>\n",
       "      <td>True</td>\n",
       "    </tr>\n",
       "    <tr>\n",
       "      <th>4</th>\n",
       "      <td>20250985</td>\n",
       "      <td>Oetingen</td>\n",
       "      <td>1755</td>\n",
       "      <td>560000</td>\n",
       "      <td>House</td>\n",
       "      <td>4</td>\n",
       "      <td>350</td>\n",
       "      <td>Blijkheerstraat</td>\n",
       "      <td>70</td>\n",
       "      <td>50.775412</td>\n",
       "      <td>...</td>\n",
       "      <td>3</td>\n",
       "      <td>Good</td>\n",
       "      <td>0</td>\n",
       "      <td>C</td>\n",
       "      <td>NaN</td>\n",
       "      <td>1600.000000</td>\n",
       "      <td>NaN</td>\n",
       "      <td>Brabant_Wallon</td>\n",
       "      <td>NaN</td>\n",
       "      <td>True</td>\n",
       "    </tr>\n",
       "    <tr>\n",
       "      <th>5</th>\n",
       "      <td>20251715</td>\n",
       "      <td>Dilbeek</td>\n",
       "      <td>1700</td>\n",
       "      <td>715000</td>\n",
       "      <td>House</td>\n",
       "      <td>3</td>\n",
       "      <td>280</td>\n",
       "      <td>Herdebeekstraat 94-94A</td>\n",
       "      <td>0</td>\n",
       "      <td>50.840610</td>\n",
       "      <td>...</td>\n",
       "      <td>3</td>\n",
       "      <td>As new</td>\n",
       "      <td>0</td>\n",
       "      <td>C</td>\n",
       "      <td>374.0</td>\n",
       "      <td>2553.571429</td>\n",
       "      <td>1911.764706</td>\n",
       "      <td>Brabant_Wallon</td>\n",
       "      <td>NaN</td>\n",
       "      <td>True</td>\n",
       "    </tr>\n",
       "    <tr>\n",
       "      <th>6</th>\n",
       "      <td>20248858</td>\n",
       "      <td>Woluwe-Saint-Lambert</td>\n",
       "      <td>1200</td>\n",
       "      <td>790000</td>\n",
       "      <td>House</td>\n",
       "      <td>5</td>\n",
       "      <td>349</td>\n",
       "      <td>Rue De La Cambre - Terkamerenstraat</td>\n",
       "      <td>296</td>\n",
       "      <td>50.839333</td>\n",
       "      <td>...</td>\n",
       "      <td>2</td>\n",
       "      <td>Good</td>\n",
       "      <td>0</td>\n",
       "      <td>F</td>\n",
       "      <td>160.0</td>\n",
       "      <td>2263.610315</td>\n",
       "      <td>4937.500000</td>\n",
       "      <td>Brussels</td>\n",
       "      <td>Brussels</td>\n",
       "      <td>True</td>\n",
       "    </tr>\n",
       "    <tr>\n",
       "      <th>7</th>\n",
       "      <td>20245694</td>\n",
       "      <td>Herzele</td>\n",
       "      <td>9550</td>\n",
       "      <td>198800</td>\n",
       "      <td>House</td>\n",
       "      <td>3</td>\n",
       "      <td>125</td>\n",
       "      <td>Stationsstraat</td>\n",
       "      <td>173</td>\n",
       "      <td>50.894568</td>\n",
       "      <td>...</td>\n",
       "      <td>2</td>\n",
       "      <td>To renovate</td>\n",
       "      <td>0</td>\n",
       "      <td>F</td>\n",
       "      <td>250.0</td>\n",
       "      <td>1590.400000</td>\n",
       "      <td>795.200000</td>\n",
       "      <td>East Flanders</td>\n",
       "      <td>NaN</td>\n",
       "      <td>True</td>\n",
       "    </tr>\n",
       "    <tr>\n",
       "      <th>8</th>\n",
       "      <td>20250831</td>\n",
       "      <td>Wilrijk</td>\n",
       "      <td>2610</td>\n",
       "      <td>299000</td>\n",
       "      <td>House</td>\n",
       "      <td>3</td>\n",
       "      <td>132</td>\n",
       "      <td>Egied Segerslaan</td>\n",
       "      <td>42</td>\n",
       "      <td>51.177267</td>\n",
       "      <td>...</td>\n",
       "      <td>2</td>\n",
       "      <td>As new</td>\n",
       "      <td>0</td>\n",
       "      <td>D</td>\n",
       "      <td>145.0</td>\n",
       "      <td>2265.151515</td>\n",
       "      <td>2062.068966</td>\n",
       "      <td>Antwerp</td>\n",
       "      <td>Antwerp</td>\n",
       "      <td>True</td>\n",
       "    </tr>\n",
       "    <tr>\n",
       "      <th>9</th>\n",
       "      <td>20250541</td>\n",
       "      <td>Brecht</td>\n",
       "      <td>2960</td>\n",
       "      <td>469000</td>\n",
       "      <td>House</td>\n",
       "      <td>3</td>\n",
       "      <td>153</td>\n",
       "      <td>Cambeenbos Laan D</td>\n",
       "      <td>3</td>\n",
       "      <td>51.310017</td>\n",
       "      <td>...</td>\n",
       "      <td>4</td>\n",
       "      <td>To renovate</td>\n",
       "      <td>0</td>\n",
       "      <td>D</td>\n",
       "      <td>NaN</td>\n",
       "      <td>3065.359477</td>\n",
       "      <td>NaN</td>\n",
       "      <td>Antwerp</td>\n",
       "      <td>NaN</td>\n",
       "      <td>True</td>\n",
       "    </tr>\n",
       "  </tbody>\n",
       "</table>\n",
       "<p>10 rows × 27 columns</p>\n",
       "</div>"
      ],
      "text/plain": [
       "         id         locality_name Postal_code   Price Subtype  \\\n",
       "0  20252354                 Ronse        9600  319000   House   \n",
       "1  20251003        Geraardsbergen        9500  299999   House   \n",
       "2  20252002              Mechelen        2800  275000   House   \n",
       "3  20252352                 Gooik        1755  295000   House   \n",
       "4  20250985              Oetingen        1755  560000   House   \n",
       "5  20251715               Dilbeek        1700  715000   House   \n",
       "6  20248858  Woluwe-Saint-Lambert        1200  790000   House   \n",
       "7  20245694               Herzele        9550  198800   House   \n",
       "8  20250831               Wilrijk        2610  299000   House   \n",
       "9  20250541                Brecht        2960  469000   House   \n",
       "\n",
       "   Number_of_bedrooms  Living_area                               street  \\\n",
       "0                   3          125                             Rotterij   \n",
       "1                   3          167                          Pirrestraat   \n",
       "2                   3          154                     Caputsteenstraat   \n",
       "3                   3          172                      Strijlandstraat   \n",
       "4                   4          350                      Blijkheerstraat   \n",
       "5                   3          280               Herdebeekstraat 94-94A   \n",
       "6                   5          349  Rue De La Cambre - Terkamerenstraat   \n",
       "7                   3          125                       Stationsstraat   \n",
       "8                   3          132                     Egied Segerslaan   \n",
       "9                   3          153                    Cambeenbos Laan D   \n",
       "\n",
       "  number   latitude  ...  Number_of_facades  State_of_building  Furnished  \\\n",
       "0    148  50.744176  ...                  4        To renovate          0   \n",
       "1     17  50.752121  ...                  2               Good          0   \n",
       "2    150  51.033269  ...                  2        To renovate          0   \n",
       "3     45  50.791877  ...                  3        To renovate          0   \n",
       "4     70  50.775412  ...                  3               Good          0   \n",
       "5      0  50.840610  ...                  3             As new          0   \n",
       "6    296  50.839333  ...                  2               Good          0   \n",
       "7    173  50.894568  ...                  2        To renovate          0   \n",
       "8     42  51.177267  ...                  2             As new          0   \n",
       "9      3  51.310017  ...                  4        To renovate          0   \n",
       "\n",
       "   epc  landSurface  price_per_sqm price_per_sqm_land        Province  \\\n",
       "0    F        767.0    2552.000000         415.906128   East Flanders   \n",
       "1    D       1050.0    1796.401198         285.713333   East Flanders   \n",
       "2    E        120.0    1785.714286        2291.666667         Antwerp   \n",
       "3    F        309.0    1715.116279         954.692557  Brabant_Wallon   \n",
       "4    C          NaN    1600.000000                NaN  Brabant_Wallon   \n",
       "5    C        374.0    2553.571429        1911.764706  Brabant_Wallon   \n",
       "6    F        160.0    2263.610315        4937.500000        Brussels   \n",
       "7    F        250.0    1590.400000         795.200000   East Flanders   \n",
       "8    D        145.0    2265.151515        2062.068966         Antwerp   \n",
       "9    D          NaN    3065.359477                NaN         Antwerp   \n",
       "\n",
       "  Assigned_City  Has_Assigned_City  \n",
       "0           NaN               True  \n",
       "1           NaN               True  \n",
       "2           NaN               True  \n",
       "3           NaN               True  \n",
       "4           NaN               True  \n",
       "5           NaN               True  \n",
       "6      Brussels               True  \n",
       "7           NaN               True  \n",
       "8       Antwerp               True  \n",
       "9           NaN               True  \n",
       "\n",
       "[10 rows x 27 columns]"
      ]
     },
     "execution_count": 29,
     "metadata": {},
     "output_type": "execute_result"
    }
   ],
   "source": [
    "df.head(10)"
   ]
  },
  {
   "cell_type": "code",
   "execution_count": 30,
   "metadata": {},
   "outputs": [
    {
     "data": {
      "text/html": [
       "<div style=\"width:100%;\"><div style=\"position:relative;width:100%;height:0;padding-bottom:60%;\"><span style=\"color:#565656\">Make this Notebook Trusted to load map: File -> Trust Notebook</span><iframe srcdoc=\"&lt;!DOCTYPE html&gt;\n",
       "&lt;html&gt;\n",
       "&lt;head&gt;\n",
       "    \n",
       "    &lt;meta http-equiv=&quot;content-type&quot; content=&quot;text/html; charset=UTF-8&quot; /&gt;\n",
       "    \n",
       "        &lt;script&gt;\n",
       "            L_NO_TOUCH = false;\n",
       "            L_DISABLE_3D = false;\n",
       "        &lt;/script&gt;\n",
       "    \n",
       "    &lt;style&gt;html, body {width: 100%;height: 100%;margin: 0;padding: 0;}&lt;/style&gt;\n",
       "    &lt;style&gt;#map {position:absolute;top:0;bottom:0;right:0;left:0;}&lt;/style&gt;\n",
       "    &lt;script src=&quot;https://cdn.jsdelivr.net/npm/leaflet@1.9.3/dist/leaflet.js&quot;&gt;&lt;/script&gt;\n",
       "    &lt;script src=&quot;https://code.jquery.com/jquery-3.7.1.min.js&quot;&gt;&lt;/script&gt;\n",
       "    &lt;script src=&quot;https://cdn.jsdelivr.net/npm/bootstrap@5.2.2/dist/js/bootstrap.bundle.min.js&quot;&gt;&lt;/script&gt;\n",
       "    &lt;script src=&quot;https://cdnjs.cloudflare.com/ajax/libs/Leaflet.awesome-markers/2.0.2/leaflet.awesome-markers.js&quot;&gt;&lt;/script&gt;\n",
       "    &lt;link rel=&quot;stylesheet&quot; href=&quot;https://cdn.jsdelivr.net/npm/leaflet@1.9.3/dist/leaflet.css&quot;/&gt;\n",
       "    &lt;link rel=&quot;stylesheet&quot; href=&quot;https://cdn.jsdelivr.net/npm/bootstrap@5.2.2/dist/css/bootstrap.min.css&quot;/&gt;\n",
       "    &lt;link rel=&quot;stylesheet&quot; href=&quot;https://netdna.bootstrapcdn.com/bootstrap/3.0.0/css/bootstrap-glyphicons.css&quot;/&gt;\n",
       "    &lt;link rel=&quot;stylesheet&quot; href=&quot;https://cdn.jsdelivr.net/npm/@fortawesome/fontawesome-free@6.2.0/css/all.min.css&quot;/&gt;\n",
       "    &lt;link rel=&quot;stylesheet&quot; href=&quot;https://cdnjs.cloudflare.com/ajax/libs/Leaflet.awesome-markers/2.0.2/leaflet.awesome-markers.css&quot;/&gt;\n",
       "    &lt;link rel=&quot;stylesheet&quot; href=&quot;https://cdn.jsdelivr.net/gh/python-visualization/folium/folium/templates/leaflet.awesome.rotate.min.css&quot;/&gt;\n",
       "    \n",
       "            &lt;meta name=&quot;viewport&quot; content=&quot;width=device-width,\n",
       "                initial-scale=1.0, maximum-scale=1.0, user-scalable=no&quot; /&gt;\n",
       "            &lt;style&gt;\n",
       "                #map_82da236133b2dd6335f3a97ed8e2d250 {\n",
       "                    position: relative;\n",
       "                    width: 100.0%;\n",
       "                    height: 100.0%;\n",
       "                    left: 0.0%;\n",
       "                    top: 0.0%;\n",
       "                }\n",
       "                .leaflet-container { font-size: 1rem; }\n",
       "            &lt;/style&gt;\n",
       "        \n",
       "&lt;/head&gt;\n",
       "&lt;body&gt;\n",
       "    \n",
       "    \n",
       "            &lt;div class=&quot;folium-map&quot; id=&quot;map_82da236133b2dd6335f3a97ed8e2d250&quot; &gt;&lt;/div&gt;\n",
       "        \n",
       "&lt;/body&gt;\n",
       "&lt;script&gt;\n",
       "    \n",
       "    \n",
       "            var map_82da236133b2dd6335f3a97ed8e2d250 = L.map(\n",
       "                &quot;map_82da236133b2dd6335f3a97ed8e2d250&quot;,\n",
       "                {\n",
       "                    center: [50.88955204088041, 4.169499554437414],\n",
       "                    crs: L.CRS.EPSG3857,\n",
       "                    zoom: 7,\n",
       "                    zoomControl: true,\n",
       "                    preferCanvas: false,\n",
       "                }\n",
       "            );\n",
       "            L.control.scale().addTo(map_82da236133b2dd6335f3a97ed8e2d250);\n",
       "\n",
       "            \n",
       "\n",
       "        \n",
       "    \n",
       "            var tile_layer_2f1440ec19362e934f7af29d00b46ab0 = L.tileLayer(\n",
       "                &quot;https://tile.openstreetmap.org/{z}/{x}/{y}.png&quot;,\n",
       "                {&quot;attribution&quot;: &quot;\\u0026copy; \\u003ca href=\\&quot;https://www.openstreetmap.org/copyright\\&quot;\\u003eOpenStreetMap\\u003c/a\\u003e contributors&quot;, &quot;detectRetina&quot;: false, &quot;maxNativeZoom&quot;: 19, &quot;maxZoom&quot;: 19, &quot;minZoom&quot;: 0, &quot;noWrap&quot;: false, &quot;opacity&quot;: 1, &quot;subdomains&quot;: &quot;abc&quot;, &quot;tms&quot;: false}\n",
       "            );\n",
       "        \n",
       "    \n",
       "            tile_layer_2f1440ec19362e934f7af29d00b46ab0.addTo(map_82da236133b2dd6335f3a97ed8e2d250);\n",
       "        \n",
       "&lt;/script&gt;\n",
       "&lt;/html&gt;\" style=\"position:absolute;width:100%;height:100%;left:0;top:0;border:none !important;\" allowfullscreen webkitallowfullscreen mozallowfullscreen></iframe></div></div>"
      ],
      "text/plain": [
       "<folium.folium.Map at 0x2d3ead80800>"
      ]
     },
     "execution_count": 30,
     "metadata": {},
     "output_type": "execute_result"
    }
   ],
   "source": [
    "#Getting a map from folium with the coordinates of the mean lat and long of the dataframe\n",
    "\n",
    "m = folium.Map(location = [df.latitude.mean(), df.longitude.mean()], zoom_start=7, control_scale= True)\n",
    "\n",
    "m\n"
   ]
  },
  {
   "cell_type": "code",
   "execution_count": 31,
   "metadata": {},
   "outputs": [],
   "source": [
    "map_values = df[['latitude', 'longitude']].dropna()\n",
    "\n",
    "map_data = map_values.values.tolist()"
   ]
  },
  {
   "cell_type": "code",
   "execution_count": 32,
   "metadata": {},
   "outputs": [],
   "source": [
    "for coord in map_data:\n",
    "    folium.Marker(location=coord).add_to(m)\n",
    "    \n",
    "# m.save('map.html')\n",
    "# webbrowser.open(r'C:\\Users\\Rik\\Desktop\\immo-eliza-team6-analysis\\analysis\\map.html')"
   ]
  },
  {
   "cell_type": "code",
   "execution_count": null,
   "metadata": {},
   "outputs": [],
   "source": []
  },
  {
   "cell_type": "markdown",
   "metadata": {},
   "source": [
    "**SUBTYPE**"
   ]
  },
  {
   "cell_type": "code",
   "execution_count": 33,
   "metadata": {},
   "outputs": [
    {
     "data": {
      "text/plain": [
       "np.float64(0.0)"
      ]
     },
     "execution_count": 33,
     "metadata": {},
     "output_type": "execute_result"
    }
   ],
   "source": [
    "#Check the missing values\n",
    "df['Subtype'].isnull().mean()*100"
   ]
  },
  {
   "cell_type": "code",
   "execution_count": 34,
   "metadata": {},
   "outputs": [
    {
     "data": {
      "text/plain": [
       "np.int64(0)"
      ]
     },
     "execution_count": 34,
     "metadata": {},
     "output_type": "execute_result"
    }
   ],
   "source": [
    "df['Subtype'].isnull().sum()"
   ]
  },
  {
   "cell_type": "code",
   "execution_count": 35,
   "metadata": {},
   "outputs": [
    {
     "data": {
      "text/plain": [
       "Subtype\n",
       "House    5662\n",
       "Name: count, dtype: int64"
      ]
     },
     "execution_count": 35,
     "metadata": {},
     "output_type": "execute_result"
    }
   ],
   "source": [
    "frequency = df['Subtype'].value_counts()\n",
    "frequency"
   ]
  },
  {
   "cell_type": "code",
   "execution_count": 36,
   "metadata": {},
   "outputs": [
    {
     "data": {
      "image/png": "[encoded data removed]",
      "text/plain": [
       "<Figure size 1400x400 with 1 Axes>"
      ]
     },
     "metadata": {},
     "output_type": "display_data"
    }
   ],
   "source": [
    "#Detecting Outliers\n",
    "frequency = df['Subtype'].value_counts()\n",
    "\n",
    "plt.figure(figsize=(14, 4))\n",
    "sns.barplot(x=frequency.index, y=frequency.values)\n",
    "plt.title('Frequency of Subtype')\n",
    "plt.xlabel('Subtype')\n",
    "plt.ylabel('Frequency')\n",
    "plt.show()\n"
   ]
  },
  {
   "cell_type": "code",
   "execution_count": 37,
   "metadata": {},
   "outputs": [
    {
     "name": "stdout",
     "output_type": "stream",
     "text": [
      "  subtype  count\n",
      "0   House   5662\n"
     ]
    }
   ],
   "source": [
    "#Creating a seperate frequency dataframe\n",
    "\n",
    "frequency_df = frequency.reset_index()\n",
    "frequency_df.columns = ['subtype', 'count']\n",
    "\n",
    "print(frequency_df)"
   ]
  },
  {
   "cell_type": "code",
   "execution_count": 38,
   "metadata": {},
   "outputs": [
    {
     "name": "stdout",
     "output_type": "stream",
     "text": [
      "Rare Values: Series([], Name: count, dtype: int64)\n"
     ]
    }
   ],
   "source": [
    "#Determing the rare values (threshold 5%)\n",
    "threshold = 0.05 * len(df)  \n",
    "rare_categories = frequency[frequency < threshold]\n",
    "\n",
    "print(\"Rare Values:\", rare_categories)"
   ]
  },
  {
   "cell_type": "code",
   "execution_count": 39,
   "metadata": {},
   "outputs": [],
   "source": [
    "#Here we will use One-Hot Encoding (pd.get_dummies) because this is a nominal (unordered) column and the number of categories is small.\n",
    "df_one_hot_subtype = pd.get_dummies(df.copy(), columns=['Subtype'], prefix='Subtype', drop_first=True)\n",
    "\n"
   ]
  },
  {
   "cell_type": "code",
   "execution_count": 40,
   "metadata": {},
   "outputs": [
    {
     "name": "stdout",
     "output_type": "stream",
     "text": [
      "<class 'pandas.core.frame.DataFrame'>\n",
      "RangeIndex: 5662 entries, 0 to 5661\n",
      "Data columns (total 26 columns):\n",
      " #   Column              Non-Null Count  Dtype   \n",
      "---  ------              --------------  -----   \n",
      " 0   id                  5662 non-null   Int64   \n",
      " 1   locality_name       5662 non-null   category\n",
      " 2   Postal_code         5662 non-null   object  \n",
      " 3   Price               5662 non-null   Int64   \n",
      " 4   Number_of_bedrooms  5662 non-null   Int64   \n",
      " 5   Living_area         5662 non-null   Int64   \n",
      " 6   street              5662 non-null   category\n",
      " 7   number              5645 non-null   category\n",
      " 8   latitude            5660 non-null   float64 \n",
      " 9   longitude           5660 non-null   float64 \n",
      " 10  Open_fire           5662 non-null   Int64   \n",
      " 11  Swimming_Pool       5662 non-null   Int64   \n",
      " 12  hasTerrace          5662 non-null   Int64   \n",
      " 13  terraceSurface      5662 non-null   Int64   \n",
      " 14  gardenSurface       5662 non-null   Int64   \n",
      " 15  Kitchen_type        3512 non-null   category\n",
      " 16  Number_of_facades   5662 non-null   Int64   \n",
      " 17  State_of_building   5129 non-null   category\n",
      " 18  Furnished           5662 non-null   Int64   \n",
      " 19  epc                 5407 non-null   category\n",
      " 20  landSurface         4825 non-null   float64 \n",
      " 21  price_per_sqm       5662 non-null   float64 \n",
      " 22  price_per_sqm_land  4825 non-null   float64 \n",
      " 23  Province            5662 non-null   category\n",
      " 24  Assigned_City       1578 non-null   object  \n",
      " 25  Has_Assigned_City   5662 non-null   category\n",
      "dtypes: Int64(11), category(8), float64(5), object(2)\n",
      "memory usage: 1.1+ MB\n"
     ]
    }
   ],
   "source": [
    "df_one_hot_subtype.info()"
   ]
  },
  {
   "cell_type": "markdown",
   "metadata": {},
   "source": [
    "**KITCHEN_TYPE**\n"
   ]
  },
  {
   "cell_type": "code",
   "execution_count": 41,
   "metadata": {},
   "outputs": [
    {
     "data": {
      "text/plain": [
       "np.float64(37.97244789826916)"
      ]
     },
     "execution_count": 41,
     "metadata": {},
     "output_type": "execute_result"
    }
   ],
   "source": [
    "#Checking the missing values\n",
    "df['Kitchen_type'].isnull().mean()*100"
   ]
  },
  {
   "cell_type": "code",
   "execution_count": 42,
   "metadata": {},
   "outputs": [
    {
     "data": {
      "text/plain": [
       "0                    NaN\n",
       "1              Installed\n",
       "2          Semi equipped\n",
       "3                    NaN\n",
       "4              Installed\n",
       "5                    NaN\n",
       "6     Usa hyper equipped\n",
       "7          Semi equipped\n",
       "8                    NaN\n",
       "9          Semi equipped\n",
       "10             Installed\n",
       "11             Installed\n",
       "12             Installed\n",
       "13        Hyper equipped\n",
       "14         Semi equipped\n",
       "15        Hyper equipped\n",
       "16             Installed\n",
       "17             Installed\n",
       "18             Installed\n",
       "19             Installed\n",
       "20                   NaN\n",
       "21             Installed\n",
       "22         Semi equipped\n",
       "23             Installed\n",
       "24         Usa installed\n",
       "25        Hyper equipped\n",
       "26         Semi equipped\n",
       "27                   NaN\n",
       "28             Installed\n",
       "29                   NaN\n",
       "Name: Kitchen_type, dtype: category\n",
       "Categories (8, object): ['Hyper equipped', 'Installed', 'Not installed', 'Semi equipped', 'Usa hyper equipped', 'Usa installed', 'Usa semi equipped', 'Usa uninstalled']"
      ]
     },
     "execution_count": 42,
     "metadata": {},
     "output_type": "execute_result"
    }
   ],
   "source": [
    "df['Kitchen_type'].isnull().sum()\n",
    "df['Kitchen_type'].head(30)"
   ]
  },
  {
   "cell_type": "code",
   "execution_count": 43,
   "metadata": {},
   "outputs": [],
   "source": [
    "#Dealing with the high number of missing values\n",
    "#df['Kitchen_type'] = df['Kitchen_type'].apply(lambda x: 'Missing' if pd.isna(x) else x)"
   ]
  },
  {
   "cell_type": "code",
   "execution_count": 44,
   "metadata": {},
   "outputs": [
    {
     "data": {
      "text/plain": [
       "Kitchen_type\n",
       "Installed             1842\n",
       "Hyper equipped         827\n",
       "Semi equipped          594\n",
       "Not installed          192\n",
       "Usa installed           29\n",
       "Usa hyper equipped      23\n",
       "Usa uninstalled          4\n",
       "Usa semi equipped        1\n",
       "Name: count, dtype: int64"
      ]
     },
     "execution_count": 44,
     "metadata": {},
     "output_type": "execute_result"
    }
   ],
   "source": [
    "frequency = df['Kitchen_type'].value_counts()\n",
    "frequency"
   ]
  },
  {
   "cell_type": "code",
   "execution_count": 45,
   "metadata": {},
   "outputs": [
    {
     "data": {
      "image/png": "[encoded data removed]",
      "text/plain": [
       "<Figure size 1400x400 with 1 Axes>"
      ]
     },
     "metadata": {},
     "output_type": "display_data"
    }
   ],
   "source": [
    "#Detecting Outliers\n",
    "frequency = df['Kitchen_type'].value_counts()\n",
    "\n",
    "plt.figure(figsize=(14, 4))\n",
    "sns.barplot(x=frequency.index, y=frequency.values)\n",
    "plt.title('Frequency of Kitchen_type')\n",
    "plt.xlabel('Kitchen_type')\n",
    "plt.ylabel('Frequency')\n",
    "plt.show()"
   ]
  },
  {
   "cell_type": "code",
   "execution_count": 46,
   "metadata": {},
   "outputs": [
    {
     "name": "stdout",
     "output_type": "stream",
     "text": [
      "         Kitchen_type  count\n",
      "0           Installed   1842\n",
      "1      Hyper equipped    827\n",
      "2       Semi equipped    594\n",
      "3       Not installed    192\n",
      "4       Usa installed     29\n",
      "5  Usa hyper equipped     23\n",
      "6     Usa uninstalled      4\n",
      "7   Usa semi equipped      1\n"
     ]
    }
   ],
   "source": [
    "#Creating a seperate frequency dataframe\n",
    "\n",
    "frequency_df = frequency.reset_index()\n",
    "frequency_df.columns = ['Kitchen_type', 'count']\n",
    "\n",
    "print(frequency_df)"
   ]
  },
  {
   "cell_type": "code",
   "execution_count": 47,
   "metadata": {},
   "outputs": [
    {
     "name": "stdout",
     "output_type": "stream",
     "text": [
      "Rare Values: Kitchen_type\n",
      "Not installed         192\n",
      "Usa installed          29\n",
      "Usa hyper equipped     23\n",
      "Usa uninstalled         4\n",
      "Usa semi equipped       1\n",
      "Name: count, dtype: int64\n"
     ]
    }
   ],
   "source": [
    "#Determing the rare values (threshold 5%)\n",
    "threshold = 0.05 * len(df)  \n",
    "rare_categories = frequency[frequency < threshold]\n",
    "\n",
    "print(\"Rare Values:\", rare_categories)"
   ]
  },
  {
   "cell_type": "markdown",
   "metadata": {},
   "source": [
    "**State_of_building**"
   ]
  },
  {
   "cell_type": "code",
   "execution_count": 48,
   "metadata": {},
   "outputs": [
    {
     "data": {
      "text/plain": [
       "np.float64(9.41363475803603)"
      ]
     },
     "execution_count": 48,
     "metadata": {},
     "output_type": "execute_result"
    }
   ],
   "source": [
    "#Checking the missing values\n",
    "df['State_of_building'].isnull().mean()*100"
   ]
  },
  {
   "cell_type": "code",
   "execution_count": 49,
   "metadata": {},
   "outputs": [
    {
     "data": {
      "text/plain": [
       "np.int64(533)"
      ]
     },
     "execution_count": 49,
     "metadata": {},
     "output_type": "execute_result"
    }
   ],
   "source": [
    "df['State_of_building'].isnull().sum()"
   ]
  },
  {
   "cell_type": "code",
   "execution_count": 50,
   "metadata": {},
   "outputs": [
    {
     "data": {
      "text/plain": [
       "State_of_building\n",
       "Good              2244\n",
       "As new            1038\n",
       "To renovate        926\n",
       "To be done up      581\n",
       "Just renovated     304\n",
       "To restore          36\n",
       "Name: count, dtype: int64"
      ]
     },
     "execution_count": 50,
     "metadata": {},
     "output_type": "execute_result"
    }
   ],
   "source": [
    "frequency = df['State_of_building'].value_counts()\n",
    "frequency"
   ]
  },
  {
   "cell_type": "code",
   "execution_count": 51,
   "metadata": {},
   "outputs": [
    {
     "data": {
      "image/png": "[encoded data removed]",
      "text/plain": [
       "<Figure size 1400x400 with 1 Axes>"
      ]
     },
     "metadata": {},
     "output_type": "display_data"
    }
   ],
   "source": [
    "#Detecting Outliers\n",
    "frequency = df['State_of_building'].value_counts()\n",
    "\n",
    "plt.figure(figsize=(14, 4))\n",
    "sns.barplot(x=frequency.index, y=frequency.values)\n",
    "plt.title('Frequency of State_of_building')\n",
    "plt.xlabel('State_of_building')\n",
    "plt.ylabel('Frequency')\n",
    "plt.show()"
   ]
  },
  {
   "cell_type": "code",
   "execution_count": 52,
   "metadata": {},
   "outputs": [
    {
     "name": "stdout",
     "output_type": "stream",
     "text": [
      "  State_of_building  count\n",
      "0              Good   2244\n",
      "1            As new   1038\n",
      "2       To renovate    926\n",
      "3     To be done up    581\n",
      "4    Just renovated    304\n",
      "5        To restore     36\n"
     ]
    }
   ],
   "source": [
    "#Creating a seperate frequency dataframe\n",
    "\n",
    "frequency_df = frequency.reset_index()\n",
    "frequency_df.columns = ['State_of_building', 'count']\n",
    "\n",
    "print(frequency_df)"
   ]
  },
  {
   "cell_type": "code",
   "execution_count": 53,
   "metadata": {},
   "outputs": [
    {
     "data": {
      "text/plain": [
       "State_of_building\n",
       "Good              2777\n",
       "As new            1038\n",
       "To renovate        926\n",
       "To be done up      581\n",
       "Just renovated     304\n",
       "To restore          36\n",
       "Name: count, dtype: int64"
      ]
     },
     "execution_count": 53,
     "metadata": {},
     "output_type": "execute_result"
    }
   ],
   "source": [
    "#Dealing with missing values (Imputation)\n",
    "\n",
    "df['State_of_building'] = df['State_of_building'].fillna(df['State_of_building'].mode()[0])\n",
    "frequency = df['State_of_building'].value_counts()\n",
    "frequency\n",
    "\n",
    "#Missing is also a possibility here???\n",
    "\n",
    "#df['State_of_building'] = df['State_of_building'].fillna('Missing')"
   ]
  },
  {
   "cell_type": "code",
   "execution_count": 54,
   "metadata": {},
   "outputs": [
    {
     "name": "stdout",
     "output_type": "stream",
     "text": [
      "Rare Values: State_of_building\n",
      "To restore    36\n",
      "Name: count, dtype: int64\n"
     ]
    }
   ],
   "source": [
    "#Determing the rare values (threshold 5%)\n",
    "threshold = 0.05 * len(df)  \n",
    "rare_categories = frequency[frequency < threshold]\n",
    "\n",
    "print(\"Rare Values:\", rare_categories)"
   ]
  },
  {
   "cell_type": "code",
   "execution_count": 55,
   "metadata": {},
   "outputs": [
    {
     "data": {
      "text/plain": [
       "State_of_building\n",
       "Good              2777\n",
       "As new            1038\n",
       "To renovate        962\n",
       "To be done up      581\n",
       "Just renovated     304\n",
       "Name: count, dtype: int64"
      ]
     },
     "execution_count": 55,
     "metadata": {},
     "output_type": "execute_result"
    }
   ],
   "source": [
    "#Assign the rare value to another value\n",
    "category_map = {'To restore': 'To renovate'}\n",
    "df['State_of_building'] = df['State_of_building'].map(category_map).fillna(df['State_of_building'])\n",
    "\n",
    "frequency = df['State_of_building'].value_counts()\n",
    "frequency"
   ]
  },
  {
   "cell_type": "markdown",
   "metadata": {},
   "source": [
    "**EPC**"
   ]
  },
  {
   "cell_type": "code",
   "execution_count": 56,
   "metadata": {},
   "outputs": [
    {
     "data": {
      "text/plain": [
       "np.float64(4.503708936771459)"
      ]
     },
     "execution_count": 56,
     "metadata": {},
     "output_type": "execute_result"
    }
   ],
   "source": [
    "#Checking the missing values\n",
    "df['epc'].isnull().mean()*100"
   ]
  },
  {
   "cell_type": "code",
   "execution_count": 57,
   "metadata": {},
   "outputs": [
    {
     "data": {
      "text/plain": [
       "np.int64(255)"
      ]
     },
     "execution_count": 57,
     "metadata": {},
     "output_type": "execute_result"
    }
   ],
   "source": [
    "#Checking the missing values\n",
    "df['epc'].isnull().sum()"
   ]
  },
  {
   "cell_type": "code",
   "execution_count": 58,
   "metadata": {},
   "outputs": [
    {
     "data": {
      "text/plain": [
       "epc\n",
       "F      1063\n",
       "C      1051\n",
       "D      1005\n",
       "B       893\n",
       "E       625\n",
       "A       486\n",
       "G       214\n",
       "A+       51\n",
       "A++      19\n",
       "Name: count, dtype: int64"
      ]
     },
     "execution_count": 58,
     "metadata": {},
     "output_type": "execute_result"
    }
   ],
   "source": [
    "frequency = df['epc'].value_counts()\n",
    "frequency"
   ]
  },
  {
   "cell_type": "code",
   "execution_count": 59,
   "metadata": {},
   "outputs": [
    {
     "data": {
      "image/png": "[encoded data removed]",
      "text/plain": [
       "<Figure size 1400x400 with 1 Axes>"
      ]
     },
     "metadata": {},
     "output_type": "display_data"
    }
   ],
   "source": [
    "#Detecting Outliers\n",
    "frequency = df['epc'].value_counts()\n",
    "\n",
    "plt.figure(figsize=(14, 4))\n",
    "sns.barplot(x=frequency.index, y=frequency.values)\n",
    "plt.title('EPC of properties')\n",
    "plt.xlabel('EPC')\n",
    "plt.ylabel('Frequency')\n",
    "plt.show()"
   ]
  },
  {
   "cell_type": "code",
   "execution_count": 60,
   "metadata": {},
   "outputs": [
    {
     "name": "stdout",
     "output_type": "stream",
     "text": [
      "   epc  count\n",
      "0    F   1063\n",
      "1    C   1051\n",
      "2    D   1005\n",
      "3    B    893\n",
      "4    E    625\n",
      "5    A    486\n",
      "6    G    214\n",
      "7   A+     51\n",
      "8  A++     19\n"
     ]
    }
   ],
   "source": [
    "#Creating a seperate frequency dataframe\n",
    "\n",
    "frequency_df = frequency.reset_index()\n",
    "frequency_df.columns = ['epc', 'count']\n",
    "\n",
    "print(frequency_df)"
   ]
  },
  {
   "cell_type": "code",
   "execution_count": 61,
   "metadata": {},
   "outputs": [
    {
     "data": {
      "text/plain": [
       "epc\n",
       "F      1318\n",
       "C      1051\n",
       "D      1005\n",
       "B       893\n",
       "E       625\n",
       "A       486\n",
       "G       214\n",
       "A+       51\n",
       "A++      19\n",
       "Name: count, dtype: int64"
      ]
     },
     "execution_count": 61,
     "metadata": {},
     "output_type": "execute_result"
    }
   ],
   "source": [
    "#Dealing with missing values (Imputation)\n",
    "\n",
    "df['epc'] = df['epc'].fillna(df['epc'].mode()[0])\n",
    "frequency = df['epc'].value_counts()\n",
    "frequency\n",
    "\n",
    "#Missing is also a possibility here???\n",
    "\n",
    "#df['epc'] = df['epc'].fillna('Missing')"
   ]
  },
  {
   "cell_type": "code",
   "execution_count": 62,
   "metadata": {},
   "outputs": [
    {
     "name": "stdout",
     "output_type": "stream",
     "text": [
      "Rare Values: epc\n",
      "G      214\n",
      "A+      51\n",
      "A++     19\n",
      "Name: count, dtype: int64\n"
     ]
    }
   ],
   "source": [
    "#Determing the rare values (threshold 5%)\n",
    "threshold = 0.05 * len(df)  \n",
    "rare_categories = frequency[frequency < threshold]\n",
    "\n",
    "print(\"Rare Values:\", rare_categories)\n"
   ]
  },
  {
   "cell_type": "code",
   "execution_count": 63,
   "metadata": {},
   "outputs": [
    {
     "data": {
      "text/plain": [
       "epc\n",
       "F    1532\n",
       "C    1051\n",
       "D    1005\n",
       "B     893\n",
       "E     625\n",
       "A     556\n",
       "Name: count, dtype: int64"
      ]
     },
     "execution_count": 63,
     "metadata": {},
     "output_type": "execute_result"
    }
   ],
   "source": [
    "#Assign the rare value to another value (EPC G only exist in Brussels and Wallonia)\n",
    "category_map = {'A+': 'A', 'A++': 'A', 'G':'F'}\n",
    "df['epc'] = df['epc'].map(category_map).fillna(df['epc'])\n",
    "\n",
    "frequency = df['epc'].value_counts()\n",
    "frequency"
   ]
  }
 ],
 "metadata": {
  "kernelspec": {
   "display_name": ".immoelizateam",
   "language": "python",
   "name": "python3"
  },
  "language_info": {
   "codemirror_mode": {
    "name": "ipython",
    "version": 3
   },
   "file_extension": ".py",
   "mimetype": "text/x-python",
   "name": "python",
   "nbconvert_exporter": "python",
   "pygments_lexer": "ipython3",
   "version": "3.12.4"
  }
 },
 "nbformat": 4,
 "nbformat_minor": 2
}
