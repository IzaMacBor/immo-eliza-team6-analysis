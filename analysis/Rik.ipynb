{
 "cells": [
  {
   "cell_type": "code",
   "execution_count": 10,
   "metadata": {},
   "outputs": [],
   "source": [
    "import pandas as pd"
   ]
  },
  {
   "cell_type": "code",
   "execution_count": 11,
   "metadata": {},
   "outputs": [],
   "source": [
    "file_path =  r'C:\\Users\\Rik\\Desktop\\immo-eliza-team6-analysis\\data\\clean\\clean_data.csv'\n",
    "\n",
    "df = pd.read_csv(file_path, sep = ',')"
   ]
  },
  {
   "cell_type": "code",
   "execution_count": 14,
   "metadata": {},
   "outputs": [
    {
     "name": "stdout",
     "output_type": "stream",
     "text": [
      "<class 'pandas.core.frame.DataFrame'>\n",
      "RangeIndex: 6602 entries, 0 to 6601\n",
      "Data columns (total 21 columns):\n",
      " #   Column              Non-Null Count  Dtype  \n",
      "---  ------              --------------  -----  \n",
      " 0   id                  6602 non-null   int64  \n",
      " 1   locality_name       6602 non-null   object \n",
      " 2   Postal_code         6602 non-null   object \n",
      " 3   Price               6602 non-null   int64  \n",
      " 4   Subtype             6602 non-null   object \n",
      " 5   Number_of_bedrooms  6602 non-null   int64  \n",
      " 6   Living_area         6602 non-null   int64  \n",
      " 7   street              6602 non-null   object \n",
      " 8   number              6577 non-null   object \n",
      " 9   latitude            6594 non-null   float64\n",
      " 10  longitude           6594 non-null   float64\n",
      " 11  Open_fire           6602 non-null   int64  \n",
      " 12  Swimming_Pool       6602 non-null   int64  \n",
      " 13  hasTerrace          4528 non-null   object \n",
      " 14  terraceSurface      6602 non-null   int64  \n",
      " 15  gardenSurface       6602 non-null   int64  \n",
      " 16  Kitchen_type        4045 non-null   object \n",
      " 17  Number_of_facades   6602 non-null   int64  \n",
      " 18  State_of_building   5984 non-null   object \n",
      " 19  Furnished           6602 non-null   int64  \n",
      " 20  epc                 6289 non-null   object \n",
      "dtypes: float64(2), int64(10), object(9)\n",
      "memory usage: 1.1+ MB\n"
     ]
    }
   ],
   "source": [
    "df.head(30)\n",
    "df.info()"
   ]
  },
  {
   "cell_type": "code",
   "execution_count": 16,
   "metadata": {},
   "outputs": [
    {
     "name": "stdout",
     "output_type": "stream",
     "text": [
      "<class 'pandas.core.frame.DataFrame'>\n",
      "RangeIndex: 6602 entries, 0 to 6601\n",
      "Data columns (total 21 columns):\n",
      " #   Column              Non-Null Count  Dtype  \n",
      "---  ------              --------------  -----  \n",
      " 0   id                  6602 non-null   Int64  \n",
      " 1   locality_name       6602 non-null   object \n",
      " 2   Postal_code         6602 non-null   object \n",
      " 3   Price               6602 non-null   Int64  \n",
      " 4   Subtype             6602 non-null   object \n",
      " 5   Number_of_bedrooms  6602 non-null   Int64  \n",
      " 6   Living_area         6602 non-null   Int64  \n",
      " 7   street              6602 non-null   object \n",
      " 8   number              6577 non-null   object \n",
      " 9   latitude            6594 non-null   float64\n",
      " 10  longitude           6594 non-null   float64\n",
      " 11  Open_fire           6602 non-null   Int64  \n",
      " 12  Swimming_Pool       6602 non-null   Int64  \n",
      " 13  hasTerrace          4528 non-null   object \n",
      " 14  terraceSurface      6602 non-null   Int64  \n",
      " 15  gardenSurface       6602 non-null   Int64  \n",
      " 16  Kitchen_type        4045 non-null   object \n",
      " 17  Number_of_facades   6602 non-null   Int64  \n",
      " 18  State_of_building   5984 non-null   object \n",
      " 19  Furnished           6602 non-null   Int64  \n",
      " 20  epc                 6289 non-null   object \n",
      "dtypes: Int64(10), float64(2), object(9)\n",
      "memory usage: 1.1+ MB\n"
     ]
    }
   ],
   "source": [
    "# transform 'int64' to 'Int64' to handle NaN\n",
    "\n",
    "int_columns = df.select_dtypes(include=['int64'])\n",
    "\n",
    "for col in int_columns.columns:\n",
    "    df[col] = df[col].astype('Int64')\n",
    "\n",
    "df.info()"
   ]
  },
  {
   "cell_type": "code",
   "execution_count": null,
   "metadata": {},
   "outputs": [],
   "source": [
    "\n",
    "int_columns = df.select_dtypes(include=['int64'])\n",
    "\n",
    "for col in int_columns.columns:\n",
    "    df[col] = df[col].astype('Int64')\n",
    "\n",
    "df.info()"
   ]
  }
 ],
 "metadata": {
  "kernelspec": {
   "display_name": ".immoelizateam",
   "language": "python",
   "name": "python3"
  },
  "language_info": {
   "codemirror_mode": {
    "name": "ipython",
    "version": 3
   },
   "file_extension": ".py",
   "mimetype": "text/x-python",
   "name": "python",
   "nbconvert_exporter": "python",
   "pygments_lexer": "ipython3",
   "version": "3.12.4"
  }
 },
 "nbformat": 4,
 "nbformat_minor": 2
}
