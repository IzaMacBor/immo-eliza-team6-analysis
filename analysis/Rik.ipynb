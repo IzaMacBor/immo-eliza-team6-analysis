{
 "cells": [
  {
   "cell_type": "code",
   "execution_count": 1281,
   "metadata": {},
   "outputs": [],
   "source": [
    "import pandas as pd\n",
    "import seaborn as sns\n",
    "import matplotlib.pyplot as plt\n",
    "import geopandas as gpd\n",
    "from shapely.geometry import Point\n",
    "import folium\n",
    "from IPython.display import IFrame\n",
    "import webbrowser"
   ]
  },
  {
   "cell_type": "code",
   "execution_count": 1282,
   "metadata": {},
   "outputs": [],
   "source": [
    "file_path =  r'C:\\Users\\Rik\\Desktop\\immo-eliza-team6-analysis\\analysis\\clean_data.csv'\n",
    "\n",
    "df = pd.read_csv(file_path, sep = ',')"
   ]
  },
  {
   "cell_type": "code",
   "execution_count": 1283,
   "metadata": {},
   "outputs": [
    {
     "name": "stdout",
     "output_type": "stream",
     "text": [
      "<class 'pandas.core.frame.DataFrame'>\n",
      "RangeIndex: 5852 entries, 0 to 5851\n",
      "Data columns (total 22 columns):\n",
      " #   Column              Non-Null Count  Dtype  \n",
      "---  ------              --------------  -----  \n",
      " 0   id                  5852 non-null   int64  \n",
      " 1   locality_name       5852 non-null   object \n",
      " 2   Postal_code         5852 non-null   int64  \n",
      " 3   Price               5852 non-null   int64  \n",
      " 4   Subtype             5852 non-null   object \n",
      " 5   Number_of_bedrooms  5852 non-null   int64  \n",
      " 6   Living_area         5852 non-null   int64  \n",
      " 7   street              5852 non-null   object \n",
      " 8   number              5831 non-null   object \n",
      " 9   latitude            5847 non-null   float64\n",
      " 10  longitude           5847 non-null   float64\n",
      " 11  Open_fire           5852 non-null   int64  \n",
      " 12  Swimming_Pool       5852 non-null   int64  \n",
      " 13  hasTerrace          5852 non-null   int64  \n",
      " 14  terraceSurface      5852 non-null   int64  \n",
      " 15  gardenSurface       5852 non-null   int64  \n",
      " 16  Kitchen_type        3614 non-null   object \n",
      " 17  Number_of_facades   5852 non-null   int64  \n",
      " 18  State_of_building   5293 non-null   object \n",
      " 19  Furnished           5852 non-null   int64  \n",
      " 20  epc                 5580 non-null   object \n",
      " 21  price_per_sqm       5852 non-null   float64\n",
      "dtypes: float64(3), int64(12), object(7)\n",
      "memory usage: 1005.9+ KB\n"
     ]
    }
   ],
   "source": [
    "df.head(30)\n",
    "df.info()"
   ]
  },
  {
   "cell_type": "code",
   "execution_count": 1284,
   "metadata": {},
   "outputs": [
    {
     "name": "stdout",
     "output_type": "stream",
     "text": [
      "<class 'pandas.core.frame.DataFrame'>\n",
      "RangeIndex: 5852 entries, 0 to 5851\n",
      "Data columns (total 22 columns):\n",
      " #   Column              Non-Null Count  Dtype  \n",
      "---  ------              --------------  -----  \n",
      " 0   id                  5852 non-null   Int64  \n",
      " 1   locality_name       5852 non-null   object \n",
      " 2   Postal_code         5852 non-null   Int64  \n",
      " 3   Price               5852 non-null   Int64  \n",
      " 4   Subtype             5852 non-null   object \n",
      " 5   Number_of_bedrooms  5852 non-null   Int64  \n",
      " 6   Living_area         5852 non-null   Int64  \n",
      " 7   street              5852 non-null   object \n",
      " 8   number              5831 non-null   object \n",
      " 9   latitude            5847 non-null   float64\n",
      " 10  longitude           5847 non-null   float64\n",
      " 11  Open_fire           5852 non-null   Int64  \n",
      " 12  Swimming_Pool       5852 non-null   Int64  \n",
      " 13  hasTerrace          5852 non-null   Int64  \n",
      " 14  terraceSurface      5852 non-null   Int64  \n",
      " 15  gardenSurface       5852 non-null   Int64  \n",
      " 16  Kitchen_type        3614 non-null   object \n",
      " 17  Number_of_facades   5852 non-null   Int64  \n",
      " 18  State_of_building   5293 non-null   object \n",
      " 19  Furnished           5852 non-null   Int64  \n",
      " 20  epc                 5580 non-null   object \n",
      " 21  price_per_sqm       5852 non-null   float64\n",
      "dtypes: Int64(12), float64(3), object(7)\n",
      "memory usage: 1.0+ MB\n"
     ]
    }
   ],
   "source": [
    "# transform 'int64' to 'Int64' to handle NaN\n",
    "\n",
    "int_columns = df.select_dtypes(include=['int64'])\n",
    "\n",
    "for col in int_columns.columns:\n",
    "    df[col] = df[col].astype('Int64')\n",
    "\n",
    "df.info()"
   ]
  },
  {
   "cell_type": "code",
   "execution_count": 1285,
   "metadata": {},
   "outputs": [
    {
     "name": "stdout",
     "output_type": "stream",
     "text": [
      "<class 'pandas.core.frame.DataFrame'>\n",
      "RangeIndex: 5852 entries, 0 to 5851\n",
      "Data columns (total 22 columns):\n",
      " #   Column              Non-Null Count  Dtype   \n",
      "---  ------              --------------  -----   \n",
      " 0   id                  5852 non-null   Int64   \n",
      " 1   locality_name       5852 non-null   category\n",
      " 2   Postal_code         5852 non-null   Int64   \n",
      " 3   Price               5852 non-null   Int64   \n",
      " 4   Subtype             5852 non-null   category\n",
      " 5   Number_of_bedrooms  5852 non-null   Int64   \n",
      " 6   Living_area         5852 non-null   Int64   \n",
      " 7   street              5852 non-null   category\n",
      " 8   number              5831 non-null   category\n",
      " 9   latitude            5847 non-null   float64 \n",
      " 10  longitude           5847 non-null   float64 \n",
      " 11  Open_fire           5852 non-null   Int64   \n",
      " 12  Swimming_Pool       5852 non-null   Int64   \n",
      " 13  hasTerrace          5852 non-null   Int64   \n",
      " 14  terraceSurface      5852 non-null   Int64   \n",
      " 15  gardenSurface       5852 non-null   Int64   \n",
      " 16  Kitchen_type        3614 non-null   category\n",
      " 17  Number_of_facades   5852 non-null   Int64   \n",
      " 18  State_of_building   5293 non-null   category\n",
      " 19  Furnished           5852 non-null   Int64   \n",
      " 20  epc                 5580 non-null   category\n",
      " 21  price_per_sqm       5852 non-null   float64 \n",
      "dtypes: Int64(12), category(7), float64(3)\n",
      "memory usage: 1.0 MB\n"
     ]
    }
   ],
   "source": [
    "# transform dtypes 'object' to 'category'\n",
    "int_columns = df.select_dtypes(include=['object'])\n",
    "\n",
    "for col in int_columns.columns:\n",
    "    df[col] = df[col].astype('category')\n",
    "\n",
    "df.info()"
   ]
  },
  {
   "cell_type": "code",
   "execution_count": 1286,
   "metadata": {},
   "outputs": [
    {
     "name": "stdout",
     "output_type": "stream",
     "text": [
      "Counts for locality_name:\n",
      "locality_name\n",
      "Gent              181\n",
      "Antwerpen         109\n",
      "Aalst              79\n",
      "Ronse              78\n",
      "Geraardsbergen     65\n",
      "                 ... \n",
      "Wilsele             1\n",
      "Winksele            1\n",
      "Wodecq              1\n",
      "Woesten             1\n",
      "Wommersom           1\n",
      "Name: count, Length: 1172, dtype: int64\n",
      "\n",
      "\n",
      "Number of unique entries in locality_name: 1172\n",
      "\n",
      "Counts for Subtype:\n",
      "Subtype\n",
      "House              5101\n",
      "Villa               411\n",
      "Town house           99\n",
      "Bungalow             79\n",
      "Mansion              72\n",
      "Country cottage      52\n",
      "Farmhouse            23\n",
      "Chalet               13\n",
      "Manor house           2\n",
      "Name: count, dtype: int64\n",
      "\n",
      "\n",
      "Number of unique entries in Subtype: 9\n",
      "\n",
      "Counts for street:\n",
      "street\n",
      "Stationsstraat         36\n",
      "Molenstraat            35\n",
      "Kerkstraat             25\n",
      "Hoogstraat             18\n",
      "Veldstraat             17\n",
      "                       ..\n",
      "Boterhoek               1\n",
      "Zwartkloosterstraat     1\n",
      "Zwevegemsestraat        1\n",
      "Botermelkstraat         1\n",
      "Sterrebos               1\n",
      "Name: count, Length: 4243, dtype: int64\n",
      "\n",
      "\n",
      "Number of unique entries in street: 4243\n",
      "\n",
      "Counts for number:\n",
      "number\n",
      "3        134\n",
      "1        119\n",
      "5        117\n",
      "2        113\n",
      "6        112\n",
      "        ... \n",
      "Lot 7      1\n",
      "Lot 8      1\n",
      "Lot 9      1\n",
      "Lot2       1\n",
      "W410       1\n",
      "Name: count, Length: 639, dtype: int64\n",
      "\n",
      "\n",
      "Number of unique entries in number: 639\n",
      "\n",
      "Counts for Kitchen_type:\n",
      "Kitchen_type\n",
      "Installed             1935\n",
      "Hyper equipped         779\n",
      "Semi equipped          645\n",
      "Not installed          202\n",
      "Usa installed           29\n",
      "Usa hyper equipped      19\n",
      "Usa uninstalled          4\n",
      "Usa semi equipped        1\n",
      "Name: count, dtype: int64\n",
      "\n",
      "\n",
      "Number of unique entries in Kitchen_type: 8\n",
      "\n",
      "Counts for State_of_building:\n",
      "State_of_building\n",
      "Good              2314\n",
      "As new            1034\n",
      "To renovate        984\n",
      "To be done up      620\n",
      "Just renovated     306\n",
      "To restore          35\n",
      "Name: count, dtype: int64\n",
      "\n",
      "\n",
      "Number of unique entries in State_of_building: 6\n",
      "\n",
      "Counts for epc:\n",
      "epc\n",
      "F      1134\n",
      "C      1107\n",
      "D      1041\n",
      "B       902\n",
      "E       632\n",
      "A       462\n",
      "G       228\n",
      "A+       60\n",
      "A++      14\n",
      "Name: count, dtype: int64\n",
      "\n",
      "\n",
      "Number of unique entries in epc: 9\n",
      "\n"
     ]
    }
   ],
   "source": [
    "#Getting an idea of the values in columns with dtype 'category'\n",
    "pd.set_option('display.max_rows', 30)\n",
    "\n",
    "for col in df.select_dtypes(include=['category']).columns:\n",
    "    print(f\"Counts for {col}:\")\n",
    "    print(df[col].value_counts())\n",
    "    unique_count = df[col].nunique()\n",
    "    print(\"\\n\")\n",
    "    print(f\"Number of unique entries in {col}: {unique_count}\\n\")"
   ]
  },
  {
   "cell_type": "markdown",
   "metadata": {},
   "source": [
    "**POSTAL_CODE**"
   ]
  },
  {
   "cell_type": "code",
   "execution_count": 1287,
   "metadata": {},
   "outputs": [],
   "source": [
    "#Converting the postal codes to dtype 'str'\n",
    "\n",
    "df['Postal_code'] = df['Postal_code'].astype(str)"
   ]
  },
  {
   "cell_type": "code",
   "execution_count": 1288,
   "metadata": {},
   "outputs": [
    {
     "data": {
      "text/plain": [
       "np.float64(0.0)"
      ]
     },
     "execution_count": 1288,
     "metadata": {},
     "output_type": "execute_result"
    }
   ],
   "source": [
    "#Check the missing values\n",
    "df['Postal_code'].isnull().mean()*100"
   ]
  },
  {
   "cell_type": "code",
   "execution_count": 1289,
   "metadata": {},
   "outputs": [
    {
     "data": {
      "text/plain": [
       "51"
      ]
     },
     "execution_count": 1289,
     "metadata": {},
     "output_type": "execute_result"
    }
   ],
   "source": [
    "#Asses the number of unique postal codes\n",
    "\n",
    "unique_postal = df['Postal_code'].value_counts().nunique()\n",
    "\n",
    "unique_postal\n",
    "\n"
   ]
  },
  {
   "cell_type": "code",
   "execution_count": 1290,
   "metadata": {},
   "outputs": [],
   "source": [
    "#dropping a dutch postal code\n",
    "\n",
    "df = df[df['Postal_code'] != '4524 JM']\n"
   ]
  },
  {
   "cell_type": "code",
   "execution_count": 1291,
   "metadata": {},
   "outputs": [],
   "source": [
    "#Assess the frequency\n",
    "\n",
    "frequency = df['Postal_code'].value_counts()"
   ]
  },
  {
   "cell_type": "code",
   "execution_count": 1292,
   "metadata": {},
   "outputs": [
    {
     "data": {
      "image/png": "[encoded data removed]",
      "text/plain": [
       "<Figure size 1000x600 with 1 Axes>"
      ]
     },
     "metadata": {},
     "output_type": "display_data"
    }
   ],
   "source": [
    "#Showing the top 20 \n",
    "\n",
    "top_n = 20 \n",
    "\n",
    "# Plotting only the top N categories\n",
    "top_n_categories = frequency.head(top_n)\n",
    "\n",
    "plt.figure(figsize=(10, 6))\n",
    "sns.barplot(x=top_n_categories.values, y=top_n_categories.index, color='#A3C9E2')\n",
    "plt.title(f'Top {top_n} Postal Codes by Frequency')\n",
    "plt.xlabel('Frequency')\n",
    "plt.ylabel('Postal_code')\n",
    "plt.show()"
   ]
  },
  {
   "cell_type": "code",
   "execution_count": 1293,
   "metadata": {},
   "outputs": [],
   "source": [
    "#Aggregate Postal code by price\n",
    "Postal_aggregates = df.groupby('Postal_code').agg({'Price': ['mean', 'median']}).reset_index()\n"
   ]
  },
  {
   "cell_type": "markdown",
   "metadata": {},
   "source": [
    "**PROVINCE**\n",
    "\n",
    "Create a column to assign the properties to a province"
   ]
  },
  {
   "cell_type": "code",
   "execution_count": 1294,
   "metadata": {},
   "outputs": [
    {
     "name": "stdout",
     "output_type": "stream",
     "text": [
      "<class 'pandas.core.frame.DataFrame'>\n",
      "RangeIndex: 5852 entries, 0 to 5851\n",
      "Data columns (total 23 columns):\n",
      " #   Column              Non-Null Count  Dtype   \n",
      "---  ------              --------------  -----   \n",
      " 0   id                  5852 non-null   Int64   \n",
      " 1   locality_name       5852 non-null   category\n",
      " 2   Postal_code         5852 non-null   object  \n",
      " 3   Price               5852 non-null   Int64   \n",
      " 4   Subtype             5852 non-null   category\n",
      " 5   Number_of_bedrooms  5852 non-null   Int64   \n",
      " 6   Living_area         5852 non-null   Int64   \n",
      " 7   street              5852 non-null   category\n",
      " 8   number              5831 non-null   category\n",
      " 9   latitude            5847 non-null   float64 \n",
      " 10  longitude           5847 non-null   float64 \n",
      " 11  Open_fire           5852 non-null   Int64   \n",
      " 12  Swimming_Pool       5852 non-null   Int64   \n",
      " 13  hasTerrace          5852 non-null   Int64   \n",
      " 14  terraceSurface      5852 non-null   Int64   \n",
      " 15  gardenSurface       5852 non-null   Int64   \n",
      " 16  Kitchen_type        3614 non-null   category\n",
      " 17  Number_of_facades   5852 non-null   Int64   \n",
      " 18  State_of_building   5293 non-null   category\n",
      " 19  Furnished           5852 non-null   Int64   \n",
      " 20  epc                 5580 non-null   category\n",
      " 21  price_per_sqm       5852 non-null   float64 \n",
      " 22  Province            5852 non-null   category\n",
      "dtypes: Int64(11), category(8), float64(3), object(1)\n",
      "memory usage: 1.0+ MB\n"
     ]
    }
   ],
   "source": [
    "#creating the column province\n",
    "\n",
    "def get_province(postal_code):\n",
    "    if postal_code.startswith('1'):\n",
    "        return 'Brussels' if int(postal_code) < 1300 else 'Brabant_Wallon'\n",
    "    elif postal_code.startswith('2'):\n",
    "        return 'Antwerp'\n",
    "    elif postal_code.startswith('4'):\n",
    "        return 'Liège'\n",
    "    elif postal_code.startswith('5'):\n",
    "        return 'Namur'\n",
    "    elif postal_code.startswith('6'):\n",
    "        return 'Luxembourg'\n",
    "    elif postal_code.startswith('7'):\n",
    "        return 'Hainaut'\n",
    "    elif postal_code.startswith('8'):\n",
    "        return 'West Flanders'\n",
    "    elif postal_code.startswith('9'):\n",
    "        return 'East Flanders'\n",
    "    elif postal_code.startswith('3'):\n",
    "        return 'Flemish Brabant' if int(postal_code) < 3500 else 'Limburg'\n",
    "    else:\n",
    "        return None \n",
    "\n",
    "df['Province'] = df['Postal_code'].apply(get_province).copy()\n",
    "\n",
    "#Assigning the dtypes\n",
    "df['Province'] = df['Province'].astype('category')\n",
    "df['Postal_code'] = df['Postal_code'].astype('str')\n",
    "\n",
    "df.info()"
   ]
  },
  {
   "cell_type": "code",
   "execution_count": 1295,
   "metadata": {},
   "outputs": [
    {
     "data": {
      "text/plain": [
       "Province\n",
       "East Flanders      1766\n",
       "West Flanders      1032\n",
       "Antwerp             885\n",
       "Brabant_Wallon      567\n",
       "Liège               449\n",
       "Luxembourg          327\n",
       "Flemish Brabant     282\n",
       "Brussels            160\n",
       "Namur               142\n",
       "Limburg             123\n",
       "Hainaut             119\n",
       "Name: count, dtype: int64"
      ]
     },
     "execution_count": 1295,
     "metadata": {},
     "output_type": "execute_result"
    }
   ],
   "source": [
    "#Assess the frequency\n",
    "\n",
    "frequency = df['Province'].value_counts()\n",
    "frequency"
   ]
  },
  {
   "cell_type": "code",
   "execution_count": 1296,
   "metadata": {},
   "outputs": [
    {
     "data": {
      "image/png": "[encoded data removed]",
      "text/plain": [
       "<Figure size 1600x400 with 1 Axes>"
      ]
     },
     "metadata": {},
     "output_type": "display_data"
    }
   ],
   "source": [
    "#Plotting the frequency\n",
    "\n",
    "plt.figure(figsize=(16, 4))\n",
    "sns.barplot(x=frequency.index, y=frequency.values)\n",
    "plt.title('Properties per Province')\n",
    "plt.xlabel('Province')\n",
    "plt.ylabel('Frequency')\n",
    "plt.show()"
   ]
  },
  {
   "cell_type": "markdown",
   "metadata": {},
   "source": [
    "**ASSIGNED CITY**\n",
    "\n",
    "Create a column with all properties in the vicinity (10k) of one of the 10 biggest cities"
   ]
  },
  {
   "cell_type": "code",
   "execution_count": 1297,
   "metadata": {},
   "outputs": [
    {
     "data": {
      "text/html": [
       "<div>\n",
       "<style scoped>\n",
       "    .dataframe tbody tr th:only-of-type {\n",
       "        vertical-align: middle;\n",
       "    }\n",
       "\n",
       "    .dataframe tbody tr th {\n",
       "        vertical-align: top;\n",
       "    }\n",
       "\n",
       "    .dataframe thead th {\n",
       "        text-align: right;\n",
       "    }\n",
       "</style>\n",
       "<table border=\"1\" class=\"dataframe\">\n",
       "  <thead>\n",
       "    <tr style=\"text-align: right;\">\n",
       "      <th></th>\n",
       "      <th>City</th>\n",
       "      <th>Latitude</th>\n",
       "      <th>Longitude</th>\n",
       "      <th>Radius</th>\n",
       "    </tr>\n",
       "  </thead>\n",
       "  <tbody>\n",
       "    <tr>\n",
       "      <th>0</th>\n",
       "      <td>Brussels</td>\n",
       "      <td>50.8503</td>\n",
       "      <td>4.3517</td>\n",
       "      <td>10</td>\n",
       "    </tr>\n",
       "    <tr>\n",
       "      <th>1</th>\n",
       "      <td>Antwerp</td>\n",
       "      <td>51.2211</td>\n",
       "      <td>4.4120</td>\n",
       "      <td>10</td>\n",
       "    </tr>\n",
       "    <tr>\n",
       "      <th>2</th>\n",
       "      <td>Ghent</td>\n",
       "      <td>51.0543</td>\n",
       "      <td>3.7174</td>\n",
       "      <td>10</td>\n",
       "    </tr>\n",
       "    <tr>\n",
       "      <th>3</th>\n",
       "      <td>Bruges</td>\n",
       "      <td>51.2093</td>\n",
       "      <td>3.2240</td>\n",
       "      <td>10</td>\n",
       "    </tr>\n",
       "    <tr>\n",
       "      <th>4</th>\n",
       "      <td>Liège</td>\n",
       "      <td>50.6050</td>\n",
       "      <td>5.5797</td>\n",
       "      <td>10</td>\n",
       "    </tr>\n",
       "    <tr>\n",
       "      <th>5</th>\n",
       "      <td>Namur</td>\n",
       "      <td>50.4674</td>\n",
       "      <td>4.8712</td>\n",
       "      <td>10</td>\n",
       "    </tr>\n",
       "    <tr>\n",
       "      <th>6</th>\n",
       "      <td>Leuven</td>\n",
       "      <td>50.8798</td>\n",
       "      <td>4.7033</td>\n",
       "      <td>10</td>\n",
       "    </tr>\n",
       "    <tr>\n",
       "      <th>7</th>\n",
       "      <td>Mons</td>\n",
       "      <td>50.4542</td>\n",
       "      <td>3.9514</td>\n",
       "      <td>10</td>\n",
       "    </tr>\n",
       "    <tr>\n",
       "      <th>8</th>\n",
       "      <td>Aalst</td>\n",
       "      <td>50.9403</td>\n",
       "      <td>4.0364</td>\n",
       "      <td>10</td>\n",
       "    </tr>\n",
       "    <tr>\n",
       "      <th>9</th>\n",
       "      <td>Sint-Niklaas</td>\n",
       "      <td>51.1449</td>\n",
       "      <td>4.1525</td>\n",
       "      <td>10</td>\n",
       "    </tr>\n",
       "  </tbody>\n",
       "</table>\n",
       "</div>"
      ],
      "text/plain": [
       "           City  Latitude  Longitude  Radius\n",
       "0      Brussels   50.8503     4.3517      10\n",
       "1       Antwerp   51.2211     4.4120      10\n",
       "2         Ghent   51.0543     3.7174      10\n",
       "3        Bruges   51.2093     3.2240      10\n",
       "4         Liège   50.6050     5.5797      10\n",
       "5         Namur   50.4674     4.8712      10\n",
       "6        Leuven   50.8798     4.7033      10\n",
       "7          Mons   50.4542     3.9514      10\n",
       "8         Aalst   50.9403     4.0364      10\n",
       "9  Sint-Niklaas   51.1449     4.1525      10"
      ]
     },
     "execution_count": 1297,
     "metadata": {},
     "output_type": "execute_result"
    }
   ],
   "source": [
    "#creating a column for proximity to the 10 main Belgian cities:\n",
    "cities_data = {'City': ['Brussels', 'Antwerp', 'Ghent', 'Bruges', 'Liège','Namur', 'Leuven', 'Mons', 'Aalst', 'Sint-Niklaas'],\n",
    "               'Latitude': [50.8503, 51.2211, 51.0543, 51.2093, 50.6050, 50.4674, 50.8798, 50.4542, 50.9403, 51.1449],\n",
    "               'Longitude': [4.3517, 4.4120, 3.7174, 3.2240, 5.5797, 4.8712, 4.7033, 3.9514, 4.0364, 4.1525],\n",
    "               'Radius': [10 for x in range(10)]}\n",
    "\n",
    "cities_df = pd.DataFrame(cities_data)\n",
    "\n",
    "cities_df.head(10)\n"
   ]
  },
  {
   "cell_type": "code",
   "execution_count": 1298,
   "metadata": {},
   "outputs": [],
   "source": [
    "#Make a geodataframe from the cities dataframe\n",
    "cities_gdf = gpd.GeoDataFrame(cities_df,geometry=gpd.points_from_xy(cities_df.Longitude, cities_df.Latitude))"
   ]
  },
  {
   "cell_type": "code",
   "execution_count": 1299,
   "metadata": {},
   "outputs": [],
   "source": [
    "#Creating the buffer/radius zone (set on 10km)\n",
    "\n",
    "cities_gdf['buffer'] = cities_gdf.geometry.buffer(cities_gdf['Radius'] / 111)\n",
    "cities_gdf = cities_gdf.set_geometry('buffer')\n",
    "\n",
    "\n"
   ]
  },
  {
   "cell_type": "code",
   "execution_count": 1300,
   "metadata": {},
   "outputs": [
    {
     "name": "stdout",
     "output_type": "stream",
     "text": [
      "           City  Latitude  Longitude  Radius                geometry  \\\n",
      "0      Brussels   50.8503     4.3517      10  POINT (4.3517 50.8503)   \n",
      "1       Antwerp   51.2211     4.4120      10   POINT (4.412 51.2211)   \n",
      "2         Ghent   51.0543     3.7174      10  POINT (3.7174 51.0543)   \n",
      "3        Bruges   51.2093     3.2240      10   POINT (3.224 51.2093)   \n",
      "4         Liège   50.6050     5.5797      10   POINT (5.5797 50.605)   \n",
      "5         Namur   50.4674     4.8712      10  POINT (4.8712 50.4674)   \n",
      "6        Leuven   50.8798     4.7033      10  POINT (4.7033 50.8798)   \n",
      "7          Mons   50.4542     3.9514      10  POINT (3.9514 50.4542)   \n",
      "8         Aalst   50.9403     4.0364      10  POINT (4.0364 50.9403)   \n",
      "9  Sint-Niklaas   51.1449     4.1525      10  POINT (4.1525 51.1449)   \n",
      "\n",
      "                                              buffer  \n",
      "0  POLYGON ((4.44179 50.8503, 4.44136 50.84147, 4...  \n",
      "1  POLYGON ((4.50209 51.2211, 4.50166 51.21227, 4...  \n",
      "2  POLYGON ((3.80749 51.0543, 3.80706 51.04547, 3...  \n",
      "3  POLYGON ((3.31409 51.2093, 3.31366 51.20047, 3...  \n",
      "4  POLYGON ((5.66979 50.605, 5.66936 50.59617, 5....  \n",
      "5  POLYGON ((4.96129 50.4674, 4.96086 50.45857, 4...  \n",
      "6  POLYGON ((4.79339 50.8798, 4.79296 50.87097, 4...  \n",
      "7  POLYGON ((4.04149 50.4542, 4.04106 50.44537, 4...  \n",
      "8  POLYGON ((4.12649 50.9403, 4.12606 50.93147, 4...  \n",
      "9  POLYGON ((4.24259 51.1449, 4.24216 51.13607, 4...  \n"
     ]
    }
   ],
   "source": [
    "print(cities_gdf)"
   ]
  },
  {
   "cell_type": "code",
   "execution_count": 1301,
   "metadata": {},
   "outputs": [
    {
     "name": "stdout",
     "output_type": "stream",
     "text": [
      "<class 'geopandas.geodataframe.GeoDataFrame'>\n",
      "RangeIndex: 10 entries, 0 to 9\n",
      "Data columns (total 6 columns):\n",
      " #   Column     Non-Null Count  Dtype   \n",
      "---  ------     --------------  -----   \n",
      " 0   City       10 non-null     object  \n",
      " 1   Latitude   10 non-null     float64 \n",
      " 2   Longitude  10 non-null     float64 \n",
      " 3   Radius     10 non-null     int64   \n",
      " 4   geometry   10 non-null     geometry\n",
      " 5   buffer     10 non-null     geometry\n",
      "dtypes: float64(2), geometry(2), int64(1), object(1)\n",
      "memory usage: 612.0+ bytes\n"
     ]
    }
   ],
   "source": [
    "cities_gdf.info()"
   ]
  },
  {
   "cell_type": "code",
   "execution_count": 1302,
   "metadata": {},
   "outputs": [
    {
     "name": "stdout",
     "output_type": "stream",
     "text": [
      "<class 'pandas.core.frame.DataFrame'>\n",
      "RangeIndex: 5852 entries, 0 to 5851\n",
      "Data columns (total 3 columns):\n",
      " #   Column     Non-Null Count  Dtype  \n",
      "---  ------     --------------  -----  \n",
      " 0   id         5852 non-null   Int64  \n",
      " 1   latitude   5847 non-null   float64\n",
      " 2   longitude  5847 non-null   float64\n",
      "dtypes: Int64(1), float64(2)\n",
      "memory usage: 143.0 KB\n"
     ]
    }
   ],
   "source": [
    "#checking and slicing original data and creating a new dataframe house_geo\n",
    "house_geo= pd.DataFrame(df[['id', 'latitude', 'longitude']]).copy()\n",
    "\n",
    "house_geo.info()"
   ]
  },
  {
   "cell_type": "code",
   "execution_count": 1303,
   "metadata": {},
   "outputs": [
    {
     "name": "stdout",
     "output_type": "stream",
     "text": [
      "<class 'geopandas.geodataframe.GeoDataFrame'>\n",
      "RangeIndex: 5852 entries, 0 to 5851\n",
      "Data columns (total 4 columns):\n",
      " #   Column     Non-Null Count  Dtype   \n",
      "---  ------     --------------  -----   \n",
      " 0   id         5852 non-null   Int64   \n",
      " 1   latitude   5847 non-null   float64 \n",
      " 2   longitude  5847 non-null   float64 \n",
      " 3   geometry   5852 non-null   geometry\n",
      "dtypes: Int64(1), float64(2), geometry(1)\n",
      "memory usage: 188.7 KB\n"
     ]
    }
   ],
   "source": [
    "#Making a geo dataframe from the dataframe\n",
    "house_geo_gdf = gpd.GeoDataFrame(house_geo,geometry=gpd.points_from_xy(house_geo.longitude, house_geo.latitude))\n",
    "\n",
    "house_geo_gdf.info()"
   ]
  },
  {
   "cell_type": "code",
   "execution_count": 1304,
   "metadata": {},
   "outputs": [],
   "source": [
    "joined_gdf = gpd.sjoin(house_geo_gdf, cities_gdf[['City', 'buffer']], how='left', predicate='intersects', lsuffix='_house', rsuffix='_city')\n"
   ]
  },
  {
   "cell_type": "code",
   "execution_count": 1305,
   "metadata": {},
   "outputs": [
    {
     "name": "stdout",
     "output_type": "stream",
     "text": [
      "<class 'geopandas.geodataframe.GeoDataFrame'>\n",
      "RangeIndex: 5852 entries, 0 to 5851\n",
      "Data columns (total 5 columns):\n",
      " #   Column         Non-Null Count  Dtype   \n",
      "---  ------         --------------  -----   \n",
      " 0   id             5852 non-null   Int64   \n",
      " 1   latitude       5847 non-null   float64 \n",
      " 2   longitude      5847 non-null   float64 \n",
      " 3   geometry       5852 non-null   geometry\n",
      " 4   Assigned_City  1586 non-null   object  \n",
      "dtypes: Int64(1), float64(2), geometry(1), object(1)\n",
      "memory usage: 234.4+ KB\n"
     ]
    }
   ],
   "source": [
    "house_geo_gdf['Assigned_City'] = joined_gdf['City']\n",
    "house_geo_gdf.info()\n"
   ]
  },
  {
   "cell_type": "code",
   "execution_count": 1306,
   "metadata": {},
   "outputs": [
    {
     "name": "stdout",
     "output_type": "stream",
     "text": [
      "            id   latitude  longitude                  geometry Assigned_City\n",
      "6     20248858  50.839333   4.430145  POINT (4.43014 50.83933)      Brussels\n",
      "8     20250831  51.177267   4.375369  POINT (4.37537 51.17727)       Antwerp\n",
      "12    20246399  51.252498   4.456992   POINT (4.45699 51.2525)       Antwerp\n",
      "15    20221782  51.203166   4.462397   POINT (4.4624 51.20317)       Antwerp\n",
      "16    20236558  51.212485   4.429373  POINT (4.42937 51.21249)       Antwerp\n",
      "...        ...        ...        ...                       ...           ...\n",
      "5831  20191767  50.947855   4.031744  POINT (4.03174 50.94785)         Aalst\n",
      "5834  20176735  51.053502   3.754882   POINT (3.75488 51.0535)         Ghent\n",
      "5836  20192342  50.585528   5.517862  POINT (5.51786 50.58553)         Liège\n",
      "5837  20205927  50.590662   5.499791  POINT (5.49979 50.59066)         Liège\n",
      "5839  20208641  51.222408   4.440489  POINT (4.44049 51.22241)       Antwerp\n",
      "\n",
      "[1586 rows x 5 columns]\n",
      "<class 'geopandas.geodataframe.GeoDataFrame'>\n",
      "Index: 1586 entries, 6 to 5839\n",
      "Data columns (total 5 columns):\n",
      " #   Column         Non-Null Count  Dtype   \n",
      "---  ------         --------------  -----   \n",
      " 0   id             1586 non-null   Int64   \n",
      " 1   latitude       1586 non-null   float64 \n",
      " 2   longitude      1586 non-null   float64 \n",
      " 3   geometry       1586 non-null   geometry\n",
      " 4   Assigned_City  1586 non-null   object  \n",
      "dtypes: Int64(1), float64(2), geometry(1), object(1)\n",
      "memory usage: 75.9+ KB\n"
     ]
    }
   ],
   "source": [
    "\n",
    "#Slicing and checking\n",
    "check_city = house_geo_gdf[house_geo_gdf['Assigned_City'].notna()]\n",
    "print(check_city)\n",
    "\n",
    "check_city.info()\n"
   ]
  },
  {
   "cell_type": "code",
   "execution_count": 1307,
   "metadata": {},
   "outputs": [
    {
     "name": "stdout",
     "output_type": "stream",
     "text": [
      "<class 'pandas.core.frame.DataFrame'>\n",
      "RangeIndex: 5852 entries, 0 to 5851\n",
      "Data columns (total 24 columns):\n",
      " #   Column              Non-Null Count  Dtype   \n",
      "---  ------              --------------  -----   \n",
      " 0   id                  5852 non-null   Int64   \n",
      " 1   locality_name       5852 non-null   category\n",
      " 2   Postal_code         5852 non-null   object  \n",
      " 3   Price               5852 non-null   Int64   \n",
      " 4   Subtype             5852 non-null   category\n",
      " 5   Number_of_bedrooms  5852 non-null   Int64   \n",
      " 6   Living_area         5852 non-null   Int64   \n",
      " 7   street              5852 non-null   category\n",
      " 8   number              5831 non-null   category\n",
      " 9   latitude            5847 non-null   float64 \n",
      " 10  longitude           5847 non-null   float64 \n",
      " 11  Open_fire           5852 non-null   Int64   \n",
      " 12  Swimming_Pool       5852 non-null   Int64   \n",
      " 13  hasTerrace          5852 non-null   Int64   \n",
      " 14  terraceSurface      5852 non-null   Int64   \n",
      " 15  gardenSurface       5852 non-null   Int64   \n",
      " 16  Kitchen_type        3614 non-null   category\n",
      " 17  Number_of_facades   5852 non-null   Int64   \n",
      " 18  State_of_building   5293 non-null   category\n",
      " 19  Furnished           5852 non-null   Int64   \n",
      " 20  epc                 5580 non-null   category\n",
      " 21  price_per_sqm       5852 non-null   float64 \n",
      " 22  Province            5852 non-null   category\n",
      " 23  Assigned_City       1586 non-null   object  \n",
      "dtypes: Int64(11), category(8), float64(3), object(2)\n",
      "memory usage: 1.1+ MB\n"
     ]
    }
   ],
   "source": [
    "#Merge the assigned city column to the main dataframe\n",
    "\n",
    "df = pd.merge(df, house_geo_gdf[['id', 'Assigned_City']], on='id', how='left')\n",
    "\n",
    "df.info()\n"
   ]
  },
  {
   "cell_type": "markdown",
   "metadata": {},
   "source": [
    "**GEO-MAPPING**"
   ]
  },
  {
   "cell_type": "code",
   "execution_count": 1308,
   "metadata": {},
   "outputs": [
    {
     "data": {
      "text/html": [
       "<div>\n",
       "<style scoped>\n",
       "    .dataframe tbody tr th:only-of-type {\n",
       "        vertical-align: middle;\n",
       "    }\n",
       "\n",
       "    .dataframe tbody tr th {\n",
       "        vertical-align: top;\n",
       "    }\n",
       "\n",
       "    .dataframe thead th {\n",
       "        text-align: right;\n",
       "    }\n",
       "</style>\n",
       "<table border=\"1\" class=\"dataframe\">\n",
       "  <thead>\n",
       "    <tr style=\"text-align: right;\">\n",
       "      <th></th>\n",
       "      <th>id</th>\n",
       "      <th>locality_name</th>\n",
       "      <th>Postal_code</th>\n",
       "      <th>Price</th>\n",
       "      <th>Subtype</th>\n",
       "      <th>Number_of_bedrooms</th>\n",
       "      <th>Living_area</th>\n",
       "      <th>street</th>\n",
       "      <th>number</th>\n",
       "      <th>latitude</th>\n",
       "      <th>...</th>\n",
       "      <th>terraceSurface</th>\n",
       "      <th>gardenSurface</th>\n",
       "      <th>Kitchen_type</th>\n",
       "      <th>Number_of_facades</th>\n",
       "      <th>State_of_building</th>\n",
       "      <th>Furnished</th>\n",
       "      <th>epc</th>\n",
       "      <th>price_per_sqm</th>\n",
       "      <th>Province</th>\n",
       "      <th>Assigned_City</th>\n",
       "    </tr>\n",
       "  </thead>\n",
       "  <tbody>\n",
       "    <tr>\n",
       "      <th>0</th>\n",
       "      <td>20252354</td>\n",
       "      <td>Ronse</td>\n",
       "      <td>9600</td>\n",
       "      <td>319000</td>\n",
       "      <td>House</td>\n",
       "      <td>3</td>\n",
       "      <td>125</td>\n",
       "      <td>Rotterij</td>\n",
       "      <td>148</td>\n",
       "      <td>50.744176</td>\n",
       "      <td>...</td>\n",
       "      <td>0</td>\n",
       "      <td>370</td>\n",
       "      <td>NaN</td>\n",
       "      <td>4</td>\n",
       "      <td>To renovate</td>\n",
       "      <td>0</td>\n",
       "      <td>F</td>\n",
       "      <td>2552.000000</td>\n",
       "      <td>East Flanders</td>\n",
       "      <td>NaN</td>\n",
       "    </tr>\n",
       "    <tr>\n",
       "      <th>1</th>\n",
       "      <td>20251003</td>\n",
       "      <td>Geraardsbergen</td>\n",
       "      <td>9500</td>\n",
       "      <td>299999</td>\n",
       "      <td>House</td>\n",
       "      <td>3</td>\n",
       "      <td>167</td>\n",
       "      <td>Pirrestraat</td>\n",
       "      <td>17</td>\n",
       "      <td>50.752121</td>\n",
       "      <td>...</td>\n",
       "      <td>0</td>\n",
       "      <td>895</td>\n",
       "      <td>Installed</td>\n",
       "      <td>2</td>\n",
       "      <td>Good</td>\n",
       "      <td>0</td>\n",
       "      <td>D</td>\n",
       "      <td>1796.401198</td>\n",
       "      <td>East Flanders</td>\n",
       "      <td>NaN</td>\n",
       "    </tr>\n",
       "    <tr>\n",
       "      <th>2</th>\n",
       "      <td>20252002</td>\n",
       "      <td>Mechelen</td>\n",
       "      <td>2800</td>\n",
       "      <td>275000</td>\n",
       "      <td>House</td>\n",
       "      <td>3</td>\n",
       "      <td>154</td>\n",
       "      <td>Caputsteenstraat</td>\n",
       "      <td>150</td>\n",
       "      <td>51.033269</td>\n",
       "      <td>...</td>\n",
       "      <td>10</td>\n",
       "      <td>20</td>\n",
       "      <td>Semi equipped</td>\n",
       "      <td>2</td>\n",
       "      <td>To renovate</td>\n",
       "      <td>0</td>\n",
       "      <td>E</td>\n",
       "      <td>1785.714286</td>\n",
       "      <td>Antwerp</td>\n",
       "      <td>NaN</td>\n",
       "    </tr>\n",
       "    <tr>\n",
       "      <th>3</th>\n",
       "      <td>20252352</td>\n",
       "      <td>Gooik</td>\n",
       "      <td>1755</td>\n",
       "      <td>295000</td>\n",
       "      <td>House</td>\n",
       "      <td>3</td>\n",
       "      <td>172</td>\n",
       "      <td>Strijlandstraat</td>\n",
       "      <td>45</td>\n",
       "      <td>50.791877</td>\n",
       "      <td>...</td>\n",
       "      <td>0</td>\n",
       "      <td>300</td>\n",
       "      <td>NaN</td>\n",
       "      <td>3</td>\n",
       "      <td>To renovate</td>\n",
       "      <td>0</td>\n",
       "      <td>F</td>\n",
       "      <td>1715.116279</td>\n",
       "      <td>Brabant_Wallon</td>\n",
       "      <td>NaN</td>\n",
       "    </tr>\n",
       "    <tr>\n",
       "      <th>4</th>\n",
       "      <td>20250985</td>\n",
       "      <td>Oetingen</td>\n",
       "      <td>1755</td>\n",
       "      <td>560000</td>\n",
       "      <td>House</td>\n",
       "      <td>4</td>\n",
       "      <td>350</td>\n",
       "      <td>Blijkheerstraat</td>\n",
       "      <td>70</td>\n",
       "      <td>50.775412</td>\n",
       "      <td>...</td>\n",
       "      <td>40</td>\n",
       "      <td>32</td>\n",
       "      <td>Installed</td>\n",
       "      <td>3</td>\n",
       "      <td>Good</td>\n",
       "      <td>0</td>\n",
       "      <td>C</td>\n",
       "      <td>1600.000000</td>\n",
       "      <td>Brabant_Wallon</td>\n",
       "      <td>NaN</td>\n",
       "    </tr>\n",
       "    <tr>\n",
       "      <th>5</th>\n",
       "      <td>20251715</td>\n",
       "      <td>Dilbeek</td>\n",
       "      <td>1700</td>\n",
       "      <td>715000</td>\n",
       "      <td>House</td>\n",
       "      <td>3</td>\n",
       "      <td>280</td>\n",
       "      <td>Herdebeekstraat 94-94A</td>\n",
       "      <td>0</td>\n",
       "      <td>50.840610</td>\n",
       "      <td>...</td>\n",
       "      <td>36</td>\n",
       "      <td>374</td>\n",
       "      <td>NaN</td>\n",
       "      <td>3</td>\n",
       "      <td>As new</td>\n",
       "      <td>0</td>\n",
       "      <td>C</td>\n",
       "      <td>2553.571429</td>\n",
       "      <td>Brabant_Wallon</td>\n",
       "      <td>NaN</td>\n",
       "    </tr>\n",
       "    <tr>\n",
       "      <th>6</th>\n",
       "      <td>20248858</td>\n",
       "      <td>Woluwe-Saint-Lambert</td>\n",
       "      <td>1200</td>\n",
       "      <td>790000</td>\n",
       "      <td>House</td>\n",
       "      <td>5</td>\n",
       "      <td>349</td>\n",
       "      <td>Rue De La Cambre - Terkamerenstraat</td>\n",
       "      <td>296</td>\n",
       "      <td>50.839333</td>\n",
       "      <td>...</td>\n",
       "      <td>14</td>\n",
       "      <td>60</td>\n",
       "      <td>Usa hyper equipped</td>\n",
       "      <td>2</td>\n",
       "      <td>Good</td>\n",
       "      <td>0</td>\n",
       "      <td>F</td>\n",
       "      <td>2263.610315</td>\n",
       "      <td>Brussels</td>\n",
       "      <td>Brussels</td>\n",
       "    </tr>\n",
       "    <tr>\n",
       "      <th>7</th>\n",
       "      <td>20245694</td>\n",
       "      <td>Herzele</td>\n",
       "      <td>9550</td>\n",
       "      <td>198800</td>\n",
       "      <td>House</td>\n",
       "      <td>3</td>\n",
       "      <td>125</td>\n",
       "      <td>Stationsstraat</td>\n",
       "      <td>173</td>\n",
       "      <td>50.894568</td>\n",
       "      <td>...</td>\n",
       "      <td>45</td>\n",
       "      <td>106</td>\n",
       "      <td>Semi equipped</td>\n",
       "      <td>2</td>\n",
       "      <td>To renovate</td>\n",
       "      <td>0</td>\n",
       "      <td>F</td>\n",
       "      <td>1590.400000</td>\n",
       "      <td>East Flanders</td>\n",
       "      <td>NaN</td>\n",
       "    </tr>\n",
       "    <tr>\n",
       "      <th>8</th>\n",
       "      <td>20250831</td>\n",
       "      <td>Wilrijk</td>\n",
       "      <td>2610</td>\n",
       "      <td>299000</td>\n",
       "      <td>House</td>\n",
       "      <td>3</td>\n",
       "      <td>132</td>\n",
       "      <td>Egied Segerslaan</td>\n",
       "      <td>42</td>\n",
       "      <td>51.177267</td>\n",
       "      <td>...</td>\n",
       "      <td>0</td>\n",
       "      <td>40</td>\n",
       "      <td>NaN</td>\n",
       "      <td>2</td>\n",
       "      <td>As new</td>\n",
       "      <td>0</td>\n",
       "      <td>D</td>\n",
       "      <td>2265.151515</td>\n",
       "      <td>Antwerp</td>\n",
       "      <td>Antwerp</td>\n",
       "    </tr>\n",
       "    <tr>\n",
       "      <th>9</th>\n",
       "      <td>20250541</td>\n",
       "      <td>Brecht</td>\n",
       "      <td>2960</td>\n",
       "      <td>469000</td>\n",
       "      <td>House</td>\n",
       "      <td>3</td>\n",
       "      <td>153</td>\n",
       "      <td>Cambeenbos Laan D</td>\n",
       "      <td>3</td>\n",
       "      <td>51.310017</td>\n",
       "      <td>...</td>\n",
       "      <td>0</td>\n",
       "      <td>0</td>\n",
       "      <td>Semi equipped</td>\n",
       "      <td>4</td>\n",
       "      <td>To renovate</td>\n",
       "      <td>0</td>\n",
       "      <td>D</td>\n",
       "      <td>3065.359477</td>\n",
       "      <td>Antwerp</td>\n",
       "      <td>NaN</td>\n",
       "    </tr>\n",
       "  </tbody>\n",
       "</table>\n",
       "<p>10 rows × 24 columns</p>\n",
       "</div>"
      ],
      "text/plain": [
       "         id         locality_name Postal_code   Price Subtype  \\\n",
       "0  20252354                 Ronse        9600  319000   House   \n",
       "1  20251003        Geraardsbergen        9500  299999   House   \n",
       "2  20252002              Mechelen        2800  275000   House   \n",
       "3  20252352                 Gooik        1755  295000   House   \n",
       "4  20250985              Oetingen        1755  560000   House   \n",
       "5  20251715               Dilbeek        1700  715000   House   \n",
       "6  20248858  Woluwe-Saint-Lambert        1200  790000   House   \n",
       "7  20245694               Herzele        9550  198800   House   \n",
       "8  20250831               Wilrijk        2610  299000   House   \n",
       "9  20250541                Brecht        2960  469000   House   \n",
       "\n",
       "   Number_of_bedrooms  Living_area                               street  \\\n",
       "0                   3          125                             Rotterij   \n",
       "1                   3          167                          Pirrestraat   \n",
       "2                   3          154                     Caputsteenstraat   \n",
       "3                   3          172                      Strijlandstraat   \n",
       "4                   4          350                      Blijkheerstraat   \n",
       "5                   3          280               Herdebeekstraat 94-94A   \n",
       "6                   5          349  Rue De La Cambre - Terkamerenstraat   \n",
       "7                   3          125                       Stationsstraat   \n",
       "8                   3          132                     Egied Segerslaan   \n",
       "9                   3          153                    Cambeenbos Laan D   \n",
       "\n",
       "  number   latitude  ...  terraceSurface  gardenSurface        Kitchen_type  \\\n",
       "0    148  50.744176  ...               0            370                 NaN   \n",
       "1     17  50.752121  ...               0            895           Installed   \n",
       "2    150  51.033269  ...              10             20       Semi equipped   \n",
       "3     45  50.791877  ...               0            300                 NaN   \n",
       "4     70  50.775412  ...              40             32           Installed   \n",
       "5      0  50.840610  ...              36            374                 NaN   \n",
       "6    296  50.839333  ...              14             60  Usa hyper equipped   \n",
       "7    173  50.894568  ...              45            106       Semi equipped   \n",
       "8     42  51.177267  ...               0             40                 NaN   \n",
       "9      3  51.310017  ...               0              0       Semi equipped   \n",
       "\n",
       "   Number_of_facades  State_of_building  Furnished epc  price_per_sqm  \\\n",
       "0                  4        To renovate          0   F    2552.000000   \n",
       "1                  2               Good          0   D    1796.401198   \n",
       "2                  2        To renovate          0   E    1785.714286   \n",
       "3                  3        To renovate          0   F    1715.116279   \n",
       "4                  3               Good          0   C    1600.000000   \n",
       "5                  3             As new          0   C    2553.571429   \n",
       "6                  2               Good          0   F    2263.610315   \n",
       "7                  2        To renovate          0   F    1590.400000   \n",
       "8                  2             As new          0   D    2265.151515   \n",
       "9                  4        To renovate          0   D    3065.359477   \n",
       "\n",
       "         Province  Assigned_City  \n",
       "0   East Flanders            NaN  \n",
       "1   East Flanders            NaN  \n",
       "2         Antwerp            NaN  \n",
       "3  Brabant_Wallon            NaN  \n",
       "4  Brabant_Wallon            NaN  \n",
       "5  Brabant_Wallon            NaN  \n",
       "6        Brussels       Brussels  \n",
       "7   East Flanders            NaN  \n",
       "8         Antwerp        Antwerp  \n",
       "9         Antwerp            NaN  \n",
       "\n",
       "[10 rows x 24 columns]"
      ]
     },
     "execution_count": 1308,
     "metadata": {},
     "output_type": "execute_result"
    }
   ],
   "source": [
    "df.head(10)"
   ]
  },
  {
   "cell_type": "code",
   "execution_count": 1309,
   "metadata": {},
   "outputs": [
    {
     "data": {
      "text/html": [
       "<div style=\"width:100%;\"><div style=\"position:relative;width:100%;height:0;padding-bottom:60%;\"><span style=\"color:#565656\">Make this Notebook Trusted to load map: File -> Trust Notebook</span><iframe srcdoc=\"&lt;!DOCTYPE html&gt;\n",
       "&lt;html&gt;\n",
       "&lt;head&gt;\n",
       "    \n",
       "    &lt;meta http-equiv=&quot;content-type&quot; content=&quot;text/html; charset=UTF-8&quot; /&gt;\n",
       "    \n",
       "        &lt;script&gt;\n",
       "            L_NO_TOUCH = false;\n",
       "            L_DISABLE_3D = false;\n",
       "        &lt;/script&gt;\n",
       "    \n",
       "    &lt;style&gt;html, body {width: 100%;height: 100%;margin: 0;padding: 0;}&lt;/style&gt;\n",
       "    &lt;style&gt;#map {position:absolute;top:0;bottom:0;right:0;left:0;}&lt;/style&gt;\n",
       "    &lt;script src=&quot;https://cdn.jsdelivr.net/npm/leaflet@1.9.3/dist/leaflet.js&quot;&gt;&lt;/script&gt;\n",
       "    &lt;script src=&quot;https://code.jquery.com/jquery-3.7.1.min.js&quot;&gt;&lt;/script&gt;\n",
       "    &lt;script src=&quot;https://cdn.jsdelivr.net/npm/bootstrap@5.2.2/dist/js/bootstrap.bundle.min.js&quot;&gt;&lt;/script&gt;\n",
       "    &lt;script src=&quot;https://cdnjs.cloudflare.com/ajax/libs/Leaflet.awesome-markers/2.0.2/leaflet.awesome-markers.js&quot;&gt;&lt;/script&gt;\n",
       "    &lt;link rel=&quot;stylesheet&quot; href=&quot;https://cdn.jsdelivr.net/npm/leaflet@1.9.3/dist/leaflet.css&quot;/&gt;\n",
       "    &lt;link rel=&quot;stylesheet&quot; href=&quot;https://cdn.jsdelivr.net/npm/bootstrap@5.2.2/dist/css/bootstrap.min.css&quot;/&gt;\n",
       "    &lt;link rel=&quot;stylesheet&quot; href=&quot;https://netdna.bootstrapcdn.com/bootstrap/3.0.0/css/bootstrap-glyphicons.css&quot;/&gt;\n",
       "    &lt;link rel=&quot;stylesheet&quot; href=&quot;https://cdn.jsdelivr.net/npm/@fortawesome/fontawesome-free@6.2.0/css/all.min.css&quot;/&gt;\n",
       "    &lt;link rel=&quot;stylesheet&quot; href=&quot;https://cdnjs.cloudflare.com/ajax/libs/Leaflet.awesome-markers/2.0.2/leaflet.awesome-markers.css&quot;/&gt;\n",
       "    &lt;link rel=&quot;stylesheet&quot; href=&quot;https://cdn.jsdelivr.net/gh/python-visualization/folium/folium/templates/leaflet.awesome.rotate.min.css&quot;/&gt;\n",
       "    \n",
       "            &lt;meta name=&quot;viewport&quot; content=&quot;width=device-width,\n",
       "                initial-scale=1.0, maximum-scale=1.0, user-scalable=no&quot; /&gt;\n",
       "            &lt;style&gt;\n",
       "                #map_61f815821d43bf1907de6b546f5b633c {\n",
       "                    position: relative;\n",
       "                    width: 100.0%;\n",
       "                    height: 100.0%;\n",
       "                    left: 0.0%;\n",
       "                    top: 0.0%;\n",
       "                }\n",
       "                .leaflet-container { font-size: 1rem; }\n",
       "            &lt;/style&gt;\n",
       "        \n",
       "&lt;/head&gt;\n",
       "&lt;body&gt;\n",
       "    \n",
       "    \n",
       "            &lt;div class=&quot;folium-map&quot; id=&quot;map_61f815821d43bf1907de6b546f5b633c&quot; &gt;&lt;/div&gt;\n",
       "        \n",
       "&lt;/body&gt;\n",
       "&lt;script&gt;\n",
       "    \n",
       "    \n",
       "            var map_61f815821d43bf1907de6b546f5b633c = L.map(\n",
       "                &quot;map_61f815821d43bf1907de6b546f5b633c&quot;,\n",
       "                {\n",
       "                    center: [50.881820454684004, 4.192027238730677],\n",
       "                    crs: L.CRS.EPSG3857,\n",
       "                    zoom: 7,\n",
       "                    zoomControl: true,\n",
       "                    preferCanvas: false,\n",
       "                }\n",
       "            );\n",
       "            L.control.scale().addTo(map_61f815821d43bf1907de6b546f5b633c);\n",
       "\n",
       "            \n",
       "\n",
       "        \n",
       "    \n",
       "            var tile_layer_eddcc1bf27f7703d1737a632d57329ee = L.tileLayer(\n",
       "                &quot;https://tile.openstreetmap.org/{z}/{x}/{y}.png&quot;,\n",
       "                {&quot;attribution&quot;: &quot;\\u0026copy; \\u003ca href=\\&quot;https://www.openstreetmap.org/copyright\\&quot;\\u003eOpenStreetMap\\u003c/a\\u003e contributors&quot;, &quot;detectRetina&quot;: false, &quot;maxNativeZoom&quot;: 19, &quot;maxZoom&quot;: 19, &quot;minZoom&quot;: 0, &quot;noWrap&quot;: false, &quot;opacity&quot;: 1, &quot;subdomains&quot;: &quot;abc&quot;, &quot;tms&quot;: false}\n",
       "            );\n",
       "        \n",
       "    \n",
       "            tile_layer_eddcc1bf27f7703d1737a632d57329ee.addTo(map_61f815821d43bf1907de6b546f5b633c);\n",
       "        \n",
       "&lt;/script&gt;\n",
       "&lt;/html&gt;\" style=\"position:absolute;width:100%;height:100%;left:0;top:0;border:none !important;\" allowfullscreen webkitallowfullscreen mozallowfullscreen></iframe></div></div>"
      ],
      "text/plain": [
       "<folium.folium.Map at 0x1e8411e3980>"
      ]
     },
     "execution_count": 1309,
     "metadata": {},
     "output_type": "execute_result"
    }
   ],
   "source": [
    "#Getting a map from folium with the coordinates of the mean lat and long of the dataframe\n",
    "\n",
    "m = folium.Map(location = [df.latitude.mean(), df.longitude.mean()], zoom_start=7, control_scale= True)\n",
    "\n",
    "m\n"
   ]
  },
  {
   "cell_type": "code",
   "execution_count": 1310,
   "metadata": {},
   "outputs": [],
   "source": [
    "map_values = df[['latitude', 'longitude']].dropna()\n",
    "\n",
    "map_data = map_values.values.tolist()"
   ]
  },
  {
   "cell_type": "code",
   "execution_count": 1311,
   "metadata": {},
   "outputs": [],
   "source": [
    "for coord in map_data:\n",
    "    folium.Marker(location=coord).add_to(m)\n",
    "    \n",
    "# m.save('map.html')\n",
    "# webbrowser.open(r'C:\\Users\\Rik\\Desktop\\immo-eliza-team6-analysis\\analysis\\map.html')"
   ]
  },
  {
   "cell_type": "code",
   "execution_count": null,
   "metadata": {},
   "outputs": [],
   "source": []
  },
  {
   "cell_type": "markdown",
   "metadata": {},
   "source": [
    "**SUBTYPE**"
   ]
  },
  {
   "cell_type": "code",
   "execution_count": 1312,
   "metadata": {},
   "outputs": [
    {
     "data": {
      "text/plain": [
       "np.float64(0.0)"
      ]
     },
     "execution_count": 1312,
     "metadata": {},
     "output_type": "execute_result"
    }
   ],
   "source": [
    "#Check the missing values\n",
    "df['Subtype'].isnull().mean()*100"
   ]
  },
  {
   "cell_type": "code",
   "execution_count": 1313,
   "metadata": {},
   "outputs": [
    {
     "data": {
      "text/plain": [
       "np.int64(0)"
      ]
     },
     "execution_count": 1313,
     "metadata": {},
     "output_type": "execute_result"
    }
   ],
   "source": [
    "df['Subtype'].isnull().sum()"
   ]
  },
  {
   "cell_type": "code",
   "execution_count": 1314,
   "metadata": {},
   "outputs": [
    {
     "data": {
      "text/plain": [
       "Subtype\n",
       "House              5101\n",
       "Villa               411\n",
       "Town house           99\n",
       "Bungalow             79\n",
       "Mansion              72\n",
       "Country cottage      52\n",
       "Farmhouse            23\n",
       "Chalet               13\n",
       "Manor house           2\n",
       "Name: count, dtype: int64"
      ]
     },
     "execution_count": 1314,
     "metadata": {},
     "output_type": "execute_result"
    }
   ],
   "source": [
    "frequency = df['Subtype'].value_counts()\n",
    "frequency"
   ]
  },
  {
   "cell_type": "code",
   "execution_count": 1315,
   "metadata": {},
   "outputs": [
    {
     "data": {
      "image/png": "[encoded data removed]",
      "text/plain": [
       "<Figure size 1400x400 with 1 Axes>"
      ]
     },
     "metadata": {},
     "output_type": "display_data"
    }
   ],
   "source": [
    "#Detecting Outliers\n",
    "frequency = df['Subtype'].value_counts()\n",
    "\n",
    "plt.figure(figsize=(14, 4))\n",
    "sns.barplot(x=frequency.index, y=frequency.values)\n",
    "plt.title('Frequency of Subtype')\n",
    "plt.xlabel('Subtype')\n",
    "plt.ylabel('Frequency')\n",
    "plt.show()\n"
   ]
  },
  {
   "cell_type": "code",
   "execution_count": 1316,
   "metadata": {},
   "outputs": [
    {
     "name": "stdout",
     "output_type": "stream",
     "text": [
      "           subtype  count\n",
      "0            House   5101\n",
      "1            Villa    411\n",
      "2       Town house     99\n",
      "3         Bungalow     79\n",
      "4          Mansion     72\n",
      "5  Country cottage     52\n",
      "6        Farmhouse     23\n",
      "7           Chalet     13\n",
      "8      Manor house      2\n"
     ]
    }
   ],
   "source": [
    "#Creating a seperate frequency dataframe\n",
    "\n",
    "frequency_df = frequency.reset_index()\n",
    "frequency_df.columns = ['subtype', 'count']\n",
    "\n",
    "print(frequency_df)"
   ]
  },
  {
   "cell_type": "code",
   "execution_count": 1317,
   "metadata": {},
   "outputs": [
    {
     "name": "stdout",
     "output_type": "stream",
     "text": [
      "Rare Values: Subtype\n",
      "Town house         99\n",
      "Bungalow           79\n",
      "Mansion            72\n",
      "Country cottage    52\n",
      "Farmhouse          23\n",
      "Chalet             13\n",
      "Manor house         2\n",
      "Name: count, dtype: int64\n"
     ]
    }
   ],
   "source": [
    "#Determing the rare values (threshold 5%)\n",
    "threshold = 0.05 * len(df)  \n",
    "rare_categories = frequency[frequency < threshold]\n",
    "\n",
    "print(\"Rare Values:\", rare_categories)"
   ]
  },
  {
   "cell_type": "code",
   "execution_count": 1318,
   "metadata": {},
   "outputs": [],
   "source": [
    "#Here we will use One-Hot Encoding (pd.get_dummies) because this is a nominal (unordered) column and the number of categories is small.\n",
    "df_one_hot_subtype = pd.get_dummies(df.copy(), columns=['Subtype'], prefix='Subtype', drop_first=True)\n",
    "\n"
   ]
  },
  {
   "cell_type": "code",
   "execution_count": 1319,
   "metadata": {},
   "outputs": [
    {
     "name": "stdout",
     "output_type": "stream",
     "text": [
      "<class 'pandas.core.frame.DataFrame'>\n",
      "RangeIndex: 5852 entries, 0 to 5851\n",
      "Data columns (total 31 columns):\n",
      " #   Column                   Non-Null Count  Dtype   \n",
      "---  ------                   --------------  -----   \n",
      " 0   id                       5852 non-null   Int64   \n",
      " 1   locality_name            5852 non-null   category\n",
      " 2   Postal_code              5852 non-null   object  \n",
      " 3   Price                    5852 non-null   Int64   \n",
      " 4   Number_of_bedrooms       5852 non-null   Int64   \n",
      " 5   Living_area              5852 non-null   Int64   \n",
      " 6   street                   5852 non-null   category\n",
      " 7   number                   5831 non-null   category\n",
      " 8   latitude                 5847 non-null   float64 \n",
      " 9   longitude                5847 non-null   float64 \n",
      " 10  Open_fire                5852 non-null   Int64   \n",
      " 11  Swimming_Pool            5852 non-null   Int64   \n",
      " 12  hasTerrace               5852 non-null   Int64   \n",
      " 13  terraceSurface           5852 non-null   Int64   \n",
      " 14  gardenSurface            5852 non-null   Int64   \n",
      " 15  Kitchen_type             3614 non-null   category\n",
      " 16  Number_of_facades        5852 non-null   Int64   \n",
      " 17  State_of_building        5293 non-null   category\n",
      " 18  Furnished                5852 non-null   Int64   \n",
      " 19  epc                      5580 non-null   category\n",
      " 20  price_per_sqm            5852 non-null   float64 \n",
      " 21  Province                 5852 non-null   category\n",
      " 22  Assigned_City            1586 non-null   object  \n",
      " 23  Subtype_Chalet           5852 non-null   bool    \n",
      " 24  Subtype_Country cottage  5852 non-null   bool    \n",
      " 25  Subtype_Farmhouse        5852 non-null   bool    \n",
      " 26  Subtype_House            5852 non-null   bool    \n",
      " 27  Subtype_Manor house      5852 non-null   bool    \n",
      " 28  Subtype_Mansion          5852 non-null   bool    \n",
      " 29  Subtype_Town house       5852 non-null   bool    \n",
      " 30  Subtype_Villa            5852 non-null   bool    \n",
      "dtypes: Int64(11), bool(8), category(7), float64(3), object(2)\n",
      "memory usage: 1.1+ MB\n"
     ]
    }
   ],
   "source": [
    "df_one_hot_subtype.info()"
   ]
  },
  {
   "cell_type": "markdown",
   "metadata": {},
   "source": [
    "**KITCHEN_TYPE**\n"
   ]
  },
  {
   "cell_type": "code",
   "execution_count": 1320,
   "metadata": {},
   "outputs": [
    {
     "data": {
      "text/plain": [
       "np.float64(38.24333561175666)"
      ]
     },
     "execution_count": 1320,
     "metadata": {},
     "output_type": "execute_result"
    }
   ],
   "source": [
    "#Checking the missing values\n",
    "df['Kitchen_type'].isnull().mean()*100"
   ]
  },
  {
   "cell_type": "code",
   "execution_count": 1321,
   "metadata": {},
   "outputs": [
    {
     "data": {
      "text/plain": [
       "0                    NaN\n",
       "1              Installed\n",
       "2          Semi equipped\n",
       "3                    NaN\n",
       "4              Installed\n",
       "5                    NaN\n",
       "6     Usa hyper equipped\n",
       "7          Semi equipped\n",
       "8                    NaN\n",
       "9          Semi equipped\n",
       "10             Installed\n",
       "11             Installed\n",
       "12             Installed\n",
       "13             Installed\n",
       "14        Hyper equipped\n",
       "15         Semi equipped\n",
       "16        Hyper equipped\n",
       "17             Installed\n",
       "18             Installed\n",
       "19             Installed\n",
       "20                   NaN\n",
       "21        Hyper equipped\n",
       "22             Installed\n",
       "23         Semi equipped\n",
       "24             Installed\n",
       "25             Installed\n",
       "26         Usa installed\n",
       "27        Hyper equipped\n",
       "28                   NaN\n",
       "29             Installed\n",
       "Name: Kitchen_type, dtype: category\n",
       "Categories (8, object): ['Hyper equipped', 'Installed', 'Not installed', 'Semi equipped', 'Usa hyper equipped', 'Usa installed', 'Usa semi equipped', 'Usa uninstalled']"
      ]
     },
     "execution_count": 1321,
     "metadata": {},
     "output_type": "execute_result"
    }
   ],
   "source": [
    "df['Kitchen_type'].isnull().sum()\n",
    "df['Kitchen_type'].head(30)"
   ]
  },
  {
   "cell_type": "code",
   "execution_count": 1322,
   "metadata": {},
   "outputs": [],
   "source": [
    "#Dealing with the high number of missing values\n",
    "#df['Kitchen_type'] = df['Kitchen_type'].apply(lambda x: 'Missing' if pd.isna(x) else x)"
   ]
  },
  {
   "cell_type": "code",
   "execution_count": 1323,
   "metadata": {},
   "outputs": [
    {
     "data": {
      "text/plain": [
       "Kitchen_type\n",
       "Installed             1935\n",
       "Hyper equipped         779\n",
       "Semi equipped          645\n",
       "Not installed          202\n",
       "Usa installed           29\n",
       "Usa hyper equipped      19\n",
       "Usa uninstalled          4\n",
       "Usa semi equipped        1\n",
       "Name: count, dtype: int64"
      ]
     },
     "execution_count": 1323,
     "metadata": {},
     "output_type": "execute_result"
    }
   ],
   "source": [
    "frequency = df['Kitchen_type'].value_counts()\n",
    "frequency"
   ]
  },
  {
   "cell_type": "code",
   "execution_count": 1324,
   "metadata": {},
   "outputs": [
    {
     "data": {
      "image/png": "[encoded data removed]",
      "text/plain": [
       "<Figure size 1400x400 with 1 Axes>"
      ]
     },
     "metadata": {},
     "output_type": "display_data"
    }
   ],
   "source": [
    "#Detecting Outliers\n",
    "frequency = df['Kitchen_type'].value_counts()\n",
    "\n",
    "plt.figure(figsize=(14, 4))\n",
    "sns.barplot(x=frequency.index, y=frequency.values)\n",
    "plt.title('Frequency of Kitchen_type')\n",
    "plt.xlabel('Kitchen_type')\n",
    "plt.ylabel('Frequency')\n",
    "plt.show()"
   ]
  },
  {
   "cell_type": "code",
   "execution_count": 1325,
   "metadata": {},
   "outputs": [
    {
     "name": "stdout",
     "output_type": "stream",
     "text": [
      "         Kitchen_type  count\n",
      "0           Installed   1935\n",
      "1      Hyper equipped    779\n",
      "2       Semi equipped    645\n",
      "3       Not installed    202\n",
      "4       Usa installed     29\n",
      "5  Usa hyper equipped     19\n",
      "6     Usa uninstalled      4\n",
      "7   Usa semi equipped      1\n"
     ]
    }
   ],
   "source": [
    "#Creating a seperate frequency dataframe\n",
    "\n",
    "frequency_df = frequency.reset_index()\n",
    "frequency_df.columns = ['Kitchen_type', 'count']\n",
    "\n",
    "print(frequency_df)"
   ]
  },
  {
   "cell_type": "code",
   "execution_count": 1326,
   "metadata": {},
   "outputs": [
    {
     "name": "stdout",
     "output_type": "stream",
     "text": [
      "Rare Values: Kitchen_type\n",
      "Not installed         202\n",
      "Usa installed          29\n",
      "Usa hyper equipped     19\n",
      "Usa uninstalled         4\n",
      "Usa semi equipped       1\n",
      "Name: count, dtype: int64\n"
     ]
    }
   ],
   "source": [
    "#Determing the rare values (threshold 5%)\n",
    "threshold = 0.05 * len(df)  \n",
    "rare_categories = frequency[frequency < threshold]\n",
    "\n",
    "print(\"Rare Values:\", rare_categories)"
   ]
  },
  {
   "cell_type": "markdown",
   "metadata": {},
   "source": [
    "**State_of_building**"
   ]
  },
  {
   "cell_type": "code",
   "execution_count": 1327,
   "metadata": {},
   "outputs": [
    {
     "data": {
      "text/plain": [
       "np.float64(9.552289815447711)"
      ]
     },
     "execution_count": 1327,
     "metadata": {},
     "output_type": "execute_result"
    }
   ],
   "source": [
    "#Checking the missing values\n",
    "df['State_of_building'].isnull().mean()*100"
   ]
  },
  {
   "cell_type": "code",
   "execution_count": 1328,
   "metadata": {},
   "outputs": [
    {
     "data": {
      "text/plain": [
       "np.int64(559)"
      ]
     },
     "execution_count": 1328,
     "metadata": {},
     "output_type": "execute_result"
    }
   ],
   "source": [
    "df['State_of_building'].isnull().sum()"
   ]
  },
  {
   "cell_type": "code",
   "execution_count": 1329,
   "metadata": {},
   "outputs": [
    {
     "data": {
      "text/plain": [
       "State_of_building\n",
       "Good              2314\n",
       "As new            1034\n",
       "To renovate        984\n",
       "To be done up      620\n",
       "Just renovated     306\n",
       "To restore          35\n",
       "Name: count, dtype: int64"
      ]
     },
     "execution_count": 1329,
     "metadata": {},
     "output_type": "execute_result"
    }
   ],
   "source": [
    "frequency = df['State_of_building'].value_counts()\n",
    "frequency"
   ]
  },
  {
   "cell_type": "code",
   "execution_count": 1330,
   "metadata": {},
   "outputs": [
    {
     "data": {
      "image/png": "[encoded data removed]",
      "text/plain": [
       "<Figure size 1400x400 with 1 Axes>"
      ]
     },
     "metadata": {},
     "output_type": "display_data"
    }
   ],
   "source": [
    "#Detecting Outliers\n",
    "frequency = df['State_of_building'].value_counts()\n",
    "\n",
    "plt.figure(figsize=(14, 4))\n",
    "sns.barplot(x=frequency.index, y=frequency.values)\n",
    "plt.title('Frequency of State_of_building')\n",
    "plt.xlabel('State_of_building')\n",
    "plt.ylabel('Frequency')\n",
    "plt.show()"
   ]
  },
  {
   "cell_type": "code",
   "execution_count": 1331,
   "metadata": {},
   "outputs": [
    {
     "name": "stdout",
     "output_type": "stream",
     "text": [
      "  State_of_building  count\n",
      "0              Good   2314\n",
      "1            As new   1034\n",
      "2       To renovate    984\n",
      "3     To be done up    620\n",
      "4    Just renovated    306\n",
      "5        To restore     35\n"
     ]
    }
   ],
   "source": [
    "#Creating a seperate frequency dataframe\n",
    "\n",
    "frequency_df = frequency.reset_index()\n",
    "frequency_df.columns = ['State_of_building', 'count']\n",
    "\n",
    "print(frequency_df)"
   ]
  },
  {
   "cell_type": "code",
   "execution_count": 1332,
   "metadata": {},
   "outputs": [
    {
     "data": {
      "text/plain": [
       "State_of_building\n",
       "Good              2873\n",
       "As new            1034\n",
       "To renovate        984\n",
       "To be done up      620\n",
       "Just renovated     306\n",
       "To restore          35\n",
       "Name: count, dtype: int64"
      ]
     },
     "execution_count": 1332,
     "metadata": {},
     "output_type": "execute_result"
    }
   ],
   "source": [
    "#Dealing with missing values (Imputation)\n",
    "\n",
    "df['State_of_building'] = df['State_of_building'].fillna(df['State_of_building'].mode()[0])\n",
    "frequency = df['State_of_building'].value_counts()\n",
    "frequency\n",
    "\n",
    "#Missing is also a possibility here???\n",
    "\n",
    "#df['State_of_building'] = df['State_of_building'].fillna('Missing')"
   ]
  },
  {
   "cell_type": "code",
   "execution_count": 1333,
   "metadata": {},
   "outputs": [
    {
     "name": "stdout",
     "output_type": "stream",
     "text": [
      "Rare Values: State_of_building\n",
      "To restore    35\n",
      "Name: count, dtype: int64\n"
     ]
    }
   ],
   "source": [
    "#Determing the rare values (threshold 5%)\n",
    "threshold = 0.05 * len(df)  \n",
    "rare_categories = frequency[frequency < threshold]\n",
    "\n",
    "print(\"Rare Values:\", rare_categories)"
   ]
  },
  {
   "cell_type": "code",
   "execution_count": 1334,
   "metadata": {},
   "outputs": [
    {
     "data": {
      "text/plain": [
       "State_of_building\n",
       "Good              2873\n",
       "As new            1034\n",
       "To renovate       1019\n",
       "To be done up      620\n",
       "Just renovated     306\n",
       "Name: count, dtype: int64"
      ]
     },
     "execution_count": 1334,
     "metadata": {},
     "output_type": "execute_result"
    }
   ],
   "source": [
    "#Assign the rare value to another value\n",
    "category_map = {'To restore': 'To renovate'}\n",
    "df['State_of_building'] = df['State_of_building'].map(category_map).fillna(df['State_of_building'])\n",
    "\n",
    "frequency = df['State_of_building'].value_counts()\n",
    "frequency"
   ]
  },
  {
   "cell_type": "markdown",
   "metadata": {},
   "source": [
    "**EPC**"
   ]
  },
  {
   "cell_type": "code",
   "execution_count": 1335,
   "metadata": {},
   "outputs": [
    {
     "data": {
      "text/plain": [
       "np.float64(4.6479835953520166)"
      ]
     },
     "execution_count": 1335,
     "metadata": {},
     "output_type": "execute_result"
    }
   ],
   "source": [
    "#Checking the missing values\n",
    "df['epc'].isnull().mean()*100"
   ]
  },
  {
   "cell_type": "code",
   "execution_count": 1336,
   "metadata": {},
   "outputs": [
    {
     "data": {
      "text/plain": [
       "np.int64(272)"
      ]
     },
     "execution_count": 1336,
     "metadata": {},
     "output_type": "execute_result"
    }
   ],
   "source": [
    "#Checking the missing values\n",
    "df['epc'].isnull().sum()"
   ]
  },
  {
   "cell_type": "code",
   "execution_count": 1337,
   "metadata": {},
   "outputs": [
    {
     "data": {
      "text/plain": [
       "epc\n",
       "F      1134\n",
       "C      1107\n",
       "D      1041\n",
       "B       902\n",
       "E       632\n",
       "A       462\n",
       "G       228\n",
       "A+       60\n",
       "A++      14\n",
       "Name: count, dtype: int64"
      ]
     },
     "execution_count": 1337,
     "metadata": {},
     "output_type": "execute_result"
    }
   ],
   "source": [
    "frequency = df['epc'].value_counts()\n",
    "frequency"
   ]
  },
  {
   "cell_type": "code",
   "execution_count": 1338,
   "metadata": {},
   "outputs": [
    {
     "data": {
      "image/png": "[encoded data removed]",
      "text/plain": [
       "<Figure size 1400x400 with 1 Axes>"
      ]
     },
     "metadata": {},
     "output_type": "display_data"
    }
   ],
   "source": [
    "#Detecting Outliers\n",
    "frequency = df['epc'].value_counts()\n",
    "\n",
    "plt.figure(figsize=(14, 4))\n",
    "sns.barplot(x=frequency.index, y=frequency.values)\n",
    "plt.title('EPC of properties')\n",
    "plt.xlabel('EPC')\n",
    "plt.ylabel('Frequency')\n",
    "plt.show()"
   ]
  },
  {
   "cell_type": "code",
   "execution_count": 1339,
   "metadata": {},
   "outputs": [
    {
     "name": "stdout",
     "output_type": "stream",
     "text": [
      "   epc  count\n",
      "0    F   1134\n",
      "1    C   1107\n",
      "2    D   1041\n",
      "3    B    902\n",
      "4    E    632\n",
      "5    A    462\n",
      "6    G    228\n",
      "7   A+     60\n",
      "8  A++     14\n"
     ]
    }
   ],
   "source": [
    "#Creating a seperate frequency dataframe\n",
    "\n",
    "frequency_df = frequency.reset_index()\n",
    "frequency_df.columns = ['epc', 'count']\n",
    "\n",
    "print(frequency_df)"
   ]
  },
  {
   "cell_type": "code",
   "execution_count": 1340,
   "metadata": {},
   "outputs": [
    {
     "data": {
      "text/plain": [
       "epc\n",
       "F      1406\n",
       "C      1107\n",
       "D      1041\n",
       "B       902\n",
       "E       632\n",
       "A       462\n",
       "G       228\n",
       "A+       60\n",
       "A++      14\n",
       "Name: count, dtype: int64"
      ]
     },
     "execution_count": 1340,
     "metadata": {},
     "output_type": "execute_result"
    }
   ],
   "source": [
    "#Dealing with missing values (Imputation)\n",
    "\n",
    "df['epc'] = df['epc'].fillna(df['epc'].mode()[0])\n",
    "frequency = df['epc'].value_counts()\n",
    "frequency\n",
    "\n",
    "#Missing is also a possibility here???\n",
    "\n",
    "#df['epc'] = df['epc'].fillna('Missing')"
   ]
  },
  {
   "cell_type": "code",
   "execution_count": 1341,
   "metadata": {},
   "outputs": [
    {
     "name": "stdout",
     "output_type": "stream",
     "text": [
      "Rare Values: epc\n",
      "G      228\n",
      "A+      60\n",
      "A++     14\n",
      "Name: count, dtype: int64\n"
     ]
    }
   ],
   "source": [
    "#Determing the rare values (threshold 5%)\n",
    "threshold = 0.05 * len(df)  \n",
    "rare_categories = frequency[frequency < threshold]\n",
    "\n",
    "print(\"Rare Values:\", rare_categories)\n"
   ]
  },
  {
   "cell_type": "code",
   "execution_count": 1342,
   "metadata": {},
   "outputs": [
    {
     "data": {
      "text/plain": [
       "epc\n",
       "F    1634\n",
       "C    1107\n",
       "D    1041\n",
       "B     902\n",
       "E     632\n",
       "A     536\n",
       "Name: count, dtype: int64"
      ]
     },
     "execution_count": 1342,
     "metadata": {},
     "output_type": "execute_result"
    }
   ],
   "source": [
    "#Assign the rare value to another value (EPC G only exist in Brussels and Wallonia)\n",
    "category_map = {'A+': 'A', 'A++': 'A', 'G':'F'}\n",
    "df['epc'] = df['epc'].map(category_map).fillna(df['epc'])\n",
    "\n",
    "frequency = df['epc'].value_counts()\n",
    "frequency"
   ]
  }
 ],
 "metadata": {
  "kernelspec": {
   "display_name": ".immoelizateam",
   "language": "python",
   "name": "python3"
  },
  "language_info": {
   "codemirror_mode": {
    "name": "ipython",
    "version": 3
   },
   "file_extension": ".py",
   "mimetype": "text/x-python",
   "name": "python",
   "nbconvert_exporter": "python",
   "pygments_lexer": "ipython3",
   "version": "3.12.4"
  }
 },
 "nbformat": 4,
 "nbformat_minor": 2
}
