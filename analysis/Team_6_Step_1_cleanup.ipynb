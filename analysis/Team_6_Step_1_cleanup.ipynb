{
 "cells": [
  {
   "cell_type": "markdown",
   "metadata": {},
   "source": [
    "**DATA CLEANER**"
   ]
  },
  {
   "cell_type": "markdown",
   "metadata": {},
   "source": [
    "**Generating a pandas dataframe from the source .csv file**"
   ]
  },
  {
   "cell_type": "code",
   "execution_count": 91,
   "metadata": {},
   "outputs": [],
   "source": [
    "import pandas as pd\n",
    "import seaborn as sns\n",
    "import numpy as np\n",
    "\n",
    "# Set options to show all columns\n",
    "pd.set_option('display.max_columns', None)\n",
    "\n",
    "# Load csv file and generate pandas dataframe\n",
    "data_scrape_csv = r'..\\data\\raw\\immo_scraper_merged_with_landsurface.csv' # Fill your path to file\n",
    "data_scraped = pd.read_csv(data_scrape_csv, sep = ',')\n"
   ]
  },
  {
   "cell_type": "markdown",
   "metadata": {},
   "source": [
    "**Adding columns on price per m^2**\n",
    "- And display of the info of the dataframe at start of analysis"
   ]
  },
  {
   "cell_type": "code",
   "execution_count": 92,
   "metadata": {},
   "outputs": [
    {
     "name": "stdout",
     "output_type": "stream",
     "text": [
      "<class 'pandas.core.frame.DataFrame'>\n",
      "RangeIndex: 9995 entries, 0 to 9994\n",
      "Data columns (total 29 columns):\n",
      " #   Column              Non-Null Count  Dtype  \n",
      "---  ------              --------------  -----  \n",
      " 0   id                  9995 non-null   int64  \n",
      " 1   locality_name       9995 non-null   object \n",
      " 2   Postal_code         9995 non-null   object \n",
      " 3   Price               9340 non-null   float64\n",
      " 4   Subtype             9995 non-null   object \n",
      " 5   Number_of_rooms     3328 non-null   float64\n",
      " 6   Number_of_bedrooms  9356 non-null   float64\n",
      " 7   Living_area         9170 non-null   float64\n",
      " 8   sale_annuity        16 non-null     object \n",
      " 9   Type_of_sale        9995 non-null   object \n",
      " 10  street              9700 non-null   object \n",
      " 11  number              9589 non-null   object \n",
      " 12  latitude            9705 non-null   float64\n",
      " 13  longitude           9705 non-null   float64\n",
      " 14  Open_fire           9995 non-null   bool   \n",
      " 15  Swimming_Pool       3859 non-null   object \n",
      " 16  hasTerrace          6416 non-null   object \n",
      " 17  terraceSurface      3218 non-null   float64\n",
      " 18  hasGarden           3844 non-null   object \n",
      " 19  gardenSurface       3844 non-null   float64\n",
      " 20  Kitchen_type        6033 non-null   object \n",
      " 21  Number_of_facades   7601 non-null   float64\n",
      " 22  State_of_building   8497 non-null   object \n",
      " 23  Furnished           3936 non-null   object \n",
      " 24  Starting_price      4406 non-null   object \n",
      " 25  epc                 8945 non-null   object \n",
      " 26  landSurface         7830 non-null   float64\n",
      " 27  price_per_sqm       9154 non-null   float64\n",
      " 28  price_per_sqm_land  7819 non-null   float64\n",
      "dtypes: bool(1), float64(12), int64(1), object(15)\n",
      "memory usage: 2.1+ MB\n"
     ]
    }
   ],
   "source": [
    "# Adding new column of price per m2 nethabitable surface with safeguard for ZeroDivisionError\n",
    "data_scraped['price_per_sqm'] = np.where(data_scraped['Living_area'] == 0, np.nan, data_scraped['Price'] / data_scraped['Living_area'])\n",
    "\n",
    "# Adding new column of price per m2 land surface with safeguard for ZeroDivisionError\n",
    "data_scraped['price_per_sqm_land'] = np.where(data_scraped['Living_area'] == 0, np.nan, data_scraped['Price'] / data_scraped['landSurface'])\n",
    "\n",
    "# Display info on the dataframe\n",
    "data_scraped.info()\n",
    "data_scraped_shape = data_scraped.shape\n"
   ]
  },
  {
   "cell_type": "markdown",
   "metadata": {},
   "source": [
    "**Cosmetic clean and preprocessing:**\n",
    "- cosmetic changes (e.g. no blank spaces)\n",
    "- text fields as strings, and in title case\n",
    "- no wrongly encoded values (e.g. a text value in the price column, numeric values as integer or float)"
   ]
  },
  {
   "cell_type": "code",
   "execution_count": 93,
   "metadata": {},
   "outputs": [
    {
     "name": "stderr",
     "output_type": "stream",
     "text": [
      "C:\\Users\\tom_v\\AppData\\Local\\Temp\\ipykernel_9832\\2092513498.py:32: FutureWarning: Downcasting behavior in `replace` is deprecated and will be removed in a future version. To retain the old behavior, explicitly call `result.infer_objects(copy=False)`. To opt-in to the future behavior, set `pd.set_option('future.no_silent_downcasting', True)`\n",
      "  data_clean_1[columns_for_change_01] = data_clean_1[columns_for_change_01].replace({False:0, True:1}).astype('Int64')\n"
     ]
    }
   ],
   "source": [
    "# Copy dataframe contents to a new dataframe\n",
    "data_clean_1 = data_scraped.copy()\n",
    "\n",
    "# Edit text in the columns\n",
    "text_edit_columns = ['Subtype', 'Type_of_sale', 'Kitchen_type', 'State_of_building' ]\n",
    "\n",
    "for column in text_edit_columns:\n",
    "    data_clean_1[column] = data_clean_1[column].astype(str)  # Ensure the column is treated as string\n",
    "    data_clean_1[column] = data_clean_1[column].str.replace('_', ' ').str.capitalize() #Replace \"_\" to space, editing text (first capital letter, rest lower case)\n",
    "\n",
    "#Edit text of cities and street names\n",
    "names_edit_columns = ['locality_name', 'street']\n",
    "\n",
    "for column in names_edit_columns:\n",
    "    data_clean_1[column] = data_clean_1[column].astype(str)  # Ensure the column is treated as string\n",
    "    data_clean_1[column] = data_clean_1[column].str.title() # Editing text (first capital letters, rest lower case)\n",
    "\n",
    "# Remove zip code from brackets, e.g. \"Tielt (8700)\" -> \"Tielt\"\n",
    "data_clean_1['locality_name'] = data_clean_1['locality_name'].str.replace(r\"\\s*\\(\\d+\\)\", \"\", regex=True)\n",
    "\n",
    "# Edit the numbers in columns\n",
    "\n",
    "# Selecting the columns to change\n",
    "number_edit_columns = ['Number_of_bedrooms', 'Living_area', 'Number_of_facades', 'Price', 'terraceSurface', 'gardenSurface']\n",
    "\n",
    "# Converting the cell value to int (so that they are integers), if there is no value in the cell - fill in 0.\n",
    "for column in number_edit_columns:\n",
    "    data_clean_1[column] = pd.to_numeric(data_clean_1[column], errors='coerce').fillna(0).astype('Int64')\n",
    "\n",
    "# Values conversion cells from false to 0, true to 1.\n",
    "columns_for_change_01 = ['Open_fire', 'Swimming_Pool', 'Furnished', 'hasTerrace'] # Columns for change\n",
    "data_clean_1[columns_for_change_01] = data_clean_1[columns_for_change_01].replace({False:0, True:1}).astype('Int64')\n",
    "\n",
    "# Display first 5 rows\n",
    "data_clean_1.head()\n",
    "data_clean_1_shape = data_clean_1.shape\n"
   ]
  },
  {
   "cell_type": "markdown",
   "metadata": {},
   "source": [
    "**Cleanups involving assumptions on missing values**\n",
    "- 'Open_fire', 'Swimming_pool', 'Furnished', 'hasTerrace': if missing values for --> set to 0\n",
    "- 'hasGarden', 'epc', 'Kitchen_type', 'State_of_building': missing values --> set to 0"
   ]
  },
  {
   "cell_type": "code",
   "execution_count": 94,
   "metadata": {},
   "outputs": [],
   "source": [
    "# Copy dataframe contents to a new dataframe\n",
    "data_clean_2 = data_clean_1.copy()\n",
    "\n",
    "# Replace empty cells value on binary values with 0\n",
    "columns_for_change_01 = ['Open_fire', 'Swimming_Pool', 'Furnished', 'hasTerrace'] # Columns for change\n",
    "\n",
    "# Values conversion cells from false to 0, true to 1, if empty fill as 0.\n",
    "data_clean_2[columns_for_change_01] = data_clean_2[columns_for_change_01].fillna(0).astype('Int64')\n",
    "\n",
    "# Replace \"0\" and \"Nan\" on \"Null\"\n",
    "\n",
    "# Columns for change\n",
    "columns_for_change_null = ['hasGarden', 'epc', 'Kitchen_type', 'State_of_building']\n",
    "\n",
    "# Replace 0 and Nan on 'null'\n",
    "data_clean_2[columns_for_change_null] = data_clean_2[columns_for_change_null].replace({0: 'null', 'Nan': 'null'})\n",
    "\n",
    "# Empty cells fill as 'null'\n",
    "data_clean_2[columns_for_change_null] = data_clean_2[columns_for_change_null].fillna('null')\n",
    "\n",
    "# Display first 5 rows\n",
    "data_clean_2.head()\n",
    "data_clean_2_shape = data_clean_2.shape"
   ]
  },
  {
   "cell_type": "markdown",
   "metadata": {},
   "source": [
    "**Removal of records - based on field values:**\n",
    "- removed duplicates\n",
    "- removed records with price, living area, or nr of bedrooms = 0"
   ]
  },
  {
   "cell_type": "code",
   "execution_count": 95,
   "metadata": {},
   "outputs": [
    {
     "name": "stdout",
     "output_type": "stream",
     "text": [
      "Number of duplicates: 905\n",
      "Number with zero price: 563\n",
      "Number with zero living area: 172\n",
      "Number with zero bedrooms: 71\n"
     ]
    },
    {
     "data": {
      "text/plain": [
       "Subtype\n",
       "House                   6188\n",
       "Villa                    865\n",
       "Mixed use building       310\n",
       "Apartment block          239\n",
       "Mansion                  161\n",
       "Exceptional property     161\n",
       "Town house               109\n",
       "Bungalow                  91\n",
       "Country cottage           90\n",
       "Farmhouse                 38\n",
       "Chalet                    13\n",
       "Manor house               10\n",
       "Castle                     8\n",
       "Other property             1\n",
       "Name: count, dtype: int64"
      ]
     },
     "execution_count": 95,
     "metadata": {},
     "output_type": "execute_result"
    }
   ],
   "source": [
    "# Copy dataframe contents to a new dataframe, via removal of duplicates\n",
    "data_clean_3 = data_clean_2.drop_duplicates(subset=['latitude', 'longitude', 'street', 'number', 'Subtype'])\n",
    "duplicates = data_clean_2[data_clean_2.duplicated(subset=['latitude', 'longitude', 'street', 'number', 'Subtype'])]\n",
    "\n",
    "# Remove lines where 'Price' is = 0\n",
    "count_price_zero = (data_clean_3['Price'] == 0).sum()\n",
    "data_clean_3 = data_clean_3[data_clean_3['Price'] != 0]\n",
    "\n",
    "# Remove lines where 'Living area' is = 0\n",
    "count_living_area_zero = (data_clean_3['Living_area'] == 0).sum()\n",
    "data_clean_3 = data_clean_3[data_clean_3['Living_area'] != 0]\n",
    "\n",
    "# Remove lines where 'Number_of_bedrooms' is = 0\n",
    "count_bedrooms_zero = (data_clean_3['Number_of_bedrooms'] == 0).sum()\n",
    "data_clean_3 = data_clean_3[data_clean_3['Number_of_bedrooms'] != 0]\n",
    "\n",
    "data_clean_3_shape = data_clean_3.shape\n",
    "\n",
    "print(\"Number of duplicates:\", len(duplicates))\n",
    "print(\"Number with zero price:\", count_price_zero)\n",
    "print(\"Number with zero living area:\", count_living_area_zero)\n",
    "print(\"Number with zero bedrooms:\", count_bedrooms_zero)\n",
    "\n",
    "# Checks how many properties per subtype\n",
    "data_clean_3['Subtype'].value_counts()"
   ]
  },
  {
   "cell_type": "markdown",
   "metadata": {},
   "source": [
    "**Removal of records - based on property subtypes:**\n",
    "- removed records with starting price (indicates house groups or public sales)\n",
    "- removed subtypes house group, castle, exceptional properties, 'other' properties --> these property types 'House group', 'Castle', 'Other property', 'Exceptional property' are not used in our analysis of housing and apartment prices because they represent categories that are either undefined ('other property'), not comparable ('house group'), or exceptional ('castle','expceptional property').\n",
    "- removed chalet and bungalow, as they reflect a different segment, such as trailers on a camping, tiny houses, but also villa style properties in bad shape.\n",
    "\n",
    "Our analysis focuses on more typical housing types to ensure relevance and consistency in the data. See also later for further focusing on the subtype 'House'."
   ]
  },
  {
   "cell_type": "code",
   "execution_count": 97,
   "metadata": {},
   "outputs": [
    {
     "data": {
      "text/plain": [
       "Subtype\n",
       "House                 5656\n",
       "Villa                  802\n",
       "Mixed use building     282\n",
       "Apartment block        220\n",
       "Mansion                155\n",
       "Town house             101\n",
       "Country cottage         82\n",
       "Farmhouse               36\n",
       "Manor house             10\n",
       "Name: count, dtype: int64"
      ]
     },
     "execution_count": 97,
     "metadata": {},
     "output_type": "execute_result"
    }
   ],
   "source": [
    "# Copy dataframe contents to a new dataframe\n",
    "data_clean_4 = data_clean_3.copy()\n",
    "\n",
    "# Remove lines where 'Starting_price' is True\n",
    "count_has_starting_price = (data_clean_4['Starting_price'] == True).sum()\n",
    "data_clean_4 = data_clean_4[data_clean_4['Starting_price'] != True]\n",
    "\n",
    "# Cleaning data from subtypes that are not our focus:\n",
    "\n",
    "subtypes_to_remove = ['House group', 'Chalet', 'Bungalow', 'Castle', 'Other property', 'Exceptional property']\n",
    "count_subtypes_removed = (data_clean_4['Subtype'].isin(subtypes_to_remove)).sum()\n",
    "data_clean_4 = data_clean_4[~data_clean_4['Subtype'].isin(subtypes_to_remove)]\n",
    "\n",
    "# Display info on the dataframe\n",
    "data_clean_4_shape = data_clean_4.shape\n",
    "\n",
    "# Checks how many properties per subtype\n",
    "data_clean_4['Subtype'].value_counts()"
   ]
  },
  {
   "cell_type": "markdown",
   "metadata": {},
   "source": [
    "**Removing unnecessary columns**"
   ]
  },
  {
   "cell_type": "code",
   "execution_count": 98,
   "metadata": {},
   "outputs": [],
   "source": [
    "# Removing unnecessary columns\n",
    "columns_to_drop = ['Number_of_rooms', 'sale_annuity', 'Starting_price', 'Type_of_sale', 'hasGarden']\n",
    "data_clean_5 = data_clean_4.drop(columns=columns_to_drop, errors='ignore')\n",
    "\n",
    "# Display info on the dataframe\n",
    "data_clean_5_shape = data_clean_5.shape"
   ]
  },
  {
   "cell_type": "markdown",
   "metadata": {},
   "source": [
    "**Saving data to a new .csv file and a .pkl file**"
   ]
  },
  {
   "cell_type": "code",
   "execution_count": 99,
   "metadata": {},
   "outputs": [],
   "source": [
    "# Save data to new csv file\n",
    "\n",
    "output_csv = r'..\\data\\clean\\after_step_1_cleaning.csv'  # Fill your path to file\n",
    "data_clean_5.to_csv(output_csv, index=False)\n",
    "\n",
    "# Save data to new pkl file\n",
    "\n",
    "import pickle\n",
    "output_pkl= r'..\\data\\clean\\after_step_1_cleaning.pkl' # Fill your path to file\n",
    "with open(output_pkl, 'wb') as f:\n",
    "    pickle.dump(data_clean_5, f)"
   ]
  },
  {
   "cell_type": "markdown",
   "metadata": {},
   "source": [
    "**Summary of cleaning operation:**"
   ]
  },
  {
   "cell_type": "code",
   "execution_count": 102,
   "metadata": {},
   "outputs": [
    {
     "name": "stdout",
     "output_type": "stream",
     "text": [
      "Info on dataframe at start of the first cleaning step:\n",
      "<class 'pandas.core.frame.DataFrame'>\n",
      "RangeIndex: 9995 entries, 0 to 9994\n",
      "Data columns (total 29 columns):\n",
      " #   Column              Non-Null Count  Dtype  \n",
      "---  ------              --------------  -----  \n",
      " 0   id                  9995 non-null   int64  \n",
      " 1   locality_name       9995 non-null   object \n",
      " 2   Postal_code         9995 non-null   object \n",
      " 3   Price               9340 non-null   float64\n",
      " 4   Subtype             9995 non-null   object \n",
      " 5   Number_of_rooms     3328 non-null   float64\n",
      " 6   Number_of_bedrooms  9356 non-null   float64\n",
      " 7   Living_area         9170 non-null   float64\n",
      " 8   sale_annuity        16 non-null     object \n",
      " 9   Type_of_sale        9995 non-null   object \n",
      " 10  street              9700 non-null   object \n",
      " 11  number              9589 non-null   object \n",
      " 12  latitude            9705 non-null   float64\n",
      " 13  longitude           9705 non-null   float64\n",
      " 14  Open_fire           9995 non-null   bool   \n",
      " 15  Swimming_Pool       3859 non-null   object \n",
      " 16  hasTerrace          6416 non-null   object \n",
      " 17  terraceSurface      3218 non-null   float64\n",
      " 18  hasGarden           3844 non-null   object \n",
      " 19  gardenSurface       3844 non-null   float64\n",
      " 20  Kitchen_type        6033 non-null   object \n",
      " 21  Number_of_facades   7601 non-null   float64\n",
      " 22  State_of_building   8497 non-null   object \n",
      " 23  Furnished           3936 non-null   object \n",
      " 24  Starting_price      4406 non-null   object \n",
      " 25  epc                 8945 non-null   object \n",
      " 26  landSurface         7830 non-null   float64\n",
      " 27  price_per_sqm       9154 non-null   float64\n",
      " 28  price_per_sqm_land  7819 non-null   float64\n",
      "dtypes: bool(1), float64(12), int64(1), object(15)\n",
      "memory usage: 2.1+ MB\n",
      "Dataframe shape after scraping:  (9995, 29)\n",
      "Dataframe shape after cosmetic cleanup:  (9995, 29)\n",
      "Dataframe shape after removal of records - based on assumptions on missing values:  (9995, 29)\n",
      "Amount of duplicates:  905\n",
      "Amount with zero price:  563\n",
      "Amount with zero living area:  172\n",
      "Amount with zero bedrooms:  71\n",
      "Dataframe shape after removal of records - based on field values:  (8284, 29)\n",
      "Amount removed with starting price:  684\n",
      "Amount removed on subtype:  256\n",
      "Dataframe shape after removal of records - based on property subtypes:  (7344, 29)\n",
      "Dataframe shape after removal of unnecessary columns:  (7344, 24)\n",
      "The CSV file was saved as ..\\data\\clean\\after_step_1_cleaning.csv and pickled to ..\\data\\clean\\after_step_1_cleaning.pkl.\n",
      "Info on dataframe at the end of the first cleaning step:\n",
      "<class 'pandas.core.frame.DataFrame'>\n",
      "Index: 7344 entries, 0 to 9994\n",
      "Data columns (total 24 columns):\n",
      " #   Column              Non-Null Count  Dtype  \n",
      "---  ------              --------------  -----  \n",
      " 0   id                  7344 non-null   int64  \n",
      " 1   locality_name       7344 non-null   object \n",
      " 2   Postal_code         7344 non-null   object \n",
      " 3   Price               7344 non-null   Int64  \n",
      " 4   Subtype             7344 non-null   object \n",
      " 5   Number_of_bedrooms  7344 non-null   Int64  \n",
      " 6   Living_area         7344 non-null   Int64  \n",
      " 7   street              7344 non-null   object \n",
      " 8   number              7318 non-null   object \n",
      " 9   latitude            7335 non-null   float64\n",
      " 10  longitude           7335 non-null   float64\n",
      " 11  Open_fire           7344 non-null   Int64  \n",
      " 12  Swimming_Pool       7344 non-null   Int64  \n",
      " 13  hasTerrace          7344 non-null   Int64  \n",
      " 14  terraceSurface      7344 non-null   Int64  \n",
      " 15  gardenSurface       7344 non-null   Int64  \n",
      " 16  Kitchen_type        7344 non-null   object \n",
      " 17  Number_of_facades   7344 non-null   Int64  \n",
      " 18  State_of_building   7344 non-null   object \n",
      " 19  Furnished           7344 non-null   Int64  \n",
      " 20  epc                 7344 non-null   object \n",
      " 21  landSurface         6293 non-null   float64\n",
      " 22  price_per_sqm       7344 non-null   float64\n",
      " 23  price_per_sqm_land  6293 non-null   float64\n",
      "dtypes: Int64(10), float64(5), int64(1), object(8)\n",
      "memory usage: 1.5+ MB\n"
     ]
    }
   ],
   "source": [
    "\n",
    "print(\"Info on dataframe at start of the first cleaning step:\")\n",
    "data_scraped.info()\n",
    "print(\"Dataframe shape after scraping: \", data_scraped_shape) \n",
    "print(\"Dataframe shape after cosmetic cleanup: \", data_clean_1_shape)\n",
    "print(\"Dataframe shape after removal of records - based on assumptions on missing values: \", data_clean_2_shape)\n",
    "\n",
    "print(\"Amount of duplicates: \", len(duplicates))\n",
    "print(\"Amount with zero price: \", count_price_zero)\n",
    "print(\"Amount with zero living area: \", count_living_area_zero)\n",
    "print(\"Amount with zero bedrooms: \", count_bedrooms_zero)\n",
    "print(\"Dataframe shape after removal of records - based on field values: \", data_clean_3_shape)\n",
    "\n",
    "print(\"Amount removed with starting price: \", count_has_starting_price)\n",
    "print(\"Amount removed on subtype: \", count_subtypes_removed)\n",
    "print(\"Dataframe shape after removal of records - based on property subtypes: \", data_clean_4_shape)\n",
    "\n",
    "print(\"Dataframe shape after removal of unnecessary columns: \", data_clean_5_shape)\n",
    "print(f\"The CSV file was saved as {output_csv} and pickled to {output_pkl}.\")\n",
    "print(\"Info on dataframe at the end of the first cleaning step:\")\n",
    "data_clean_5.info()"
   ]
  }
 ],
 "metadata": {
  "kernelspec": {
   "display_name": ".venv",
   "language": "python",
   "name": "python3"
  },
  "language_info": {
   "codemirror_mode": {
    "name": "ipython",
    "version": 3
   },
   "file_extension": ".py",
   "mimetype": "text/x-python",
   "name": "python",
   "nbconvert_exporter": "python",
   "pygments_lexer": "ipython3",
   "version": "3.12.6"
  }
 },
 "nbformat": 4,
 "nbformat_minor": 2
}
