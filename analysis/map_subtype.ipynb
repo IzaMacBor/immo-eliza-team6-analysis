{
 "cells": [
  {
   "cell_type": "code",
   "execution_count": 7,
   "metadata": {},
   "outputs": [
    {
     "name": "stdout",
     "output_type": "stream",
     "text": [
      "<class 'pandas.core.frame.DataFrame'>\n",
      "RangeIndex: 9995 entries, 0 to 9994\n",
      "Data columns (total 27 columns):\n",
      " #   Column              Non-Null Count  Dtype  \n",
      "---  ------              --------------  -----  \n",
      " 0   id                  9995 non-null   int64  \n",
      " 1   locality_name       9995 non-null   object \n",
      " 2   Postal_code         9995 non-null   object \n",
      " 3   Price               9340 non-null   float64\n",
      " 4   Subtype             9995 non-null   object \n",
      " 5   Number_of_rooms     3328 non-null   float64\n",
      " 6   Number_of_bedrooms  9356 non-null   float64\n",
      " 7   Living_area         9170 non-null   float64\n",
      " 8   sale_annuity        16 non-null     object \n",
      " 9   Type_of_sale        9995 non-null   object \n",
      " 10  street              9700 non-null   object \n",
      " 11  number              9589 non-null   object \n",
      " 12  latitude            9705 non-null   float64\n",
      " 13  longitude           9705 non-null   float64\n",
      " 14  Open_fire           9995 non-null   bool   \n",
      " 15  Swimming_Pool       3859 non-null   object \n",
      " 16  hasTerrace          6416 non-null   object \n",
      " 17  terraceSurface      3218 non-null   float64\n",
      " 18  hasGarden           3844 non-null   object \n",
      " 19  gardenSurface       3844 non-null   float64\n",
      " 20  Kitchen_type        6033 non-null   object \n",
      " 21  Number_of_facades   7601 non-null   float64\n",
      " 22  State_of_building   8497 non-null   object \n",
      " 23  Furnished           3936 non-null   object \n",
      " 24  Starting_price      4406 non-null   object \n",
      " 25  epc                 8945 non-null   object \n",
      " 26  landSurface         7830 non-null   float64\n",
      "dtypes: bool(1), float64(10), int64(1), object(15)\n",
      "memory usage: 2.0+ MB\n"
     ]
    }
   ],
   "source": [
    "import pandas as pd\n",
    "\n",
    "file_path =  r'C:\\Users\\Rik\\Desktop\\immo-eliza-team6-analysis\\data\\raw\\immo_scraper_merged_with_landsurface.csv'\n",
    "\n",
    "df = pd.read_csv(file_path, sep = ',')\n",
    "\n",
    "df.info()"
   ]
  },
  {
   "cell_type": "code",
   "execution_count": 8,
   "metadata": {},
   "outputs": [
    {
     "data": {
      "text/plain": [
       "np.float64(0.0)"
      ]
     },
     "execution_count": 8,
     "metadata": {},
     "output_type": "execute_result"
    }
   ],
   "source": [
    "#Check the missing values\n",
    "df['Subtype'].isnull().mean()*100"
   ]
  },
  {
   "cell_type": "code",
   "execution_count": 9,
   "metadata": {},
   "outputs": [
    {
     "data": {
      "text/plain": [
       "np.int64(0)"
      ]
     },
     "execution_count": 9,
     "metadata": {},
     "output_type": "execute_result"
    }
   ],
   "source": [
    "df['Subtype'].isnull().sum()"
   ]
  },
  {
   "cell_type": "code",
   "execution_count": 10,
   "metadata": {},
   "outputs": [
    {
     "data": {
      "text/plain": [
       "Subtype\n",
       "HOUSE                   6912\n",
       "VILLA                   1051\n",
       "HOUSE_GROUP              639\n",
       "MIXED_USE_BUILDING       356\n",
       "APARTMENT_BLOCK          273\n",
       "EXCEPTIONAL_PROPERTY     188\n",
       "MANSION                  181\n",
       "TOWN_HOUSE               114\n",
       "BUNGALOW                 100\n",
       "COUNTRY_COTTAGE           99\n",
       "FARMHOUSE                 47\n",
       "CHALET                    14\n",
       "MANOR_HOUSE               10\n",
       "CASTLE                     8\n",
       "OTHER_PROPERTY             3\n",
       "Name: count, dtype: int64"
      ]
     },
     "execution_count": 10,
     "metadata": {},
     "output_type": "execute_result"
    }
   ],
   "source": [
    "frequency = df['Subtype'].value_counts()\n",
    "frequency"
   ]
  },
  {
   "cell_type": "code",
   "execution_count": 11,
   "metadata": {},
   "outputs": [
    {
     "data": {
      "text/plain": [
       "Subtype\n",
       "HOUSE                   7026\n",
       "VILLA                   1242\n",
       "HOUSE_GROUP              639\n",
       "COMMERCIAL               629\n",
       "EXCEPTIONAL_PROPERTY     188\n",
       "FARMHOUSE                146\n",
       "BUNGALOW                 100\n",
       "CHALET                    14\n",
       "CASTLE                     8\n",
       "OTHER_PROPERTY             3\n",
       "Name: count, dtype: int64"
      ]
     },
     "execution_count": 11,
     "metadata": {},
     "output_type": "execute_result"
    }
   ],
   "source": [
    "\n",
    "\n",
    "category_map = {'MANSION': 'VILLA', 'MANOR_HOUSE': 'VILLA', 'COUNTRY_COTTAGE':'FARMHOUSE','TOWN_HOUSE':'HOUSE','MIXED_USE_BUILDING':'COMMERCIAL','APARTMENT_BLOCK':'COMMERCIAL'}\n",
    "df['Subtype'] = df['Subtype'].map(category_map).fillna(df['Subtype'])\n",
    "\n",
    "frequency = df['Subtype'].value_counts()\n",
    "frequency"
   ]
  }
 ],
 "metadata": {
  "kernelspec": {
   "display_name": ".immoelizateam",
   "language": "python",
   "name": "python3"
  },
  "language_info": {
   "codemirror_mode": {
    "name": "ipython",
    "version": 3
   },
   "file_extension": ".py",
   "mimetype": "text/x-python",
   "name": "python",
   "nbconvert_exporter": "python",
   "pygments_lexer": "ipython3",
   "version": "3.12.4"
  }
 },
 "nbformat": 4,
 "nbformat_minor": 2
}
