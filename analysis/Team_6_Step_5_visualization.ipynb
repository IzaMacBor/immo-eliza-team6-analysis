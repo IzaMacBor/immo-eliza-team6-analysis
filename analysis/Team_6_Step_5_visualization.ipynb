{
 "cells": [
  {
   "cell_type": "markdown",
   "metadata": {},
   "source": [
    "placeholder"
   ]
  },
  {
   "cell_type": "markdown",
   "metadata": {},
   "source": [
    "Notes on color pallette:\n",
    "- qualitative palettes, good for representing categorical data: sns.color_palette(\"colorblind\")\n",
    "- sequential palettes, good for representing numeric data:  Seaborn includes four perceptually uniform sequential colormaps: \"rocket\", \"mako\", \"flare\", and \"crest\". sns.color_palette(\"rocket\", as_cmap=True) or discrete sns.color_palette(\"rocket\")\n",
    "- diverging palettes, good for representing numeric data with a categorical boundary (data where both large low and high values are interesting and span a midpoint value (often 0) that should be de-emphasized) --> 'vlag' or 'icefire' sns.color_palette(\"vlag\", as_cmap=True)\n",
    "\n",
    "- Apply the default theme\n",
    "sns.set_theme()\n",
    "sns.set_style(\"whitegrid\")\n",
    "sns.color_palette(\"colorblind\")"
   ]
  }
 ],
 "metadata": {
  "language_info": {
   "name": "python"
  }
 },
 "nbformat": 4,
 "nbformat_minor": 2
}
