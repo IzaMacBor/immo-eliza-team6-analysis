{
 "cells": [
  {
   "cell_type": "markdown",
   "metadata": {},
   "source": [
    "placeholder"
   ]
  },
  {
   "cell_type": "markdown",
   "metadata": {},
   "source": [
    "Notes on color pallette:\n",
    "- qualitative palettes, good for representing categorical data: sns.color_palette(\"colorblind\")\n",
    "- sequential palettes, good for representing numeric data:  Seaborn includes four perceptually uniform sequential colormaps: \"rocket\", \"mako\", \"flare\", and \"crest\". sns.color_palette(\"rocket\", as_cmap=True) or discrete sns.color_palette(\"rocket\")\n",
    "- diverging palettes, good for representing numeric data with a categorical boundary (data where both large low and high values are interesting and span a midpoint value (often 0) that should be de-emphasized) --> 'vlag' or 'icefire' sns.color_palette(\"vlag\", as_cmap=True)\n",
    "\n",
    "- Apply the default theme\n",
    "sns.set_theme()\n",
    "sns.set_style(\"whitegrid\")\n",
    "sns.color_palette(\"colorblind\")"
   ]
  },
  {
   "cell_type": "code",
   "execution_count": 1,
   "metadata": {},
   "outputs": [],
   "source": [
    "# Importing required packages and modules\n",
    "import numpy as np\n",
    "import pandas as pd\n",
    "import seaborn as sns\n",
    "import matplotlib.pyplot as plt\n",
    "from scipy.stats import pointbiserialr\n",
    "from scipy.stats import spearmanr\n",
    "\n",
    "import geopandas as gpd\n",
    "from shapely.geometry import Point\n",
    "import folium\n",
    "from IPython.display import IFrame\n",
    "import webbrowser"
   ]
  },
  {
   "cell_type": "code",
   "execution_count": 2,
   "metadata": {},
   "outputs": [],
   "source": [
    "# Overview and grouping of the datacolumns for loop later on\n",
    "numerical_columns = ['Price','price_per_sqm','price_per_sqm_land','Living_area','gardenSurface', 'terraceSurface','Number_of_facades','Number_of_bedrooms']\n",
    "categorical_columns = ['Subtype','Kitchen_type','State_of_building','epc','Postal_code','Province', 'Assigned_City']\n",
    "binary_columns = ['Swimming_Pool','Open_fire','Furnished', 'Has_Assigned_City'] # 'hasTerrace', not reliably maintained so leaving it out of analyzing/visualization"
   ]
  },
  {
   "cell_type": "markdown",
   "metadata": {},
   "source": [
    "**Generating a pandas dataframe from the source .pkl file**"
   ]
  },
  {
   "cell_type": "code",
   "execution_count": 3,
   "metadata": {},
   "outputs": [
    {
     "name": "stdout",
     "output_type": "stream",
     "text": [
      "<class 'pandas.core.frame.DataFrame'>\n",
      "Index: 4180 entries, 0 to 5923\n",
      "Data columns (total 36 columns):\n",
      " #   Column                     Non-Null Count  Dtype   \n",
      "---  ------                     --------------  -----   \n",
      " 0   id                         4180 non-null   Int64   \n",
      " 1   locality_name              4180 non-null   category\n",
      " 2   Postal_code                4180 non-null   int64   \n",
      " 3   Price                      4180 non-null   Int64   \n",
      " 4   Subtype                    4180 non-null   int64   \n",
      " 5   Number_of_bedrooms         4180 non-null   Int64   \n",
      " 6   Living_area                4180 non-null   Int64   \n",
      " 7   street                     4180 non-null   category\n",
      " 8   number                     4165 non-null   category\n",
      " 9   latitude                   4180 non-null   float64 \n",
      " 10  longitude                  4180 non-null   float64 \n",
      " 11  Open_fire                  4180 non-null   int64   \n",
      " 12  Swimming_Pool              4180 non-null   int64   \n",
      " 13  hasTerrace                 2813 non-null   object  \n",
      " 14  terraceSurface             4180 non-null   Int64   \n",
      " 15  gardenSurface              4180 non-null   Int64   \n",
      " 16  Kitchen_type               4180 non-null   int64   \n",
      " 17  Number_of_facades          4180 non-null   Int64   \n",
      " 18  State_of_building          4180 non-null   int64   \n",
      " 19  Furnished                  4180 non-null   int64   \n",
      " 20  epc                        4180 non-null   int64   \n",
      " 21  landSurface                4180 non-null   Int64   \n",
      " 22  price_per_sqm              4180 non-null   float64 \n",
      " 23  price_per_sqm_land         4180 non-null   float64 \n",
      " 24  Province                   4180 non-null   int64   \n",
      " 25  Assigned_City              4180 non-null   int64   \n",
      " 26  Has_Assigned_City          4180 non-null   int64   \n",
      " 27  Assigned_City_5            425 non-null    object  \n",
      " 28  Has_Assigned_City_5        4180 non-null   bool    \n",
      " 29  Assigned_City_10           1726 non-null   object  \n",
      " 30  Has_Assigned_City_10       4180 non-null   bool    \n",
      " 31  Assigned_City_15           3034 non-null   object  \n",
      " 32  Has_Assigned_City_15       4180 non-null   bool    \n",
      " 33  Kitchen_type_encoded       4180 non-null   int64   \n",
      " 34  State_of_building_encoded  4180 non-null   int64   \n",
      " 35  EPC_encoded                4180 non-null   int64   \n",
      "dtypes: Int64(8), bool(3), category(3), float64(4), int64(14), object(4)\n",
      "memory usage: 1.1+ MB\n"
     ]
    }
   ],
   "source": [
    "# Set options to show all columns\n",
    "pd.set_option('display.max_columns', None)\n",
    "\n",
    "# Load .pkl file and generate pandas dataframe\n",
    "input_pkl = r'..\\data\\clean\\after_step_4_correlation.pkl' # Fill your path to file\n",
    "df_1 = pd.read_pickle(input_pkl)\n",
    "\n",
    "df_1_shape = df_1.shape # Pass the shape of the dataframe to a variable for summary at end of the outlier detection and removal part\n",
    "df_1.info()"
   ]
  },
  {
   "cell_type": "markdown",
   "metadata": {},
   "source": [
    "**PRICES IN BELGIUM**"
   ]
  },
  {
   "cell_type": "code",
   "execution_count": null,
   "metadata": {},
   "outputs": [],
   "source": [
    "# Load data from a CSV file\n",
    "df = pd.read_csv(r'..\\data\\clean\\after_step_4_correlation.csv')\n",
    "\n",
    "# Creating point geometry with Longitude and Latitude\n",
    "geometry = [Point(xy) for xy in zip(df['longitude'], df['latitude'])]\n",
    "\n",
    "# Create GeoDataFrame\n",
    "gdf = gpd.GeoDataFrame(df, geometry=geometry)\n",
    "\n",
    "# Setting the reference frame (CRS), e.g. EPSG:4326\n",
    "gdf.set_crs(epsg=4326, inplace=True)\n",
    "\n",
    "# Load administrative boundaries (e.g. Belgium)\n",
    "# Replace 'path/to/belgium_shapefile.shp' with the path to your file\n",
    "# Downloaded from: https://gadm.org/download_country.html#google_vignette\n",
    "borders = gpd.read_file(r\"C:\\Users\\izama\\Desktop\\gadm41_BEL_shp\\gadm41_BEL_3.shp\")\n",
    "\n",
    "# Set the frame of reference for the boundaries if different (for example EPSG:4326)\n",
    "#borders = borders.to_crs(epsg=4326)\n",
    "\n",
    "# Visualization\n",
    "fig, ax = plt.subplots(figsize=(10, 10))\n",
    "\n",
    "# Draw administrative boundaries on the map\n",
    "borders.plot(ax=ax, color='white', edgecolor='black', linewidth=1) \n",
    "\n",
    "# Draw price points (Price)\n",
    "scatter = gdf.plot(ax=ax, \n",
    "                   column='Price', \n",
    "                   cmap='viridis',  # Color map\n",
    "                   legend=True, \n",
    "                   markersize=10)\n",
    "\n",
    "# Add a legend\n",
    "handles, labels = scatter.get_legend_handles_labels()\n",
    "ax.legend(handles, [f'{int(float(label))}' for label in labels])\n",
    "\n",
    "plt.title('Prices in Belgium')\n",
    "plt.xlabel('Longitude')\n",
    "##plt.ylabel('Latitude')\n",
    "#plt.grid()\n",
    "#plt.show()\n"
   ]
  },
  {
   "cell_type": "markdown",
   "metadata": {},
   "source": [
    "**PRICE DISTRIBUTION**"
   ]
  },
  {
   "cell_type": "code",
   "execution_count": null,
   "metadata": {},
   "outputs": [],
   "source": [
    "plotx= sns.histplot(df, x= 'Price', kde=True, binwidth=10000, binrange=(0, 900000)\n",
    "                    )\n",
    "plotx.set(xlim=(0, 900000))"
   ]
  },
  {
   "cell_type": "code",
   "execution_count": null,
   "metadata": {},
   "outputs": [],
   "source": [
    "plotx= sns.histplot(df, x= 'Price', kde=True, hue = \"region\", binwidth=10000, binrange=(0, 1000000))\n",
    "plotx.set(xlim=(0, 800000))"
   ]
  },
  {
   "cell_type": "markdown",
   "metadata": {},
   "source": [
    "**CORRELATION MATRIX**"
   ]
  },
  {
   "cell_type": "code",
   "execution_count": null,
   "metadata": {},
   "outputs": [],
   "source": [
    "# Step 1: select categorical and binary columns\n",
    "non_numerical_columns = categorical_columns + binary_columns\n",
    "all_data_columns = numerical_columns + non_numerical_columns\n",
    "\n",
    "# Step2: Encode the non-numerical columns to numerical values using pd.factorize and keep the other data columns intact in the dataframe\n",
    "df_1_encoded = df_1[non_numerical_columns].apply(lambda x: pd.factorize(x)[0]) #code to encode an keep only the altered columns\n",
    "df_1[non_numerical_columns] = df_1[non_numerical_columns].apply(lambda x: pd.factorize(x)[0]) # code to keep the other data columns intact in the dataframe\n",
    "\n",
    "# Step 3: Calculate Spearman's correlation coefficient --> choose\n",
    "#spearman_correlation_matrix = df_1_encoded.corr(method='spearman')\n",
    "spearman_correlation_matrix = df_1[all_data_columns].corr(method='spearman')\n",
    "\n",
    "# Step 4: Display the coefficients table\n",
    "print(\"Spearman's Correlation Matrix:\\n\", spearman_correlation_matrix)\n",
    "\n",
    "# Step 5: Create a heat map matrix\n",
    "# # Create a mask to hide the upper triangle\n",
    "mask = np.triu(np.ones_like(spearman_correlation_matrix, dtype=bool))\n",
    "\n",
    "plt.figure(figsize=(12, 10))\n",
    "sns.heatmap(spearman_correlation_matrix, annot=True, fmt='.2f', cmap='coolwarm', square=True, cbar_kws={\"shrink\": .8}, mask=mask)\n",
    "\n",
    "# Add title\n",
    "plt.title('Spearman Correlation Coefficients Matrix', fontsize=16)\n",
    "plt.xticks(rotation=45)  # Rotate x-axis labels\n",
    "plt.yticks(rotation=0)   # Y-axis labels horizontal\n",
    "plt.tight_layout()       # Automatically adjust layout\n",
    "plt.show()"
   ]
  },
  {
   "cell_type": "markdown",
   "metadata": {},
   "source": [
    "**EPC**"
   ]
  },
  {
   "cell_type": "code",
   "execution_count": null,
   "metadata": {},
   "outputs": [],
   "source": [
    "plotx= sns.histplot(df, x= 'Price', kde=True, hue = \"epc\", binwidth=50000, binrange=(0, 1000000), stat='density', element = \"step\", common_norm=False)\n",
    "\n",
    "plotx.set(xlim=(0, 800000))\n",
    "\n",
    "# Set labels and title\n",
    "plotx.set_xlabel('Price', fontsize=14)\n",
    "plotx.set_ylabel('Percentage (%)', fontsize=14)\n",
    "plotx.set_title('Price Distribution by EPC (normalized)', fontsize=16)"
   ]
  },
  {
   "cell_type": "code",
   "execution_count": null,
   "metadata": {},
   "outputs": [],
   "source": [
    "sorted_df2 = df.sort_values(by='epc')\n",
    "\n",
    "plot = sns.boxplot(x='epc', y='Price', data=sorted_df2,  legend = False)\n",
    "plt.xticks(fontsize=12)\n",
    "plt.show()"
   ]
  },
  {
   "cell_type": "markdown",
   "metadata": {},
   "source": [
    "**STATE OF THE BUILDING**"
   ]
  },
  {
   "cell_type": "code",
   "execution_count": null,
   "metadata": {},
   "outputs": [],
   "source": [
    "plotx= sns.histplot(df, x= 'Price', kde=True, hue = \"State_of_building\", binwidth=50000, binrange=(0, 1000000), stat='density', element = \"step\", common_norm=False)\n",
    "\n",
    "plotx.set(xlim=(0, 800000))\n",
    "\n",
    "# Set labels and title\n",
    "plotx.set_xlabel('Price', fontsize=14)\n",
    "plotx.set_ylabel('Percentage (%)', fontsize=14)\n",
    "plotx.set_title('Price Distribution by State of building (normalized)', fontsize=16)"
   ]
  },
  {
   "cell_type": "markdown",
   "metadata": {},
   "source": [
    "**NUMBER OF BEDROOMS**"
   ]
  },
  {
   "cell_type": "code",
   "execution_count": null,
   "metadata": {},
   "outputs": [],
   "source": [
    "sorted_df3 = df.sort_values(by='Number_of_bedrooms')\n",
    "\n",
    "plot = sns.boxplot(x='Number_of_bedrooms', y='Price', data=sorted_df3,  legend = False)\n",
    "plt.xticks(fontsize=12)\n",
    "plt.show()"
   ]
  },
  {
   "cell_type": "markdown",
   "metadata": {},
   "source": [
    "**LOCATION**"
   ]
  },
  {
   "cell_type": "code",
   "execution_count": null,
   "metadata": {},
   "outputs": [],
   "source": [
    "#flanders_df = df[df['region'] == \"Flanders\"]\n",
    "\n",
    "plotx= sns.histplot(df, x= 'Price', kde=True, hue = \"Province\", binwidth=20000, binrange=(0, 1000000), alpha=0.5)\n",
    "plotx.set(xlim=(0, 800000))\n",
    "\n"
   ]
  },
  {
   "cell_type": "code",
   "execution_count": null,
   "metadata": {},
   "outputs": [],
   "source": [
    "df['Has_Assigned_City'] = df['Has_Assigned_City']\n",
    "plotx= sns.histplot(df, x= 'Price', kde=True, hue = \"Has_Assigned_City\", binwidth=20000, binrange=(0, 1000000), alpha=0.5)\n",
    "plotx.set(xlim=(0, 800000))\n",
    "\n",
    "print(df['Has_Assigned_City'].value_counts())\n"
   ]
  },
  {
   "cell_type": "markdown",
   "metadata": {},
   "source": [
    "**INTERACTIVE MAP**"
   ]
  },
  {
   "cell_type": "code",
   "execution_count": null,
   "metadata": {},
   "outputs": [],
   "source": [
    "import folium\n",
    "import pandas as pd\n",
    "import branca\n",
    "\n",
    "# Set options to show all columns\n",
    "pd.set_option('display.max_columns', None)\n",
    "\n",
    "# Load CSV file and generate pandas DataFrame\n",
    "input_csv = r'C:\\Users\\izama\\Desktop\\immo-eliza-team6-analysis\\immo-eliza-team6-analysis\\data\\clean\\after_step_4_correlation.csv'  # Fill your path to file\n",
    "df_1 = pd.read_csv(input_csv, sep=',')\n",
    "\n",
    "# Step 1: Ensure that 'locality_name' is of type str\n",
    "# Use df_1 instead of df\n",
    "if 'locality_name' in df_1.columns:\n",
    "    df_1['locality_name'] = df_1['locality_name'].astype(str)\n",
    "else:\n",
    "    print(\"Column 'locality_name' does not exist in the DataFrame.\")\n",
    "\n",
    "# Step 2: Calculate the average price for each locality name\n",
    "postal_avg_price = df_1.groupby('locality_name').agg({\n",
    "    'Price': 'mean',\n",
    "    'latitude': 'mean',    # Take the average coordinates for each group of locality names\n",
    "    'longitude': 'mean'\n",
    "}).reset_index()\n",
    "\n",
    "# Step 3: Define price ranges and assign colors\n",
    "def price_color(price):\n",
    "    if price < 100000:\n",
    "        return 'green'\n",
    "    elif price < 200000:\n",
    "        return 'orange'\n",
    "    elif price < 300000:\n",
    "        return 'red'\n",
    "    else:\n",
    "        return 'darkred'\n",
    "\n",
    "# Step 4: Create a map with Folium\n",
    "m = folium.Map(location=[50.5039, 4.4699], zoom_start=8)  # Centered on Belgium\n",
    "\n",
    "# Step 5: Adding markers for each locality name with average price information\n",
    "for i, row in postal_avg_price.iterrows():\n",
    "    folium.CircleMarker(\n",
    "        location=[row['latitude'], row['longitude']],\n",
    "        radius=5,  # You can adjust the size of the marker based on the average price\n",
    "        popup=f\"City Name: {row['locality_name']}<br>Average Price: €{row['Price']:.2f}\",\n",
    "        color=price_color(row['Price']),  # Use the function to determine the color\n",
    "        fill=True,\n",
    "        fill_color=price_color(row['Price']),\n",
    "        fill_opacity=0.6\n",
    "    ).add_to(m)\n",
    "\n",
    "# Step 6: Create a legend\n",
    "color_scale = branca.colormap.StepColormap(['green', 'orange', 'red', 'darkred'], \n",
    "                                             vmin=0, vmax=400000, \n",
    "                                             index=[0, 100000, 200000, 300000, 400000], \n",
    "                                             caption='Average Price (€)')\n",
    "\n",
    "# Add the legend to the map\n",
    "color_scale.add_to(m)\n",
    "\n",
    "# Step 7: Save the map to an HTML file\n",
    "#m.save(\"average_price_by_locality_map.html\")\n",
    "\n",
    "# You can now open the HTML file to see the map\n",
    "m\n",
    "\n"
   ]
  }
 ],
 "metadata": {
  "kernelspec": {
   "display_name": "Python 3",
   "language": "python",
   "name": "python3"
  },
  "language_info": {
   "codemirror_mode": {
    "name": "ipython",
    "version": 3
   },
   "file_extension": ".py",
   "mimetype": "text/x-python",
   "name": "python",
   "nbconvert_exporter": "python",
   "pygments_lexer": "ipython3",
   "version": "3.12.6"
  }
 },
 "nbformat": 4,
 "nbformat_minor": 2
}
